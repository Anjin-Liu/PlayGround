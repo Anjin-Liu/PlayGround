{
 "cells": [
  {
   "cell_type": "markdown",
   "metadata": {
    "ExecuteTime": {
     "end_time": "2020-03-03T23:34:38.198969Z",
     "start_time": "2020-03-03T23:33:36.633401Z"
    }
   },
   "source": [
    "# Import Package"
   ]
  },
  {
   "cell_type": "code",
   "execution_count": 1,
   "metadata": {
    "ExecuteTime": {
     "end_time": "2020-03-30T03:45:51.920219Z",
     "start_time": "2020-03-30T03:45:50.304628Z"
    }
   },
   "outputs": [],
   "source": [
    "from datetime import datetime\n",
    "\n",
    "import pandas as pd\n",
    "import numpy as np\n",
    "\n",
    "import matplotlib.pyplot as plt\n",
    "\n",
    "from sklearn.preprocessing import LabelEncoder\n",
    "from sklearn.model_selection import train_test_split\n",
    "from sklearn.model_selection import KFold\n",
    "from sklearn.metrics import mean_squared_error\n",
    "from sklearn.metrics import mean_absolute_error"
   ]
  },
  {
   "cell_type": "markdown",
   "metadata": {},
   "source": [
    "# Global Parameters"
   ]
  },
  {
   "cell_type": "code",
   "execution_count": 2,
   "metadata": {
    "ExecuteTime": {
     "end_time": "2020-03-30T03:45:51.925845Z",
     "start_time": "2020-03-30T03:45:51.921925Z"
    }
   },
   "outputs": [],
   "source": [
    "OTR_Folder = 'Data/OTR/'\n",
    "DAR_Folder = 'Data/Dart/'\n",
    "OTR_path_dict = {}\n",
    "DAR_path_dict = {}\n",
    "for i in range(1,13):\n",
    "    if i < 10:\n",
    "        OTR_path_dict[i] = OTR_Folder + 'OTR_20190' + str(i) + '.csv'\n",
    "        DAR_path_dict[i] = DAR_Folder + 'Dart_20190' + str(i) + '.csv'\n",
    "    else:\n",
    "        OTR_path_dict[i] = OTR_Folder + 'OTR_2019' + str(i) + '.csv'\n",
    "        DAR_path_dict[i] = DAR_Folder + 'Dart_2019' + str(i) + '.csv'"
   ]
  },
  {
   "cell_type": "markdown",
   "metadata": {},
   "source": [
    "# Loading Data"
   ]
  },
  {
   "cell_type": "code",
   "execution_count": 3,
   "metadata": {
    "ExecuteTime": {
     "end_time": "2020-03-30T03:46:17.444875Z",
     "start_time": "2020-03-30T03:45:51.927309Z"
    }
   },
   "outputs": [
    {
     "name": "stdout",
     "output_type": "stream",
     "text": [
      "Loading Train Data Sets\n",
      "Loading Test Data Sets\n"
     ]
    }
   ],
   "source": [
    "data_main_path = 'Data/Dart/'\n",
    "data_trai_path_list = [1, 2, 3, 4, 5, 6, 7, 8, 9, 10, 11, 12]\n",
    "data_test_path_list = []\n",
    "\n",
    "data_trai_list = []\n",
    "data_test_list = []\n",
    "\n",
    "print('Loading Train Data Sets')\n",
    "for Mi in data_trai_path_list:\n",
    "    trai_batch = pd.read_csv(DAR_path_dict[Mi])\n",
    "    data_trai_list.append(trai_batch)\n",
    "print('Loading Test Data Sets')\n",
    "for Mi in data_test_path_list:\n",
    "    test_batch = pd.read_csv(DAR_path_dict[Mi])\n",
    "    data_test_list.append(test_batch)"
   ]
  },
  {
   "cell_type": "markdown",
   "metadata": {},
   "source": [
    "# Preprocessing"
   ]
  },
  {
   "cell_type": "markdown",
   "metadata": {},
   "source": [
    "## Utility Functions"
   ]
  },
  {
   "cell_type": "code",
   "execution_count": 4,
   "metadata": {
    "ExecuteTime": {
     "end_time": "2020-03-30T03:46:17.455125Z",
     "start_time": "2020-03-30T03:46:17.446773Z"
    }
   },
   "outputs": [],
   "source": [
    "key_cols = [\n",
    "    'tps_planned_arrival_time', 'periods', 'station_name',\n",
    "    'trip_orgin_station', 'trip_destination_station', 'trip_duration_sec',\n",
    "    'segment_direction_name', 'tps_planned_departure_time',\n",
    "    'planned_arrival_platform', 'car1_psngld_arrive', 'car1_psngld_depart',\n",
    "    'car2_psngld_arrive', 'car2_psngld_depart', 'car3_psngld_arrive',\n",
    "    'car3_psngld_depart', 'car4_psngld_arrive', 'car4_psngld_depart',\n",
    "    'car5_psngld_arrive', 'car5_psngld_depart', 'car6_psngld_arrive',\n",
    "    'car6_psngld_depart', 'car7_psngld_arrive', 'car7_psngld_depart',\n",
    "    'car8_psngld_arrive', 'car8_psngld_depart', 'node_seq_order'\n",
    "]\n",
    "\n",
    "# Origin, Destination, Num of Stop\n",
    "\n",
    "for i in range(len(key_cols)):\n",
    "    key_cols[i] = key_cols[i].upper()\n",
    "\n",
    "\n",
    "def get_station_name_labelEncoder(df):\n",
    "    unique_station_np = df['station_name'.upper()].unique()\n",
    "    unique_station_np = np.union1d(\n",
    "        unique_station_np, df['trip_orgin_station'.upper()].unique())\n",
    "    unique_station_np = np.union1d(\n",
    "        unique_station_np, df['trip_destination_station'.upper()].unique())\n",
    "\n",
    "    sn_le = LabelEncoder()\n",
    "    sn_le.fit(unique_station_np)\n",
    "\n",
    "    df.loc[:, 'station_name'.upper()] = sn_le.transform(\n",
    "        df['station_name'.upper()])\n",
    "    df.loc[:, 'trip_orgin_station'.upper()] = sn_le.transform(\n",
    "        df['trip_orgin_station'.upper()])\n",
    "    df.loc[:, 'trip_destination_station'.upper()] = sn_le.transform(\n",
    "        df['trip_destination_station'.upper()])\n",
    "\n",
    "    return df, sn_le\n",
    "\n",
    "\n",
    "def get_platform_labelEncoder(df):\n",
    "    unique_platform_np = df['planned_arrival_platform'.upper()].unique()\n",
    "\n",
    "    p_le = LabelEncoder()\n",
    "    p_le.fit(unique_platform_np)\n",
    "\n",
    "    df.loc[:, 'planned_arrival_platform'.upper()] = p_le.transform(\n",
    "        df['planned_arrival_platform'.upper()])\n",
    "\n",
    "    return df, p_le"
   ]
  },
  {
   "cell_type": "markdown",
   "metadata": {},
   "source": [
    "## Preprocessing Function"
   ]
  },
  {
   "cell_type": "code",
   "execution_count": 5,
   "metadata": {
    "ExecuteTime": {
     "end_time": "2020-03-30T03:46:17.472656Z",
     "start_time": "2020-03-30T03:46:17.456636Z"
    }
   },
   "outputs": [],
   "source": [
    "def preprocessing(df):\n",
    "\n",
    "    # ===========================\n",
    "    # filtering key columens\n",
    "    # ===========================\n",
    "    print('Filtering Key Columns')\n",
    "    df = df[key_cols]\n",
    "\n",
    "    # ===========================\n",
    "    # convert datetime features\n",
    "    # ===========================\n",
    "    print('Converting Datetime Features')\n",
    "    df.loc[:, 'tps_planned_arrival_time'.upper()] = pd.to_datetime(\n",
    "        df['tps_planned_arrival_time'.upper()])\n",
    "    df.loc[:, 'tps_planned_departure_time'.upper()] = pd.to_datetime(\n",
    "        df['tps_planned_departure_time'.upper()])\n",
    "\n",
    "    # ===========================\n",
    "    # encoding categorical features\n",
    "    # ===========================\n",
    "    print('Encoding Categorical Features')\n",
    "    df['PERIODS'].replace('Weekend', 0, inplace=True)\n",
    "    df['PERIODS'].replace('Non-Peak', 1, inplace=True)\n",
    "    df['PERIODS'].replace('PM Peak', 2, inplace=True)\n",
    "    df['PERIODS'].replace('AM Peak', 3, inplace=True)\n",
    "    df['SEGMENT_DIRECTION_NAME'].replace('Up', 0, inplace=True)\n",
    "    df['SEGMENT_DIRECTION_NAME'].replace('Down', 1, inplace=True)\n",
    "\n",
    "    # ===========================\n",
    "    # creating dwell features\n",
    "    # ===========================\n",
    "    planned_dwell = (df['tps_planned_departure_time'.upper()] -\n",
    "                     df['tps_planned_arrival_time'.upper()]\n",
    "                     ).astype('timedelta64[s]')\n",
    "\n",
    "    df['planned_dwell'.upper()] = planned_dwell\n",
    "\n",
    "    # ===========================\n",
    "    # creating time features\n",
    "    # ===========================\n",
    "    df['time_slot'.upper()] = 0\n",
    "    time_slot_counter = 0\n",
    "    for h in range(24):\n",
    "        print('processing time slot on Hour:', h)\n",
    "        for m in range(0, 60, 5):\n",
    "            the_idx = (df['tps_planned_arrival_time'.upper()].dt.hour == h) & (\n",
    "                (df['tps_planned_arrival_time'.upper()].dt.minute >= m) &\n",
    "                (df['tps_planned_arrival_time'.upper()].dt.minute < m + 5))\n",
    "            df.loc[the_idx, 'time_slot'.upper()] = time_slot_counter\n",
    "            time_slot_counter += 1\n",
    "\n",
    "    df['day_of_week'.upper()] = df['tps_planned_arrival_time'.upper()].dt.dayofweek\n",
    "    \n",
    "    df.drop([\n",
    "        'tps_planned_arrival_time'.upper(),\n",
    "        'tps_planned_departure_time'.upper()\n",
    "    ],\n",
    "            axis=1,\n",
    "            inplace=True)\n",
    "\n",
    "    return df"
   ]
  },
  {
   "cell_type": "markdown",
   "metadata": {},
   "source": [
    "## Remove Null PSNGLD"
   ]
  },
  {
   "cell_type": "code",
   "execution_count": 6,
   "metadata": {
    "ExecuteTime": {
     "end_time": "2020-03-30T03:46:19.379480Z",
     "start_time": "2020-03-30T03:46:17.473989Z"
    }
   },
   "outputs": [
    {
     "name": "stdout",
     "output_type": "stream",
     "text": [
      "Remove rows with all CARs's weights < 30\n",
      "Month 1 before (573658, 28)\n",
      "Month 1 after  (569969, 28)\n",
      "Month 2 before (482976, 28)\n",
      "Month 2 after  (478550, 28)\n",
      "Month 3 before (555774, 28)\n",
      "Month 3 after  (551860, 28)\n",
      "Month 4 before (553348, 28)\n",
      "Month 4 after  (548819, 28)\n",
      "Month 5 before (550160, 28)\n",
      "Month 5 after  (544998, 28)\n",
      "Month 6 before (542683, 28)\n",
      "Month 6 after  (539040, 28)\n",
      "Month 7 before (554106, 28)\n",
      "Month 7 after  (547889, 28)\n",
      "Month 8 before (541757, 28)\n",
      "Month 8 after  (536010, 28)\n",
      "Month 9 before (556039, 28)\n",
      "Month 9 after  (551327, 28)\n",
      "Month 10 before (566089, 28)\n",
      "Month 10 after  (561612, 28)\n",
      "Month 11 before (519438, 28)\n",
      "Month 11 after  (514257, 28)\n",
      "Month 12 before (544240, 28)\n",
      "Month 12 after  (538698, 28)\n"
     ]
    }
   ],
   "source": [
    "WEIGHT_THRESHOLD = 30\n",
    "print('Remove rows with all CARs\\'s weights <', WEIGHT_THRESHOLD)\n",
    "for i in range(len(data_trai_list)):\n",
    "    print('Month', i + 1, 'before', data_trai_list[i].shape)\n",
    "    PSNGLD_FEATURES = [\n",
    "        'CAR1_PSNGLD_DEPART',\n",
    "        'CAR2_PSNGLD_DEPART',\n",
    "        'CAR3_PSNGLD_DEPART',\n",
    "        'CAR4_PSNGLD_DEPART',\n",
    "        'CAR5_PSNGLD_DEPART',\n",
    "        'CAR6_PSNGLD_DEPART',\n",
    "        'CAR7_PSNGLD_DEPART',\n",
    "        'CAR8_PSNGLD_DEPART',\n",
    "    ]\n",
    "    #df[ ~ df['DEPARTUE_CARx'] == 0]\n",
    "    left_idx = ~ (data_trai_list[i][PSNGLD_FEATURES] <= WEIGHT_THRESHOLD).all(axis=1)\n",
    "    data_trai_list[i] = data_trai_list[i].loc[left_idx]\n",
    "    \n",
    "    print('Month', i + 1, 'after ', data_trai_list[i].shape)"
   ]
  },
  {
   "cell_type": "code",
   "execution_count": 7,
   "metadata": {
    "ExecuteTime": {
     "end_time": "2020-03-30T03:46:21.046294Z",
     "start_time": "2020-03-30T03:46:19.381110Z"
    }
   },
   "outputs": [
    {
     "name": "stdout",
     "output_type": "stream",
     "text": [
      "Remove Invaliad Data Instances\n",
      "Month 1 before (569969, 28)\n",
      "Month 1 after  (555473, 28)\n",
      "Month 2 before (478550, 28)\n",
      "Month 2 after  (465365, 28)\n",
      "Month 3 before (551860, 28)\n",
      "Month 3 after  (537151, 28)\n",
      "Month 4 before (548819, 28)\n",
      "Month 4 after  (533492, 28)\n",
      "Month 5 before (544998, 28)\n",
      "Month 5 after  (531453, 28)\n",
      "Month 6 before (539040, 28)\n",
      "Month 6 after  (524819, 28)\n",
      "Month 7 before (547889, 28)\n",
      "Month 7 after  (533715, 28)\n",
      "Month 8 before (536010, 28)\n",
      "Month 8 after  (493747, 28)\n",
      "Month 9 before (551327, 28)\n",
      "Month 9 after  (533015, 28)\n",
      "Month 10 before (561612, 28)\n",
      "Month 10 after  (547762, 28)\n",
      "Month 11 before (514257, 28)\n",
      "Month 11 after  (498680, 28)\n",
      "Month 12 before (538698, 28)\n",
      "Month 12 after  (521302, 28)\n"
     ]
    }
   ],
   "source": [
    "print('Remove Invaliad Data Instances')\n",
    "for i in range(len(data_trai_list)):\n",
    "    print('Month', i + 1, 'before', data_trai_list[i].shape)\n",
    "    PSNGLD_FEATURES = [\n",
    "        'CAR1_PSNGLD_DEPART',\n",
    "        'CAR2_PSNGLD_DEPART',\n",
    "        'CAR3_PSNGLD_DEPART',\n",
    "        'CAR4_PSNGLD_DEPART',\n",
    "        'CAR5_PSNGLD_DEPART',\n",
    "        'CAR6_PSNGLD_DEPART',\n",
    "        'CAR7_PSNGLD_DEPART',\n",
    "        'CAR8_PSNGLD_DEPART',\n",
    "        'CAR1_PSNGLD_ARRIVE',\n",
    "        'CAR2_PSNGLD_ARRIVE',\n",
    "        'CAR3_PSNGLD_ARRIVE',\n",
    "        'CAR4_PSNGLD_ARRIVE',\n",
    "        'CAR5_PSNGLD_ARRIVE',\n",
    "        'CAR6_PSNGLD_ARRIVE',\n",
    "        'CAR7_PSNGLD_ARRIVE',\n",
    "        'CAR8_PSNGLD_ARRIVE',\n",
    "    ]\n",
    "\n",
    "    data_trai_list[i] = data_trai_list[i].dropna(how='any', subset=PSNGLD_FEATURES)\n",
    "    print('Month', i + 1, 'after ', data_trai_list[i].shape)"
   ]
  },
  {
   "cell_type": "markdown",
   "metadata": {},
   "source": [
    "## Sampling and Preprocessing"
   ]
  },
  {
   "cell_type": "code",
   "execution_count": 8,
   "metadata": {
    "ExecuteTime": {
     "end_time": "2020-03-30T03:47:31.975404Z",
     "start_time": "2020-03-30T03:46:21.047673Z"
    }
   },
   "outputs": [
    {
     "name": "stdout",
     "output_type": "stream",
     "text": [
      "Sampling 20000 data instances from each Month with r_seed 1\n",
      "Preprocessing sampled data\n",
      "Filtering Key Columns\n",
      "Converting Datetime Features\n"
     ]
    },
    {
     "name": "stderr",
     "output_type": "stream",
     "text": [
      "/data/anjliu/venv_kaggle_nfl/lib/python3.6/site-packages/pandas/core/indexing.py:494: SettingWithCopyWarning: \n",
      "A value is trying to be set on a copy of a slice from a DataFrame.\n",
      "Try using .loc[row_indexer,col_indexer] = value instead\n",
      "\n",
      "See the caveats in the documentation: http://pandas.pydata.org/pandas-docs/stable/user_guide/indexing.html#returning-a-view-versus-a-copy\n",
      "  self.obj[item] = s\n"
     ]
    },
    {
     "name": "stdout",
     "output_type": "stream",
     "text": [
      "Encoding Categorical Features\n",
      "processing time slot on Hour: 0\n"
     ]
    },
    {
     "name": "stderr",
     "output_type": "stream",
     "text": [
      "/data/anjliu/venv_kaggle_nfl/lib/python3.6/site-packages/pandas/core/generic.py:6786: SettingWithCopyWarning: \n",
      "A value is trying to be set on a copy of a slice from a DataFrame\n",
      "\n",
      "See the caveats in the documentation: http://pandas.pydata.org/pandas-docs/stable/user_guide/indexing.html#returning-a-view-versus-a-copy\n",
      "  self._update_inplace(new_data)\n",
      "/data/anjliu/venv_kaggle_nfl/lib/python3.6/site-packages/ipykernel_launcher.py:36: SettingWithCopyWarning: \n",
      "A value is trying to be set on a copy of a slice from a DataFrame.\n",
      "Try using .loc[row_indexer,col_indexer] = value instead\n",
      "\n",
      "See the caveats in the documentation: http://pandas.pydata.org/pandas-docs/stable/user_guide/indexing.html#returning-a-view-versus-a-copy\n"
     ]
    },
    {
     "name": "stdout",
     "output_type": "stream",
     "text": [
      "processing time slot on Hour: 1\n",
      "processing time slot on Hour: 2\n",
      "processing time slot on Hour: 3\n",
      "processing time slot on Hour: 4\n",
      "processing time slot on Hour: 5\n",
      "processing time slot on Hour: 6\n",
      "processing time slot on Hour: 7\n",
      "processing time slot on Hour: 8\n",
      "processing time slot on Hour: 9\n",
      "processing time slot on Hour: 10\n",
      "processing time slot on Hour: 11\n",
      "processing time slot on Hour: 12\n",
      "processing time slot on Hour: 13\n",
      "processing time slot on Hour: 14\n",
      "processing time slot on Hour: 15\n",
      "processing time slot on Hour: 16\n",
      "processing time slot on Hour: 17\n",
      "processing time slot on Hour: 18\n",
      "processing time slot on Hour: 19\n",
      "processing time slot on Hour: 20\n",
      "processing time slot on Hour: 21\n",
      "processing time slot on Hour: 22\n",
      "processing time slot on Hour: 23\n"
     ]
    }
   ],
   "source": [
    "sample_size = 20000\n",
    "r_seed = 1\n",
    "print('Sampling', sample_size, 'data instances', 'from each Month with r_seed',\n",
    "      r_seed)\n",
    "data_trai_list_sampled = []\n",
    "for df_m in data_trai_list:\n",
    "    df_m_sample = df_m.sample(n=sample_size, random_state=r_seed)\n",
    "    data_trai_list_sampled.append(df_m_sample)\n",
    "   \n",
    "print('Preprocessing sampled data')\n",
    "data = pd.concat(data_trai_list_sampled, axis=0)\n",
    "data = preprocessing(data)\n",
    "\n",
    "temp_data = data.copy()\n",
    "df_data, station_labelencoder = get_station_name_labelEncoder(temp_data)\n",
    "df_data, platform_labelencoder = get_platform_labelEncoder(df_data)"
   ]
  },
  {
   "cell_type": "markdown",
   "metadata": {},
   "source": [
    "## Spliting Features for Each Car"
   ]
  },
  {
   "cell_type": "code",
   "execution_count": 9,
   "metadata": {
    "ExecuteTime": {
     "end_time": "2020-03-30T03:47:32.020831Z",
     "start_time": "2020-03-30T03:47:31.977205Z"
    }
   },
   "outputs": [],
   "source": [
    "X_col = [\n",
    "    'PERIODS', 'STATION_NAME', 'TRIP_ORGIN_STATION',\n",
    "    'TRIP_DESTINATION_STATION', 'SEGMENT_DIRECTION_NAME',\n",
    "    'PLANNED_ARRIVAL_PLATFORM', 'CAR1_PSNGLD_ARRIVE', 'CAR2_PSNGLD_ARRIVE',\n",
    "    'CAR3_PSNGLD_ARRIVE', 'CAR4_PSNGLD_ARRIVE', 'CAR5_PSNGLD_ARRIVE',\n",
    "    'CAR6_PSNGLD_ARRIVE', 'CAR7_PSNGLD_ARRIVE', 'CAR8_PSNGLD_ARRIVE',\n",
    "    'NODE_SEQ_ORDER', 'PLANNED_DWELL', 'TIME_SLOT', 'DAY_OF_WEEK'\n",
    "]\n",
    "\n",
    "cat_features = [\n",
    "    'periods',\n",
    "    'station_name',\n",
    "    'trip_orgin_station',\n",
    "    'trip_destination_station',\n",
    "    'planned_arrival_platform',\n",
    "    'day_of_week',\n",
    "    'time_slot'\n",
    "]\n",
    "\n",
    "for i in range(len(cat_features)):\n",
    "    cat_features[i] = cat_features[i].upper()\n",
    "    \n",
    "for c in cat_features:\n",
    "    df_data[c] = df_data[c].astype('category')\n",
    "    \n",
    "X = df_data[X_col]\n",
    "Y_car_dict = {}\n",
    "\n",
    "for car_id in range(1, 9):\n",
    "    Y_car_dict[car_id] = df_data['CAR' + str(car_id) + '_PSNGLD_DEPART']"
   ]
  },
  {
   "cell_type": "markdown",
   "metadata": {},
   "source": [
    "# Training Model"
   ]
  },
  {
   "cell_type": "markdown",
   "metadata": {},
   "source": [
    "For each learning method\n",
    "\n",
    "you will be given three fixed paramters\n",
    "* x_train\n",
    "* y_train\n",
    "* car_id\n",
    "\n",
    "and you need to return a model that has the function\n",
    "* predict(x) -> y_hat\n",
    "\n",
    "The parameters for your learning model can be passed through the\n",
    "* **kwargs argument"
   ]
  },
  {
   "cell_type": "markdown",
   "metadata": {},
   "source": [
    "## Build Model Main Function"
   ]
  },
  {
   "cell_type": "code",
   "execution_count": 10,
   "metadata": {
    "ExecuteTime": {
     "end_time": "2020-03-30T03:47:32.034203Z",
     "start_time": "2020-03-30T03:47:32.023158Z"
    }
   },
   "outputs": [],
   "source": [
    "def build_model(X, Y_car_dict, num_car, num_month, learning_method, **kwargs):\n",
    "    car_Mi_dict = {}\n",
    "    for car_id in range(1, num_car + 1):\n",
    "        Mi_dict = {}\n",
    "        Mi = 1\n",
    "        # ===================================#\n",
    "        # This kFold is to split data set as #\n",
    "        # 11 Months Train and 1 Month Test   #\n",
    "        # ===================================#\n",
    "        kf = KFold(n_splits=num_month, shuffle=False)\n",
    "        for train_index, test_index in kf.split(X):\n",
    "\n",
    "            x_train = X.iloc[train_index]\n",
    "            y_train = Y_car_dict[car_id].iloc[train_index]\n",
    "            x_valid = X.iloc[test_index]\n",
    "            y_valid = Y_car_dict[car_id].iloc[test_index]\n",
    "\n",
    "            # *********************************** #\n",
    "            # !!!!!!!!!!!!!!!!!!!!!!!!!!!!!!!!!!! #\n",
    "            # This is where your method is called #\n",
    "            # !!!!!!!!!!!!!!!!!!!!!!!!!!!!!!!!!!! #\n",
    "            # *********************************** #\n",
    "            model = learning_method(x_train, y_train, car_id, **kwargs)\n",
    "            \n",
    "            # ========== #\n",
    "            # Prediction #\n",
    "            # ========== #\n",
    "            pred = model.predict(x_valid)\n",
    "            \n",
    "            # ============== #\n",
    "            # Result Summary #\n",
    "            # ============== #\n",
    "            result = np.vstack([\n",
    "                y_valid, pred, x_valid['PLANNED_ARRIVAL_PLATFORM'].values,\n",
    "                x_valid['PERIODS'].values\n",
    "            ])\n",
    "\n",
    "            Mi_dict[Mi] = result\n",
    "            Mi = Mi + 1\n",
    "\n",
    "            mae = mean_absolute_error(y_valid, pred)\n",
    "            print('Car', car_id, 'Month', Mi-1, 'MAE:', mae)\n",
    "        car_Mi_dict[car_id] = Mi_dict\n",
    "    return car_Mi_dict\n",
    "\n",
    "# valid, pred, platform, periods, Month, car_id\n",
    "# platform, month, periods, car1_residual, ...,\n",
    "def process_result_to_dataframe(result_dict):\n",
    "    result_pd_list = []\n",
    "    for car_id in result_dict.keys():\n",
    "        #print(lgb_result_pack_dict[car_id])\n",
    "        car_id_np = None\n",
    "        for Mi in result_dict[car_id].keys():\n",
    "            result_size = result_dict[car_id][Mi].shape[1]\n",
    "            if car_id_np is None:\n",
    "                car_id_np = np.zeros(result_size)\n",
    "                car_id_np = car_id_np + car_id\n",
    "            month_np = np.zeros(result_size)\n",
    "            month_np = month_np + Mi\n",
    "            result_stack = np.vstack(\n",
    "                [result_dict[car_id][Mi], month_np, car_id_np])\n",
    "            result_df = pd.DataFrame(result_stack.T)\n",
    "            result_df.columns = [\n",
    "                'valid', 'pred', 'platform', 'periods', 'month', 'car_id'\n",
    "            ]\n",
    "            result_pd_list.append(result_df)\n",
    "    result_pd = pd.concat(result_pd_list, axis=0)\n",
    "    return result_pd\n",
    "\n"
   ]
  },
  {
   "cell_type": "markdown",
   "metadata": {},
   "source": [
    "## Baseline Model"
   ]
  },
  {
   "cell_type": "code",
   "execution_count": 11,
   "metadata": {
    "ExecuteTime": {
     "end_time": "2020-03-30T03:47:32.047257Z",
     "start_time": "2020-03-30T03:47:32.035769Z"
    }
   },
   "outputs": [],
   "source": [
    "class baseline:\n",
    "    def __init__(self, car_id):\n",
    "        self.car_id = car_id\n",
    "    def predict(self, X):\n",
    "        if self.car_id not in [1, 2, 3, 4, 5, 6, 7, 8]:\n",
    "            return 0\n",
    "        result = X.copy()['CAR' + str(car_id) + '_PSNGLD_ARRIVE']\n",
    "        result.replace(np.nan, 0, inplace=True)\n",
    "        return result    \n",
    "    \n",
    "def baseline_model(x_train, y_train, car_id):\n",
    "    model = baseline(car_id)\n",
    "    return model"
   ]
  },
  {
   "cell_type": "markdown",
   "metadata": {},
   "source": [
    "## Linear Regression Model"
   ]
  },
  {
   "cell_type": "code",
   "execution_count": 12,
   "metadata": {
    "ExecuteTime": {
     "end_time": "2020-03-30T03:47:32.090501Z",
     "start_time": "2020-03-30T03:47:32.048723Z"
    }
   },
   "outputs": [],
   "source": [
    "from sklearn.linear_model import LinearRegression\n",
    "\n",
    "class myLR:\n",
    "    def __init__(self):\n",
    "        self.LR = LinearRegression()\n",
    "\n",
    "    def fit(self, X, Y):\n",
    "        self.LR.fit(X, Y)\n",
    "\n",
    "    def predict(self, X):\n",
    "        return self.LR.predict(X)\n",
    "    \n",
    "def build_LR(x_train, y_train, car_id):\n",
    "    model = myLR()\n",
    "    model.fit(x_train, y_train)\n",
    "    return model"
   ]
  },
  {
   "cell_type": "markdown",
   "metadata": {},
   "source": [
    "## LightGBM Model"
   ]
  },
  {
   "cell_type": "code",
   "execution_count": 13,
   "metadata": {
    "ExecuteTime": {
     "end_time": "2020-03-30T03:47:32.114415Z",
     "start_time": "2020-03-30T03:47:32.091906Z"
    }
   },
   "outputs": [],
   "source": [
    "import lightgbm as lgb\n",
    "params = {\n",
    "    'boosting_type': 'gbdt',\n",
    "    'objective': 'regression',\n",
    "    'metric': 'rmse',\n",
    "    'max_depth': 8,\n",
    "    'num_leaves': 80,\n",
    "    'learning_rate': 0.05\n",
    "}\n",
    "\n",
    "n_estimators = 1000\n",
    "\n",
    "class LGB:\n",
    "    def __init__(self, params, n_estimators, cat_features, X_valid, Y_valid):\n",
    "        self.params = params\n",
    "        self.n_estimators = n_estimators\n",
    "        self.cat_features = cat_features\n",
    "        data_valid = lgb.Dataset(X_valid,\n",
    "                                 label=Y_valid,\n",
    "                                 categorical_feature=cat_features)\n",
    "        watchlist = [data_valid]\n",
    "        self.watchlist = watchlist\n",
    "        self.lgb = None\n",
    "\n",
    "    def fit(self, X, Y):\n",
    "        data_train = lgb.Dataset(X,\n",
    "                                 label=Y,\n",
    "                                 categorical_feature=self.cat_features)\n",
    "        self.lgb = lgb.train(params,\n",
    "                             data_train,\n",
    "                             self.n_estimators,\n",
    "                             self.watchlist,\n",
    "                             verbose_eval=-1)\n",
    "\n",
    "    def predict(self, X):\n",
    "        return self.lgb.predict(X)\n",
    "\n",
    "\n",
    "class Ensemble:\n",
    "    def __init__(self, estimators):\n",
    "        self.estimators = estimators\n",
    "\n",
    "    def predict(self, X):\n",
    "        pred = None\n",
    "        for e in self.estimators:\n",
    "            if pred is None:\n",
    "                pred = e.predict(X)\n",
    "            else:\n",
    "                pred = pred + e.predict(X)\n",
    "        return pred / len(self.estimators)\n",
    "\n",
    "\n",
    "def lgb_ensemble(x_train, y_train, car_id, num_ensemble, test_size, r_seed):\n",
    "    ensemblers_car = []\n",
    "    for i in range(num_ensemble):\n",
    "        x_train_inFold, x_valid_inFold, y_train_inFold, y_valid_inFold = train_test_split(\n",
    "            x_train, y_train, test_size=test_size, random_state=r_seed + i)\n",
    "\n",
    "        ensembler = LGB(params, n_estimators, cat_features, x_valid_inFold, y_valid_inFold)\n",
    "        ensembler.fit(x_train_inFold, y_train_inFold)\n",
    "        ensemblers_car.append(ensembler)\n",
    "\n",
    "    model = Ensemble(ensemblers_car)\n",
    "    return model"
   ]
  },
  {
   "cell_type": "markdown",
   "metadata": {},
   "source": [
    "## Random Forest Regressor"
   ]
  },
  {
   "cell_type": "code",
   "execution_count": 14,
   "metadata": {
    "ExecuteTime": {
     "end_time": "2020-03-30T03:47:32.168933Z",
     "start_time": "2020-03-30T03:47:32.116003Z"
    }
   },
   "outputs": [],
   "source": [
    "from sklearn.ensemble import RandomForestRegressor\n",
    "\n",
    "class myRFR:\n",
    "    def __init__(self, n_estimator, max_depth, random_state):\n",
    "        self.n_estimator = n_estimator\n",
    "        self.max_depth = max_depth\n",
    "        self.random_state = random_state\n",
    "        self.RFR = RandomForestRegressor()\n",
    "\n",
    "    def fit(self, X, Y):\n",
    "        self.RFR.fit(X, Y)\n",
    "\n",
    "    def predict(self, X):\n",
    "        return self.RFR.predict(X)\n",
    "    \n",
    "def build_RFR(x_train, y_train, car_id, n_estimator, max_depth, random_state):\n",
    "    model = myRFR(n_estimator, max_depth, random_state)\n",
    "    model.fit(x_train, y_train)\n",
    "    return model"
   ]
  },
  {
   "cell_type": "markdown",
   "metadata": {},
   "source": [
    "## Deep Neural Network"
   ]
  },
  {
   "cell_type": "code",
   "execution_count": 63,
   "metadata": {
    "ExecuteTime": {
     "end_time": "2020-03-30T06:06:26.781367Z",
     "start_time": "2020-03-30T06:06:26.776128Z"
    }
   },
   "outputs": [],
   "source": [
    "from sklearn.neural_network import MLPRegressor\n",
    "\n",
    "class myDNN:\n",
    "    def __init__(self):\n",
    "        self.DNN = MLPRegressor(hidden_layer_sizes = (20), \n",
    "                                activation = 'relu', \n",
    "                                solver = 'adam', \n",
    "                                learning_rate = 'adaptive', \n",
    "                                alpha = 0.0001, \n",
    "                                random_state = 123)\n",
    "\n",
    "    def fit(self, X, Y):\n",
    "        self.DNN.fit(X, Y)\n",
    "\n",
    "    def predict(self, X):\n",
    "        return self.DNN.predict(X)\n",
    "    \n",
    "def build_DNN(x_train, y_train, car_id):\n",
    "    model = myDNN()\n",
    "    model.fit(x_train, y_train)\n",
    "    return model"
   ]
  },
  {
   "cell_type": "markdown",
   "metadata": {},
   "source": [
    "## Add New Model  "
   ]
  },
  {
   "cell_type": "markdown",
   "metadata": {},
   "source": [
    "  \n",
    "  \n",
    "  \n",
    "  \n",
    "\n",
    "\n",
    "<span style=\"font-size:3em;\">This is just an template !</span>  \n",
    "\n",
    "\n",
    "\n",
    "\n",
    "\n",
    "**Please DO NOT deletec this template**  \n",
    "**Please DO NOT deletec this template**  \n",
    "**Please DO NOT deletec this template**  "
   ]
  },
  {
   "cell_type": "code",
   "execution_count": 16,
   "metadata": {
    "ExecuteTime": {
     "end_time": "2020-03-30T03:47:32.185520Z",
     "start_time": "2020-03-30T03:47:32.180466Z"
    }
   },
   "outputs": [],
   "source": [
    "class new_model:\n",
    "    def __init__(self):\n",
    "        pass\n",
    "\n",
    "    def fit(self, X, Y):\n",
    "        pass\n",
    "\n",
    "    def predict(self, X):\n",
    "        return np.zeros(X.shape[0])\n",
    "\n",
    "\n",
    "def build_new_model(x_train, y_train, car_id, **kwargs):\n",
    "    model = new_model()\n",
    "    model.fit(x_train, y_train)\n",
    "    return model"
   ]
  },
  {
   "cell_type": "code",
   "execution_count": 17,
   "metadata": {
    "ExecuteTime": {
     "end_time": "2020-03-30T03:47:32.196682Z",
     "start_time": "2020-03-30T03:47:32.186644Z"
    }
   },
   "outputs": [],
   "source": [
    "# raw_result = build_model(X,\n",
    "#                          Y_car_dict,\n",
    "#                          num_car=1,\n",
    "#                          num_month=12,\n",
    "#                          learning_method=build_new_model)\n",
    "\n",
    "# df_result = process_result_to_dataframe(raw_result)\n",
    "# print('Total MAE', mean_absolute_error(df_result.valid, df_result.pred))"
   ]
  },
  {
   "cell_type": "markdown",
   "metadata": {},
   "source": [
    "# Run Evaluation"
   ]
  },
  {
   "cell_type": "markdown",
   "metadata": {},
   "source": [
    "## Evaluate Baseline Model"
   ]
  },
  {
   "cell_type": "code",
   "execution_count": 18,
   "metadata": {
    "ExecuteTime": {
     "end_time": "2020-03-30T03:47:34.405144Z",
     "start_time": "2020-03-30T03:47:32.197846Z"
    },
    "scrolled": true
   },
   "outputs": [
    {
     "name": "stdout",
     "output_type": "stream",
     "text": [
      "Car 1 Month 1 MAE: 827.5455\n",
      "Car 1 Month 2 MAE: 824.268\n",
      "Car 1 Month 3 MAE: 696.015\n",
      "Car 1 Month 4 MAE: 674.113\n",
      "Car 1 Month 5 MAE: 702.002\n",
      "Car 1 Month 6 MAE: 655.532\n",
      "Car 1 Month 7 MAE: 657.741\n",
      "Car 1 Month 8 MAE: 692.0515\n",
      "Car 1 Month 9 MAE: 649.046\n",
      "Car 1 Month 10 MAE: 648.298\n",
      "Car 1 Month 11 MAE: 667.7545\n",
      "Car 1 Month 12 MAE: 585.767\n",
      "Car 2 Month 1 MAE: 831.752\n",
      "Car 2 Month 2 MAE: 941.5995\n",
      "Car 2 Month 3 MAE: 961.7085\n",
      "Car 2 Month 4 MAE: 907.6115\n",
      "Car 2 Month 5 MAE: 981.1445\n",
      "Car 2 Month 6 MAE: 929.948\n",
      "Car 2 Month 7 MAE: 940.656\n",
      "Car 2 Month 8 MAE: 983.6555\n",
      "Car 2 Month 9 MAE: 935.908\n",
      "Car 2 Month 10 MAE: 946.0335\n",
      "Car 2 Month 11 MAE: 951.2905\n",
      "Car 2 Month 12 MAE: 861.0215\n",
      "Car 3 Month 1 MAE: 898.697\n",
      "Car 3 Month 2 MAE: 1036.7015\n",
      "Car 3 Month 3 MAE: 1030.9265\n",
      "Car 3 Month 4 MAE: 996.466\n",
      "Car 3 Month 5 MAE: 1067.456\n",
      "Car 3 Month 6 MAE: 1030.3055\n",
      "Car 3 Month 7 MAE: 1023.9235\n",
      "Car 3 Month 8 MAE: 1055.8665\n",
      "Car 3 Month 9 MAE: 1038.994\n",
      "Car 3 Month 10 MAE: 1045.2785\n",
      "Car 3 Month 11 MAE: 1069.8255\n",
      "Car 3 Month 12 MAE: 994.499\n",
      "Car 4 Month 1 MAE: 963.518\n",
      "Car 4 Month 2 MAE: 1104.5095\n",
      "Car 4 Month 3 MAE: 1098.908\n",
      "Car 4 Month 4 MAE: 1338.7695\n",
      "Car 4 Month 5 MAE: 1263.675\n",
      "Car 4 Month 6 MAE: 1095.4965\n",
      "Car 4 Month 7 MAE: 1076.0735\n",
      "Car 4 Month 8 MAE: 1510.6755\n",
      "Car 4 Month 9 MAE: 1082.4915\n",
      "Car 4 Month 10 MAE: 1096.519\n",
      "Car 4 Month 11 MAE: 1122.9555\n",
      "Car 4 Month 12 MAE: 1074.8615\n",
      "Car 5 Month 1 MAE: 960.1115\n",
      "Car 5 Month 2 MAE: 1102.2815\n",
      "Car 5 Month 3 MAE: 1095.1785\n",
      "Car 5 Month 4 MAE: 1435.5985\n",
      "Car 5 Month 5 MAE: 1090.7755\n",
      "Car 5 Month 6 MAE: 1092.415\n",
      "Car 5 Month 7 MAE: 1074.5165\n",
      "Car 5 Month 8 MAE: 1077.5745\n",
      "Car 5 Month 9 MAE: 1069.686\n",
      "Car 5 Month 10 MAE: 1103.175\n",
      "Car 5 Month 11 MAE: 1103.14\n",
      "Car 5 Month 12 MAE: 1081.848\n",
      "Car 6 Month 1 MAE: 873.548\n",
      "Car 6 Month 2 MAE: 1005.744\n",
      "Car 6 Month 3 MAE: 983.243\n",
      "Car 6 Month 4 MAE: 932.204\n",
      "Car 6 Month 5 MAE: 1013.6325\n",
      "Car 6 Month 6 MAE: 988.4485\n",
      "Car 6 Month 7 MAE: 984.618\n",
      "Car 6 Month 8 MAE: 989.886\n",
      "Car 6 Month 9 MAE: 972.257\n",
      "Car 6 Month 10 MAE: 1007.1705\n",
      "Car 6 Month 11 MAE: 998.16\n",
      "Car 6 Month 12 MAE: 962.9045\n",
      "Car 7 Month 1 MAE: 695.5865\n",
      "Car 7 Month 2 MAE: 963.131\n",
      "Car 7 Month 3 MAE: 841.2295\n",
      "Car 7 Month 4 MAE: 766.8565\n",
      "Car 7 Month 5 MAE: 827.6425\n",
      "Car 7 Month 6 MAE: 793.8395\n",
      "Car 7 Month 7 MAE: 789.942\n",
      "Car 7 Month 8 MAE: 813.2945\n",
      "Car 7 Month 9 MAE: 789.622\n",
      "Car 7 Month 10 MAE: 809.332\n",
      "Car 7 Month 11 MAE: 804.103\n",
      "Car 7 Month 12 MAE: 755.4925\n",
      "Car 8 Month 1 MAE: 249.784\n",
      "Car 8 Month 2 MAE: 281.1545\n",
      "Car 8 Month 3 MAE: 287.027\n",
      "Car 8 Month 4 MAE: 278.908\n",
      "Car 8 Month 5 MAE: 297.002\n",
      "Car 8 Month 6 MAE: 275.5975\n",
      "Car 8 Month 7 MAE: 287.891\n",
      "Car 8 Month 8 MAE: 294.498\n",
      "Car 8 Month 9 MAE: 285.018\n",
      "Car 8 Month 10 MAE: 288.156\n",
      "Car 8 Month 11 MAE: 288.779\n",
      "Car 8 Month 12 MAE: 239.912\n",
      "Total MAE 870.5392708333334\n"
     ]
    }
   ],
   "source": [
    "raw_result_baseline = build_model(X,\n",
    "                         Y_car_dict,\n",
    "                         num_car=8,\n",
    "                         num_month=12,\n",
    "                         learning_method=baseline_model)\n",
    "\n",
    "df_result_baseline = process_result_to_dataframe(raw_result_baseline)\n",
    "print('Total MAE', mean_absolute_error(df_result_baseline.valid, df_result_baseline.pred))"
   ]
  },
  {
   "cell_type": "markdown",
   "metadata": {},
   "source": [
    "## Evaluate Linear Model"
   ]
  },
  {
   "cell_type": "code",
   "execution_count": 19,
   "metadata": {
    "ExecuteTime": {
     "end_time": "2020-03-30T03:48:05.475139Z",
     "start_time": "2020-03-30T03:47:34.406770Z"
    },
    "scrolled": true
   },
   "outputs": [
    {
     "name": "stdout",
     "output_type": "stream",
     "text": [
      "Car 1 Month 1 MAE: 281.4292873782204\n",
      "Car 1 Month 2 MAE: 298.77541761138264\n",
      "Car 1 Month 3 MAE: 304.3749188849479\n",
      "Car 1 Month 4 MAE: 298.24098025812043\n",
      "Car 1 Month 5 MAE: 306.5845876659854\n",
      "Car 1 Month 6 MAE: 291.48603349472864\n",
      "Car 1 Month 7 MAE: 298.13700809651624\n",
      "Car 1 Month 8 MAE: 314.52835769308746\n",
      "Car 1 Month 9 MAE: 297.202179918742\n",
      "Car 1 Month 10 MAE: 299.2330489390673\n",
      "Car 1 Month 11 MAE: 306.7256316516324\n",
      "Car 1 Month 12 MAE: 264.5118404517792\n",
      "Car 2 Month 1 MAE: 364.8454510391911\n",
      "Car 2 Month 2 MAE: 401.50626430335285\n",
      "Car 2 Month 3 MAE: 403.6333668328876\n",
      "Car 2 Month 4 MAE: 395.6924092095\n",
      "Car 2 Month 5 MAE: 410.4131511304199\n",
      "Car 2 Month 6 MAE: 389.5727502269901\n",
      "Car 2 Month 7 MAE: 397.21948321890903\n",
      "Car 2 Month 8 MAE: 416.3730839524572\n",
      "Car 2 Month 9 MAE: 400.15800089641505\n",
      "Car 2 Month 10 MAE: 398.77262959270234\n",
      "Car 2 Month 11 MAE: 405.6765171330157\n",
      "Car 2 Month 12 MAE: 360.4170325255724\n",
      "Car 3 Month 1 MAE: 379.247109405111\n",
      "Car 3 Month 2 MAE: 420.6535994266838\n",
      "Car 3 Month 3 MAE: 418.6071066788152\n",
      "Car 3 Month 4 MAE: 421.5707650162473\n",
      "Car 3 Month 5 MAE: 426.51670708242904\n",
      "Car 3 Month 6 MAE: 408.55360852241154\n",
      "Car 3 Month 7 MAE: 416.28171744750085\n",
      "Car 3 Month 8 MAE: 438.0925088963412\n",
      "Car 3 Month 9 MAE: 421.6756612688747\n",
      "Car 3 Month 10 MAE: 423.8623331590401\n",
      "Car 3 Month 11 MAE: 428.03392176023954\n",
      "Car 3 Month 12 MAE: 384.98137133193705\n",
      "Car 4 Month 1 MAE: 396.9074094071143\n",
      "Car 4 Month 2 MAE: 427.67837972441\n",
      "Car 4 Month 3 MAE: 426.29728903517116\n",
      "Car 4 Month 4 MAE: 440.9741214999404\n",
      "Car 4 Month 5 MAE: 425.1432018675299\n",
      "Car 4 Month 6 MAE: 411.7219638717752\n",
      "Car 4 Month 7 MAE: 414.83700010467743\n",
      "Car 4 Month 8 MAE: 449.0675827810991\n",
      "Car 4 Month 9 MAE: 416.9153003566112\n",
      "Car 4 Month 10 MAE: 420.5889375523894\n",
      "Car 4 Month 11 MAE: 436.51788703736264\n",
      "Car 4 Month 12 MAE: 392.33716217431436\n",
      "Car 5 Month 1 MAE: 395.24438109745046\n",
      "Car 5 Month 2 MAE: 427.8141986664541\n",
      "Car 5 Month 3 MAE: 425.82637020632836\n",
      "Car 5 Month 4 MAE: 490.14206876064276\n",
      "Car 5 Month 5 MAE: 428.1635704231562\n",
      "Car 5 Month 6 MAE: 417.2972666770996\n",
      "Car 5 Month 7 MAE: 419.2519292454625\n",
      "Car 5 Month 8 MAE: 433.93786147483297\n",
      "Car 5 Month 9 MAE: 417.53637886622465\n",
      "Car 5 Month 10 MAE: 424.89556570891926\n",
      "Car 5 Month 11 MAE: 436.2926248922011\n",
      "Car 5 Month 12 MAE: 392.82170029824863\n",
      "Car 6 Month 1 MAE: 376.3734670847646\n",
      "Car 6 Month 2 MAE: 422.9898104622991\n",
      "Car 6 Month 3 MAE: 419.33736162849476\n",
      "Car 6 Month 4 MAE: 412.5827380046006\n",
      "Car 6 Month 5 MAE: 427.69064215668794\n",
      "Car 6 Month 6 MAE: 406.1799366722609\n",
      "Car 6 Month 7 MAE: 416.5323018127661\n",
      "Car 6 Month 8 MAE: 430.6233705924506\n",
      "Car 6 Month 9 MAE: 416.43506234196053\n",
      "Car 6 Month 10 MAE: 423.69283273391704\n",
      "Car 6 Month 11 MAE: 423.9097824780156\n",
      "Car 6 Month 12 MAE: 384.36299668674565\n",
      "Car 7 Month 1 MAE: 352.9140029168501\n",
      "Car 7 Month 2 MAE: 415.54352686985794\n",
      "Car 7 Month 3 MAE: 404.01473481730557\n",
      "Car 7 Month 4 MAE: 390.7627614231497\n",
      "Car 7 Month 5 MAE: 415.36003647143866\n",
      "Car 7 Month 6 MAE: 386.2977377709599\n",
      "Car 7 Month 7 MAE: 395.46665765817966\n",
      "Car 7 Month 8 MAE: 408.6070494689899\n",
      "Car 7 Month 9 MAE: 394.3104755844554\n",
      "Car 7 Month 10 MAE: 397.24452621297235\n",
      "Car 7 Month 11 MAE: 403.70142229530074\n",
      "Car 7 Month 12 MAE: 354.9322099672392\n",
      "Car 8 Month 1 MAE: 268.6465512115253\n",
      "Car 8 Month 2 MAE: 295.7677913942825\n",
      "Car 8 Month 3 MAE: 299.26305111752083\n",
      "Car 8 Month 4 MAE: 295.4291860621573\n",
      "Car 8 Month 5 MAE: 309.64118947131925\n",
      "Car 8 Month 6 MAE: 289.75719085816525\n",
      "Car 8 Month 7 MAE: 301.45285677697433\n",
      "Car 8 Month 8 MAE: 305.7356094801579\n",
      "Car 8 Month 9 MAE: 297.87338018133903\n",
      "Car 8 Month 10 MAE: 300.924604268697\n",
      "Car 8 Month 11 MAE: 302.4545308786733\n",
      "Car 8 Month 12 MAE: 261.2361981302262\n",
      "Total MAE 381.97753726847276\n"
     ]
    }
   ],
   "source": [
    "raw_result_LR = build_model(X,\n",
    "                         Y_car_dict,\n",
    "                         num_car=8,\n",
    "                         num_month=12,\n",
    "                         learning_method=build_LR)\n",
    "\n",
    "df_result_LR = process_result_to_dataframe(raw_result_LR)\n",
    "print('Total MAE', mean_absolute_error(df_result_LR.valid, df_result_LR.pred))"
   ]
  },
  {
   "cell_type": "markdown",
   "metadata": {},
   "source": [
    "## Evaluate LightGBM Model"
   ]
  },
  {
   "cell_type": "code",
   "execution_count": 22,
   "metadata": {
    "ExecuteTime": {
     "end_time": "2020-03-30T04:07:24.101576Z",
     "start_time": "2020-03-30T03:51:14.067237Z"
    },
    "pixiedust": {
     "displayParams": {}
    }
   },
   "outputs": [
    {
     "name": "stderr",
     "output_type": "stream",
     "text": [
      "/data/anjliu/venv_kaggle_nfl/lib/python3.6/site-packages/lightgbm/basic.py:1291: UserWarning: Using categorical_feature in Dataset.\n",
      "  warnings.warn('Using categorical_feature in Dataset.')\n"
     ]
    },
    {
     "name": "stdout",
     "output_type": "stream",
     "text": [
      "Car 1 Month 1 MAE: 189.05567949712943\n"
     ]
    },
    {
     "name": "stderr",
     "output_type": "stream",
     "text": [
      "/data/anjliu/venv_kaggle_nfl/lib/python3.6/site-packages/lightgbm/basic.py:1291: UserWarning: Using categorical_feature in Dataset.\n",
      "  warnings.warn('Using categorical_feature in Dataset.')\n"
     ]
    },
    {
     "name": "stdout",
     "output_type": "stream",
     "text": [
      "Car 1 Month 2 MAE: 187.03038608917836\n"
     ]
    },
    {
     "name": "stderr",
     "output_type": "stream",
     "text": [
      "/data/anjliu/venv_kaggle_nfl/lib/python3.6/site-packages/lightgbm/basic.py:1291: UserWarning: Using categorical_feature in Dataset.\n",
      "  warnings.warn('Using categorical_feature in Dataset.')\n"
     ]
    },
    {
     "name": "stdout",
     "output_type": "stream",
     "text": [
      "Car 1 Month 3 MAE: 190.63015048669808\n"
     ]
    },
    {
     "name": "stderr",
     "output_type": "stream",
     "text": [
      "/data/anjliu/venv_kaggle_nfl/lib/python3.6/site-packages/lightgbm/basic.py:1291: UserWarning: Using categorical_feature in Dataset.\n",
      "  warnings.warn('Using categorical_feature in Dataset.')\n"
     ]
    },
    {
     "name": "stdout",
     "output_type": "stream",
     "text": [
      "Car 1 Month 4 MAE: 189.5397260545628\n"
     ]
    },
    {
     "name": "stderr",
     "output_type": "stream",
     "text": [
      "/data/anjliu/venv_kaggle_nfl/lib/python3.6/site-packages/lightgbm/basic.py:1291: UserWarning: Using categorical_feature in Dataset.\n",
      "  warnings.warn('Using categorical_feature in Dataset.')\n"
     ]
    },
    {
     "name": "stdout",
     "output_type": "stream",
     "text": [
      "Car 1 Month 5 MAE: 184.19108141256496\n"
     ]
    },
    {
     "name": "stderr",
     "output_type": "stream",
     "text": [
      "/data/anjliu/venv_kaggle_nfl/lib/python3.6/site-packages/lightgbm/basic.py:1291: UserWarning: Using categorical_feature in Dataset.\n",
      "  warnings.warn('Using categorical_feature in Dataset.')\n"
     ]
    },
    {
     "name": "stdout",
     "output_type": "stream",
     "text": [
      "Car 1 Month 6 MAE: 180.9161866655097\n"
     ]
    },
    {
     "name": "stderr",
     "output_type": "stream",
     "text": [
      "/data/anjliu/venv_kaggle_nfl/lib/python3.6/site-packages/lightgbm/basic.py:1291: UserWarning: Using categorical_feature in Dataset.\n",
      "  warnings.warn('Using categorical_feature in Dataset.')\n"
     ]
    },
    {
     "name": "stdout",
     "output_type": "stream",
     "text": [
      "Car 1 Month 7 MAE: 178.18344521559123\n"
     ]
    },
    {
     "name": "stderr",
     "output_type": "stream",
     "text": [
      "/data/anjliu/venv_kaggle_nfl/lib/python3.6/site-packages/lightgbm/basic.py:1291: UserWarning: Using categorical_feature in Dataset.\n",
      "  warnings.warn('Using categorical_feature in Dataset.')\n"
     ]
    },
    {
     "name": "stdout",
     "output_type": "stream",
     "text": [
      "Car 1 Month 8 MAE: 189.553094989816\n"
     ]
    },
    {
     "name": "stderr",
     "output_type": "stream",
     "text": [
      "/data/anjliu/venv_kaggle_nfl/lib/python3.6/site-packages/lightgbm/basic.py:1291: UserWarning: Using categorical_feature in Dataset.\n",
      "  warnings.warn('Using categorical_feature in Dataset.')\n"
     ]
    },
    {
     "name": "stdout",
     "output_type": "stream",
     "text": [
      "Car 1 Month 9 MAE: 176.4997138135201\n"
     ]
    },
    {
     "name": "stderr",
     "output_type": "stream",
     "text": [
      "/data/anjliu/venv_kaggle_nfl/lib/python3.6/site-packages/lightgbm/basic.py:1291: UserWarning: Using categorical_feature in Dataset.\n",
      "  warnings.warn('Using categorical_feature in Dataset.')\n"
     ]
    },
    {
     "name": "stdout",
     "output_type": "stream",
     "text": [
      "Car 1 Month 10 MAE: 182.38991191865372\n"
     ]
    },
    {
     "name": "stderr",
     "output_type": "stream",
     "text": [
      "/data/anjliu/venv_kaggle_nfl/lib/python3.6/site-packages/lightgbm/basic.py:1291: UserWarning: Using categorical_feature in Dataset.\n",
      "  warnings.warn('Using categorical_feature in Dataset.')\n"
     ]
    },
    {
     "name": "stdout",
     "output_type": "stream",
     "text": [
      "Car 1 Month 11 MAE: 187.09404875151012\n"
     ]
    },
    {
     "name": "stderr",
     "output_type": "stream",
     "text": [
      "/data/anjliu/venv_kaggle_nfl/lib/python3.6/site-packages/lightgbm/basic.py:1291: UserWarning: Using categorical_feature in Dataset.\n",
      "  warnings.warn('Using categorical_feature in Dataset.')\n"
     ]
    },
    {
     "name": "stdout",
     "output_type": "stream",
     "text": [
      "Car 1 Month 12 MAE: 170.98993478087473\n"
     ]
    },
    {
     "name": "stderr",
     "output_type": "stream",
     "text": [
      "/data/anjliu/venv_kaggle_nfl/lib/python3.6/site-packages/lightgbm/basic.py:1291: UserWarning: Using categorical_feature in Dataset.\n",
      "  warnings.warn('Using categorical_feature in Dataset.')\n"
     ]
    },
    {
     "name": "stdout",
     "output_type": "stream",
     "text": [
      "Car 2 Month 1 MAE: 239.22809826078145\n"
     ]
    },
    {
     "name": "stderr",
     "output_type": "stream",
     "text": [
      "/data/anjliu/venv_kaggle_nfl/lib/python3.6/site-packages/lightgbm/basic.py:1291: UserWarning: Using categorical_feature in Dataset.\n",
      "  warnings.warn('Using categorical_feature in Dataset.')\n"
     ]
    },
    {
     "name": "stdout",
     "output_type": "stream",
     "text": [
      "Car 2 Month 2 MAE: 243.6726653775869\n"
     ]
    },
    {
     "name": "stderr",
     "output_type": "stream",
     "text": [
      "/data/anjliu/venv_kaggle_nfl/lib/python3.6/site-packages/lightgbm/basic.py:1291: UserWarning: Using categorical_feature in Dataset.\n",
      "  warnings.warn('Using categorical_feature in Dataset.')\n"
     ]
    },
    {
     "name": "stdout",
     "output_type": "stream",
     "text": [
      "Car 2 Month 3 MAE: 243.44585951304092\n"
     ]
    },
    {
     "name": "stderr",
     "output_type": "stream",
     "text": [
      "/data/anjliu/venv_kaggle_nfl/lib/python3.6/site-packages/lightgbm/basic.py:1291: UserWarning: Using categorical_feature in Dataset.\n",
      "  warnings.warn('Using categorical_feature in Dataset.')\n"
     ]
    },
    {
     "name": "stdout",
     "output_type": "stream",
     "text": [
      "Car 2 Month 4 MAE: 246.32812681475178\n"
     ]
    },
    {
     "name": "stderr",
     "output_type": "stream",
     "text": [
      "/data/anjliu/venv_kaggle_nfl/lib/python3.6/site-packages/lightgbm/basic.py:1291: UserWarning: Using categorical_feature in Dataset.\n",
      "  warnings.warn('Using categorical_feature in Dataset.')\n"
     ]
    },
    {
     "name": "stdout",
     "output_type": "stream",
     "text": [
      "Car 2 Month 5 MAE: 242.46950116311038\n"
     ]
    },
    {
     "name": "stderr",
     "output_type": "stream",
     "text": [
      "/data/anjliu/venv_kaggle_nfl/lib/python3.6/site-packages/lightgbm/basic.py:1291: UserWarning: Using categorical_feature in Dataset.\n",
      "  warnings.warn('Using categorical_feature in Dataset.')\n"
     ]
    },
    {
     "name": "stdout",
     "output_type": "stream",
     "text": [
      "Car 2 Month 6 MAE: 240.59810878862197\n"
     ]
    },
    {
     "name": "stderr",
     "output_type": "stream",
     "text": [
      "/data/anjliu/venv_kaggle_nfl/lib/python3.6/site-packages/lightgbm/basic.py:1291: UserWarning: Using categorical_feature in Dataset.\n",
      "  warnings.warn('Using categorical_feature in Dataset.')\n"
     ]
    },
    {
     "name": "stdout",
     "output_type": "stream",
     "text": [
      "Car 2 Month 7 MAE: 233.55507465164865\n"
     ]
    },
    {
     "name": "stderr",
     "output_type": "stream",
     "text": [
      "/data/anjliu/venv_kaggle_nfl/lib/python3.6/site-packages/lightgbm/basic.py:1291: UserWarning: Using categorical_feature in Dataset.\n",
      "  warnings.warn('Using categorical_feature in Dataset.')\n"
     ]
    },
    {
     "name": "stdout",
     "output_type": "stream",
     "text": [
      "Car 2 Month 8 MAE: 243.4449389274253\n"
     ]
    },
    {
     "name": "stderr",
     "output_type": "stream",
     "text": [
      "/data/anjliu/venv_kaggle_nfl/lib/python3.6/site-packages/lightgbm/basic.py:1291: UserWarning: Using categorical_feature in Dataset.\n",
      "  warnings.warn('Using categorical_feature in Dataset.')\n"
     ]
    },
    {
     "name": "stdout",
     "output_type": "stream",
     "text": [
      "Car 2 Month 9 MAE: 235.6913718443521\n"
     ]
    },
    {
     "name": "stderr",
     "output_type": "stream",
     "text": [
      "/data/anjliu/venv_kaggle_nfl/lib/python3.6/site-packages/lightgbm/basic.py:1291: UserWarning: Using categorical_feature in Dataset.\n",
      "  warnings.warn('Using categorical_feature in Dataset.')\n"
     ]
    },
    {
     "name": "stdout",
     "output_type": "stream",
     "text": [
      "Car 2 Month 10 MAE: 238.0156449838086\n"
     ]
    },
    {
     "name": "stderr",
     "output_type": "stream",
     "text": [
      "/data/anjliu/venv_kaggle_nfl/lib/python3.6/site-packages/lightgbm/basic.py:1291: UserWarning: Using categorical_feature in Dataset.\n",
      "  warnings.warn('Using categorical_feature in Dataset.')\n"
     ]
    },
    {
     "name": "stdout",
     "output_type": "stream",
     "text": [
      "Car 2 Month 11 MAE: 243.47050459636222\n"
     ]
    },
    {
     "name": "stderr",
     "output_type": "stream",
     "text": [
      "/data/anjliu/venv_kaggle_nfl/lib/python3.6/site-packages/lightgbm/basic.py:1291: UserWarning: Using categorical_feature in Dataset.\n",
      "  warnings.warn('Using categorical_feature in Dataset.')\n"
     ]
    },
    {
     "name": "stdout",
     "output_type": "stream",
     "text": [
      "Car 2 Month 12 MAE: 233.90025102542614\n"
     ]
    },
    {
     "name": "stderr",
     "output_type": "stream",
     "text": [
      "/data/anjliu/venv_kaggle_nfl/lib/python3.6/site-packages/lightgbm/basic.py:1291: UserWarning: Using categorical_feature in Dataset.\n",
      "  warnings.warn('Using categorical_feature in Dataset.')\n"
     ]
    },
    {
     "name": "stdout",
     "output_type": "stream",
     "text": [
      "Car 3 Month 1 MAE: 252.98064991798805\n"
     ]
    },
    {
     "name": "stderr",
     "output_type": "stream",
     "text": [
      "/data/anjliu/venv_kaggle_nfl/lib/python3.6/site-packages/lightgbm/basic.py:1291: UserWarning: Using categorical_feature in Dataset.\n",
      "  warnings.warn('Using categorical_feature in Dataset.')\n"
     ]
    },
    {
     "name": "stdout",
     "output_type": "stream",
     "text": [
      "Car 3 Month 2 MAE: 255.86538337891716\n"
     ]
    },
    {
     "name": "stderr",
     "output_type": "stream",
     "text": [
      "/data/anjliu/venv_kaggle_nfl/lib/python3.6/site-packages/lightgbm/basic.py:1291: UserWarning: Using categorical_feature in Dataset.\n",
      "  warnings.warn('Using categorical_feature in Dataset.')\n"
     ]
    },
    {
     "name": "stdout",
     "output_type": "stream",
     "text": [
      "Car 3 Month 3 MAE: 253.97275770879202\n"
     ]
    },
    {
     "name": "stderr",
     "output_type": "stream",
     "text": [
      "/data/anjliu/venv_kaggle_nfl/lib/python3.6/site-packages/lightgbm/basic.py:1291: UserWarning: Using categorical_feature in Dataset.\n",
      "  warnings.warn('Using categorical_feature in Dataset.')\n"
     ]
    },
    {
     "name": "stdout",
     "output_type": "stream",
     "text": [
      "Car 3 Month 4 MAE: 264.6791926944717\n"
     ]
    },
    {
     "name": "stderr",
     "output_type": "stream",
     "text": [
      "/data/anjliu/venv_kaggle_nfl/lib/python3.6/site-packages/lightgbm/basic.py:1291: UserWarning: Using categorical_feature in Dataset.\n",
      "  warnings.warn('Using categorical_feature in Dataset.')\n"
     ]
    },
    {
     "name": "stdout",
     "output_type": "stream",
     "text": [
      "Car 3 Month 5 MAE: 254.0835712894123\n"
     ]
    },
    {
     "name": "stderr",
     "output_type": "stream",
     "text": [
      "/data/anjliu/venv_kaggle_nfl/lib/python3.6/site-packages/lightgbm/basic.py:1291: UserWarning: Using categorical_feature in Dataset.\n",
      "  warnings.warn('Using categorical_feature in Dataset.')\n"
     ]
    },
    {
     "name": "stdout",
     "output_type": "stream",
     "text": [
      "Car 3 Month 6 MAE: 253.63728106371673\n"
     ]
    },
    {
     "name": "stderr",
     "output_type": "stream",
     "text": [
      "/data/anjliu/venv_kaggle_nfl/lib/python3.6/site-packages/lightgbm/basic.py:1291: UserWarning: Using categorical_feature in Dataset.\n",
      "  warnings.warn('Using categorical_feature in Dataset.')\n"
     ]
    },
    {
     "name": "stdout",
     "output_type": "stream",
     "text": [
      "Car 3 Month 7 MAE: 247.98861277473773\n"
     ]
    },
    {
     "name": "stderr",
     "output_type": "stream",
     "text": [
      "/data/anjliu/venv_kaggle_nfl/lib/python3.6/site-packages/lightgbm/basic.py:1291: UserWarning: Using categorical_feature in Dataset.\n",
      "  warnings.warn('Using categorical_feature in Dataset.')\n"
     ]
    },
    {
     "name": "stdout",
     "output_type": "stream",
     "text": [
      "Car 3 Month 8 MAE: 256.7878093037885\n"
     ]
    },
    {
     "name": "stderr",
     "output_type": "stream",
     "text": [
      "/data/anjliu/venv_kaggle_nfl/lib/python3.6/site-packages/lightgbm/basic.py:1291: UserWarning: Using categorical_feature in Dataset.\n",
      "  warnings.warn('Using categorical_feature in Dataset.')\n"
     ]
    },
    {
     "name": "stdout",
     "output_type": "stream",
     "text": [
      "Car 3 Month 9 MAE: 248.0376170888787\n"
     ]
    },
    {
     "name": "stderr",
     "output_type": "stream",
     "text": [
      "/data/anjliu/venv_kaggle_nfl/lib/python3.6/site-packages/lightgbm/basic.py:1291: UserWarning: Using categorical_feature in Dataset.\n",
      "  warnings.warn('Using categorical_feature in Dataset.')\n"
     ]
    },
    {
     "name": "stdout",
     "output_type": "stream",
     "text": [
      "Car 3 Month 10 MAE: 255.44715275207622\n"
     ]
    },
    {
     "name": "stderr",
     "output_type": "stream",
     "text": [
      "/data/anjliu/venv_kaggle_nfl/lib/python3.6/site-packages/lightgbm/basic.py:1291: UserWarning: Using categorical_feature in Dataset.\n",
      "  warnings.warn('Using categorical_feature in Dataset.')\n"
     ]
    },
    {
     "name": "stdout",
     "output_type": "stream",
     "text": [
      "Car 3 Month 11 MAE: 256.15480774158596\n"
     ]
    },
    {
     "name": "stderr",
     "output_type": "stream",
     "text": [
      "/data/anjliu/venv_kaggle_nfl/lib/python3.6/site-packages/lightgbm/basic.py:1291: UserWarning: Using categorical_feature in Dataset.\n",
      "  warnings.warn('Using categorical_feature in Dataset.')\n"
     ]
    },
    {
     "name": "stdout",
     "output_type": "stream",
     "text": [
      "Car 3 Month 12 MAE: 248.50266736394482\n"
     ]
    },
    {
     "name": "stderr",
     "output_type": "stream",
     "text": [
      "/data/anjliu/venv_kaggle_nfl/lib/python3.6/site-packages/lightgbm/basic.py:1291: UserWarning: Using categorical_feature in Dataset.\n",
      "  warnings.warn('Using categorical_feature in Dataset.')\n"
     ]
    },
    {
     "name": "stdout",
     "output_type": "stream",
     "text": [
      "Car 4 Month 1 MAE: 248.01692165182163\n"
     ]
    },
    {
     "name": "stderr",
     "output_type": "stream",
     "text": [
      "/data/anjliu/venv_kaggle_nfl/lib/python3.6/site-packages/lightgbm/basic.py:1291: UserWarning: Using categorical_feature in Dataset.\n",
      "  warnings.warn('Using categorical_feature in Dataset.')\n"
     ]
    },
    {
     "name": "stdout",
     "output_type": "stream",
     "text": [
      "Car 4 Month 2 MAE: 251.56613097496833\n"
     ]
    },
    {
     "name": "stderr",
     "output_type": "stream",
     "text": [
      "/data/anjliu/venv_kaggle_nfl/lib/python3.6/site-packages/lightgbm/basic.py:1291: UserWarning: Using categorical_feature in Dataset.\n",
      "  warnings.warn('Using categorical_feature in Dataset.')\n"
     ]
    },
    {
     "name": "stdout",
     "output_type": "stream",
     "text": [
      "Car 4 Month 3 MAE: 252.50442482514694\n"
     ]
    },
    {
     "name": "stderr",
     "output_type": "stream",
     "text": [
      "/data/anjliu/venv_kaggle_nfl/lib/python3.6/site-packages/lightgbm/basic.py:1291: UserWarning: Using categorical_feature in Dataset.\n",
      "  warnings.warn('Using categorical_feature in Dataset.')\n"
     ]
    },
    {
     "name": "stdout",
     "output_type": "stream",
     "text": [
      "Car 4 Month 4 MAE: 268.4506979391724\n"
     ]
    },
    {
     "name": "stderr",
     "output_type": "stream",
     "text": [
      "/data/anjliu/venv_kaggle_nfl/lib/python3.6/site-packages/lightgbm/basic.py:1291: UserWarning: Using categorical_feature in Dataset.\n",
      "  warnings.warn('Using categorical_feature in Dataset.')\n"
     ]
    },
    {
     "name": "stdout",
     "output_type": "stream",
     "text": [
      "Car 4 Month 5 MAE: 251.57886922126366\n"
     ]
    },
    {
     "name": "stderr",
     "output_type": "stream",
     "text": [
      "/data/anjliu/venv_kaggle_nfl/lib/python3.6/site-packages/lightgbm/basic.py:1291: UserWarning: Using categorical_feature in Dataset.\n",
      "  warnings.warn('Using categorical_feature in Dataset.')\n"
     ]
    },
    {
     "name": "stdout",
     "output_type": "stream",
     "text": [
      "Car 4 Month 6 MAE: 245.22570540210054\n"
     ]
    },
    {
     "name": "stderr",
     "output_type": "stream",
     "text": [
      "/data/anjliu/venv_kaggle_nfl/lib/python3.6/site-packages/lightgbm/basic.py:1291: UserWarning: Using categorical_feature in Dataset.\n",
      "  warnings.warn('Using categorical_feature in Dataset.')\n"
     ]
    },
    {
     "name": "stdout",
     "output_type": "stream",
     "text": [
      "Car 4 Month 7 MAE: 244.64444132474307\n"
     ]
    },
    {
     "name": "stderr",
     "output_type": "stream",
     "text": [
      "/data/anjliu/venv_kaggle_nfl/lib/python3.6/site-packages/lightgbm/basic.py:1291: UserWarning: Using categorical_feature in Dataset.\n",
      "  warnings.warn('Using categorical_feature in Dataset.')\n"
     ]
    },
    {
     "name": "stdout",
     "output_type": "stream",
     "text": [
      "Car 4 Month 8 MAE: 268.13006082916036\n"
     ]
    },
    {
     "name": "stderr",
     "output_type": "stream",
     "text": [
      "/data/anjliu/venv_kaggle_nfl/lib/python3.6/site-packages/lightgbm/basic.py:1291: UserWarning: Using categorical_feature in Dataset.\n",
      "  warnings.warn('Using categorical_feature in Dataset.')\n"
     ]
    },
    {
     "name": "stdout",
     "output_type": "stream",
     "text": [
      "Car 4 Month 9 MAE: 237.42094251585564\n"
     ]
    },
    {
     "name": "stderr",
     "output_type": "stream",
     "text": [
      "/data/anjliu/venv_kaggle_nfl/lib/python3.6/site-packages/lightgbm/basic.py:1291: UserWarning: Using categorical_feature in Dataset.\n",
      "  warnings.warn('Using categorical_feature in Dataset.')\n"
     ]
    },
    {
     "name": "stdout",
     "output_type": "stream",
     "text": [
      "Car 4 Month 10 MAE: 248.36958246943243\n"
     ]
    },
    {
     "name": "stderr",
     "output_type": "stream",
     "text": [
      "/data/anjliu/venv_kaggle_nfl/lib/python3.6/site-packages/lightgbm/basic.py:1291: UserWarning: Using categorical_feature in Dataset.\n",
      "  warnings.warn('Using categorical_feature in Dataset.')\n"
     ]
    },
    {
     "name": "stdout",
     "output_type": "stream",
     "text": [
      "Car 4 Month 11 MAE: 253.12565052603506\n"
     ]
    },
    {
     "name": "stderr",
     "output_type": "stream",
     "text": [
      "/data/anjliu/venv_kaggle_nfl/lib/python3.6/site-packages/lightgbm/basic.py:1291: UserWarning: Using categorical_feature in Dataset.\n",
      "  warnings.warn('Using categorical_feature in Dataset.')\n"
     ]
    },
    {
     "name": "stdout",
     "output_type": "stream",
     "text": [
      "Car 4 Month 12 MAE: 241.7822978881954\n"
     ]
    },
    {
     "name": "stderr",
     "output_type": "stream",
     "text": [
      "/data/anjliu/venv_kaggle_nfl/lib/python3.6/site-packages/lightgbm/basic.py:1291: UserWarning: Using categorical_feature in Dataset.\n",
      "  warnings.warn('Using categorical_feature in Dataset.')\n"
     ]
    },
    {
     "name": "stdout",
     "output_type": "stream",
     "text": [
      "Car 5 Month 1 MAE: 242.43672257852782\n"
     ]
    },
    {
     "name": "stderr",
     "output_type": "stream",
     "text": [
      "/data/anjliu/venv_kaggle_nfl/lib/python3.6/site-packages/lightgbm/basic.py:1291: UserWarning: Using categorical_feature in Dataset.\n",
      "  warnings.warn('Using categorical_feature in Dataset.')\n"
     ]
    },
    {
     "name": "stdout",
     "output_type": "stream",
     "text": [
      "Car 5 Month 2 MAE: 251.3390514541124\n"
     ]
    },
    {
     "name": "stderr",
     "output_type": "stream",
     "text": [
      "/data/anjliu/venv_kaggle_nfl/lib/python3.6/site-packages/lightgbm/basic.py:1291: UserWarning: Using categorical_feature in Dataset.\n",
      "  warnings.warn('Using categorical_feature in Dataset.')\n"
     ]
    },
    {
     "name": "stdout",
     "output_type": "stream",
     "text": [
      "Car 5 Month 3 MAE: 253.2525115310696\n"
     ]
    },
    {
     "name": "stderr",
     "output_type": "stream",
     "text": [
      "/data/anjliu/venv_kaggle_nfl/lib/python3.6/site-packages/lightgbm/basic.py:1291: UserWarning: Using categorical_feature in Dataset.\n",
      "  warnings.warn('Using categorical_feature in Dataset.')\n"
     ]
    },
    {
     "name": "stdout",
     "output_type": "stream",
     "text": [
      "Car 5 Month 4 MAE: 594.1862374841742\n"
     ]
    },
    {
     "name": "stderr",
     "output_type": "stream",
     "text": [
      "/data/anjliu/venv_kaggle_nfl/lib/python3.6/site-packages/lightgbm/basic.py:1291: UserWarning: Using categorical_feature in Dataset.\n",
      "  warnings.warn('Using categorical_feature in Dataset.')\n"
     ]
    },
    {
     "name": "stdout",
     "output_type": "stream",
     "text": [
      "Car 5 Month 5 MAE: 246.22639933824445\n"
     ]
    },
    {
     "name": "stderr",
     "output_type": "stream",
     "text": [
      "/data/anjliu/venv_kaggle_nfl/lib/python3.6/site-packages/lightgbm/basic.py:1291: UserWarning: Using categorical_feature in Dataset.\n",
      "  warnings.warn('Using categorical_feature in Dataset.')\n"
     ]
    },
    {
     "name": "stdout",
     "output_type": "stream",
     "text": [
      "Car 5 Month 6 MAE: 249.0124196943848\n"
     ]
    },
    {
     "name": "stderr",
     "output_type": "stream",
     "text": [
      "/data/anjliu/venv_kaggle_nfl/lib/python3.6/site-packages/lightgbm/basic.py:1291: UserWarning: Using categorical_feature in Dataset.\n",
      "  warnings.warn('Using categorical_feature in Dataset.')\n"
     ]
    },
    {
     "name": "stdout",
     "output_type": "stream",
     "text": [
      "Car 5 Month 7 MAE: 243.4340903522451\n"
     ]
    },
    {
     "name": "stderr",
     "output_type": "stream",
     "text": [
      "/data/anjliu/venv_kaggle_nfl/lib/python3.6/site-packages/lightgbm/basic.py:1291: UserWarning: Using categorical_feature in Dataset.\n",
      "  warnings.warn('Using categorical_feature in Dataset.')\n"
     ]
    },
    {
     "name": "stdout",
     "output_type": "stream",
     "text": [
      "Car 5 Month 8 MAE: 244.8811351535792\n"
     ]
    },
    {
     "name": "stderr",
     "output_type": "stream",
     "text": [
      "/data/anjliu/venv_kaggle_nfl/lib/python3.6/site-packages/lightgbm/basic.py:1291: UserWarning: Using categorical_feature in Dataset.\n",
      "  warnings.warn('Using categorical_feature in Dataset.')\n"
     ]
    },
    {
     "name": "stdout",
     "output_type": "stream",
     "text": [
      "Car 5 Month 9 MAE: 240.4406428823102\n"
     ]
    },
    {
     "name": "stderr",
     "output_type": "stream",
     "text": [
      "/data/anjliu/venv_kaggle_nfl/lib/python3.6/site-packages/lightgbm/basic.py:1291: UserWarning: Using categorical_feature in Dataset.\n",
      "  warnings.warn('Using categorical_feature in Dataset.')\n"
     ]
    },
    {
     "name": "stdout",
     "output_type": "stream",
     "text": [
      "Car 5 Month 10 MAE: 248.0748508812421\n"
     ]
    },
    {
     "name": "stderr",
     "output_type": "stream",
     "text": [
      "/data/anjliu/venv_kaggle_nfl/lib/python3.6/site-packages/lightgbm/basic.py:1291: UserWarning: Using categorical_feature in Dataset.\n",
      "  warnings.warn('Using categorical_feature in Dataset.')\n"
     ]
    },
    {
     "name": "stdout",
     "output_type": "stream",
     "text": [
      "Car 5 Month 11 MAE: 252.8847218935996\n"
     ]
    },
    {
     "name": "stderr",
     "output_type": "stream",
     "text": [
      "/data/anjliu/venv_kaggle_nfl/lib/python3.6/site-packages/lightgbm/basic.py:1291: UserWarning: Using categorical_feature in Dataset.\n",
      "  warnings.warn('Using categorical_feature in Dataset.')\n"
     ]
    },
    {
     "name": "stdout",
     "output_type": "stream",
     "text": [
      "Car 5 Month 12 MAE: 242.77107757340312\n"
     ]
    },
    {
     "name": "stderr",
     "output_type": "stream",
     "text": [
      "/data/anjliu/venv_kaggle_nfl/lib/python3.6/site-packages/lightgbm/basic.py:1291: UserWarning: Using categorical_feature in Dataset.\n",
      "  warnings.warn('Using categorical_feature in Dataset.')\n"
     ]
    },
    {
     "name": "stdout",
     "output_type": "stream",
     "text": [
      "Car 6 Month 1 MAE: 248.36212449596013\n"
     ]
    },
    {
     "name": "stderr",
     "output_type": "stream",
     "text": [
      "/data/anjliu/venv_kaggle_nfl/lib/python3.6/site-packages/lightgbm/basic.py:1291: UserWarning: Using categorical_feature in Dataset.\n",
      "  warnings.warn('Using categorical_feature in Dataset.')\n"
     ]
    },
    {
     "name": "stdout",
     "output_type": "stream",
     "text": [
      "Car 6 Month 2 MAE: 256.09863928913035\n"
     ]
    },
    {
     "name": "stderr",
     "output_type": "stream",
     "text": [
      "/data/anjliu/venv_kaggle_nfl/lib/python3.6/site-packages/lightgbm/basic.py:1291: UserWarning: Using categorical_feature in Dataset.\n",
      "  warnings.warn('Using categorical_feature in Dataset.')\n"
     ]
    },
    {
     "name": "stdout",
     "output_type": "stream",
     "text": [
      "Car 6 Month 3 MAE: 255.71375517361312\n"
     ]
    },
    {
     "name": "stderr",
     "output_type": "stream",
     "text": [
      "/data/anjliu/venv_kaggle_nfl/lib/python3.6/site-packages/lightgbm/basic.py:1291: UserWarning: Using categorical_feature in Dataset.\n",
      "  warnings.warn('Using categorical_feature in Dataset.')\n"
     ]
    },
    {
     "name": "stdout",
     "output_type": "stream",
     "text": [
      "Car 6 Month 4 MAE: 260.2949861435894\n"
     ]
    },
    {
     "name": "stderr",
     "output_type": "stream",
     "text": [
      "/data/anjliu/venv_kaggle_nfl/lib/python3.6/site-packages/lightgbm/basic.py:1291: UserWarning: Using categorical_feature in Dataset.\n",
      "  warnings.warn('Using categorical_feature in Dataset.')\n"
     ]
    },
    {
     "name": "stdout",
     "output_type": "stream",
     "text": [
      "Car 6 Month 5 MAE: 254.5775177363553\n"
     ]
    },
    {
     "name": "stderr",
     "output_type": "stream",
     "text": [
      "/data/anjliu/venv_kaggle_nfl/lib/python3.6/site-packages/lightgbm/basic.py:1291: UserWarning: Using categorical_feature in Dataset.\n",
      "  warnings.warn('Using categorical_feature in Dataset.')\n"
     ]
    },
    {
     "name": "stdout",
     "output_type": "stream",
     "text": [
      "Car 6 Month 6 MAE: 251.76114845558374\n"
     ]
    },
    {
     "name": "stderr",
     "output_type": "stream",
     "text": [
      "/data/anjliu/venv_kaggle_nfl/lib/python3.6/site-packages/lightgbm/basic.py:1291: UserWarning: Using categorical_feature in Dataset.\n",
      "  warnings.warn('Using categorical_feature in Dataset.')\n"
     ]
    },
    {
     "name": "stdout",
     "output_type": "stream",
     "text": [
      "Car 6 Month 7 MAE: 246.5833697787378\n"
     ]
    },
    {
     "name": "stderr",
     "output_type": "stream",
     "text": [
      "/data/anjliu/venv_kaggle_nfl/lib/python3.6/site-packages/lightgbm/basic.py:1291: UserWarning: Using categorical_feature in Dataset.\n",
      "  warnings.warn('Using categorical_feature in Dataset.')\n"
     ]
    },
    {
     "name": "stdout",
     "output_type": "stream",
     "text": [
      "Car 6 Month 8 MAE: 251.15925458850643\n"
     ]
    },
    {
     "name": "stderr",
     "output_type": "stream",
     "text": [
      "/data/anjliu/venv_kaggle_nfl/lib/python3.6/site-packages/lightgbm/basic.py:1291: UserWarning: Using categorical_feature in Dataset.\n",
      "  warnings.warn('Using categorical_feature in Dataset.')\n"
     ]
    },
    {
     "name": "stdout",
     "output_type": "stream",
     "text": [
      "Car 6 Month 9 MAE: 245.4288214481963\n"
     ]
    },
    {
     "name": "stderr",
     "output_type": "stream",
     "text": [
      "/data/anjliu/venv_kaggle_nfl/lib/python3.6/site-packages/lightgbm/basic.py:1291: UserWarning: Using categorical_feature in Dataset.\n",
      "  warnings.warn('Using categorical_feature in Dataset.')\n"
     ]
    },
    {
     "name": "stdout",
     "output_type": "stream",
     "text": [
      "Car 6 Month 10 MAE: 252.3955296439106\n"
     ]
    },
    {
     "name": "stderr",
     "output_type": "stream",
     "text": [
      "/data/anjliu/venv_kaggle_nfl/lib/python3.6/site-packages/lightgbm/basic.py:1291: UserWarning: Using categorical_feature in Dataset.\n",
      "  warnings.warn('Using categorical_feature in Dataset.')\n"
     ]
    },
    {
     "name": "stdout",
     "output_type": "stream",
     "text": [
      "Car 6 Month 11 MAE: 254.42979428794928\n"
     ]
    },
    {
     "name": "stderr",
     "output_type": "stream",
     "text": [
      "/data/anjliu/venv_kaggle_nfl/lib/python3.6/site-packages/lightgbm/basic.py:1291: UserWarning: Using categorical_feature in Dataset.\n",
      "  warnings.warn('Using categorical_feature in Dataset.')\n"
     ]
    },
    {
     "name": "stdout",
     "output_type": "stream",
     "text": [
      "Car 6 Month 12 MAE: 245.7187621734092\n"
     ]
    },
    {
     "name": "stderr",
     "output_type": "stream",
     "text": [
      "/data/anjliu/venv_kaggle_nfl/lib/python3.6/site-packages/lightgbm/basic.py:1291: UserWarning: Using categorical_feature in Dataset.\n",
      "  warnings.warn('Using categorical_feature in Dataset.')\n"
     ]
    },
    {
     "name": "stdout",
     "output_type": "stream",
     "text": [
      "Car 7 Month 1 MAE: 239.80431330847182\n"
     ]
    },
    {
     "name": "stderr",
     "output_type": "stream",
     "text": [
      "/data/anjliu/venv_kaggle_nfl/lib/python3.6/site-packages/lightgbm/basic.py:1291: UserWarning: Using categorical_feature in Dataset.\n",
      "  warnings.warn('Using categorical_feature in Dataset.')\n"
     ]
    },
    {
     "name": "stdout",
     "output_type": "stream",
     "text": [
      "Car 7 Month 2 MAE: 257.662500868092\n"
     ]
    },
    {
     "name": "stderr",
     "output_type": "stream",
     "text": [
      "/data/anjliu/venv_kaggle_nfl/lib/python3.6/site-packages/lightgbm/basic.py:1291: UserWarning: Using categorical_feature in Dataset.\n",
      "  warnings.warn('Using categorical_feature in Dataset.')\n"
     ]
    },
    {
     "name": "stdout",
     "output_type": "stream",
     "text": [
      "Car 7 Month 3 MAE: 252.806368693271\n"
     ]
    },
    {
     "name": "stderr",
     "output_type": "stream",
     "text": [
      "/data/anjliu/venv_kaggle_nfl/lib/python3.6/site-packages/lightgbm/basic.py:1291: UserWarning: Using categorical_feature in Dataset.\n",
      "  warnings.warn('Using categorical_feature in Dataset.')\n"
     ]
    },
    {
     "name": "stdout",
     "output_type": "stream",
     "text": [
      "Car 7 Month 4 MAE: 255.83989838994066\n"
     ]
    },
    {
     "name": "stderr",
     "output_type": "stream",
     "text": [
      "/data/anjliu/venv_kaggle_nfl/lib/python3.6/site-packages/lightgbm/basic.py:1291: UserWarning: Using categorical_feature in Dataset.\n",
      "  warnings.warn('Using categorical_feature in Dataset.')\n"
     ]
    },
    {
     "name": "stdout",
     "output_type": "stream",
     "text": [
      "Car 7 Month 5 MAE: 251.67965709971887\n"
     ]
    },
    {
     "name": "stderr",
     "output_type": "stream",
     "text": [
      "/data/anjliu/venv_kaggle_nfl/lib/python3.6/site-packages/lightgbm/basic.py:1291: UserWarning: Using categorical_feature in Dataset.\n",
      "  warnings.warn('Using categorical_feature in Dataset.')\n"
     ]
    },
    {
     "name": "stdout",
     "output_type": "stream",
     "text": [
      "Car 7 Month 6 MAE: 239.4592206105465\n"
     ]
    },
    {
     "name": "stderr",
     "output_type": "stream",
     "text": [
      "/data/anjliu/venv_kaggle_nfl/lib/python3.6/site-packages/lightgbm/basic.py:1291: UserWarning: Using categorical_feature in Dataset.\n",
      "  warnings.warn('Using categorical_feature in Dataset.')\n"
     ]
    },
    {
     "name": "stdout",
     "output_type": "stream",
     "text": [
      "Car 7 Month 7 MAE: 235.57605208974542\n"
     ]
    },
    {
     "name": "stderr",
     "output_type": "stream",
     "text": [
      "/data/anjliu/venv_kaggle_nfl/lib/python3.6/site-packages/lightgbm/basic.py:1291: UserWarning: Using categorical_feature in Dataset.\n",
      "  warnings.warn('Using categorical_feature in Dataset.')\n"
     ]
    },
    {
     "name": "stdout",
     "output_type": "stream",
     "text": [
      "Car 7 Month 8 MAE: 242.54072470281412\n"
     ]
    },
    {
     "name": "stderr",
     "output_type": "stream",
     "text": [
      "/data/anjliu/venv_kaggle_nfl/lib/python3.6/site-packages/lightgbm/basic.py:1291: UserWarning: Using categorical_feature in Dataset.\n",
      "  warnings.warn('Using categorical_feature in Dataset.')\n"
     ]
    },
    {
     "name": "stdout",
     "output_type": "stream",
     "text": [
      "Car 7 Month 9 MAE: 234.40322878294728\n"
     ]
    },
    {
     "name": "stderr",
     "output_type": "stream",
     "text": [
      "/data/anjliu/venv_kaggle_nfl/lib/python3.6/site-packages/lightgbm/basic.py:1291: UserWarning: Using categorical_feature in Dataset.\n",
      "  warnings.warn('Using categorical_feature in Dataset.')\n"
     ]
    },
    {
     "name": "stdout",
     "output_type": "stream",
     "text": [
      "Car 7 Month 10 MAE: 242.11685568224695\n"
     ]
    },
    {
     "name": "stderr",
     "output_type": "stream",
     "text": [
      "/data/anjliu/venv_kaggle_nfl/lib/python3.6/site-packages/lightgbm/basic.py:1291: UserWarning: Using categorical_feature in Dataset.\n",
      "  warnings.warn('Using categorical_feature in Dataset.')\n"
     ]
    },
    {
     "name": "stdout",
     "output_type": "stream",
     "text": [
      "Car 7 Month 11 MAE: 249.13599061844602\n"
     ]
    },
    {
     "name": "stderr",
     "output_type": "stream",
     "text": [
      "/data/anjliu/venv_kaggle_nfl/lib/python3.6/site-packages/lightgbm/basic.py:1291: UserWarning: Using categorical_feature in Dataset.\n",
      "  warnings.warn('Using categorical_feature in Dataset.')\n"
     ]
    },
    {
     "name": "stdout",
     "output_type": "stream",
     "text": [
      "Car 7 Month 12 MAE: 234.5626763016957\n"
     ]
    },
    {
     "name": "stderr",
     "output_type": "stream",
     "text": [
      "/data/anjliu/venv_kaggle_nfl/lib/python3.6/site-packages/lightgbm/basic.py:1291: UserWarning: Using categorical_feature in Dataset.\n",
      "  warnings.warn('Using categorical_feature in Dataset.')\n"
     ]
    },
    {
     "name": "stdout",
     "output_type": "stream",
     "text": [
      "Car 8 Month 1 MAE: 176.21423308443048\n"
     ]
    },
    {
     "name": "stderr",
     "output_type": "stream",
     "text": [
      "/data/anjliu/venv_kaggle_nfl/lib/python3.6/site-packages/lightgbm/basic.py:1291: UserWarning: Using categorical_feature in Dataset.\n",
      "  warnings.warn('Using categorical_feature in Dataset.')\n"
     ]
    },
    {
     "name": "stdout",
     "output_type": "stream",
     "text": [
      "Car 8 Month 2 MAE: 177.8718437088517\n"
     ]
    },
    {
     "name": "stderr",
     "output_type": "stream",
     "text": [
      "/data/anjliu/venv_kaggle_nfl/lib/python3.6/site-packages/lightgbm/basic.py:1291: UserWarning: Using categorical_feature in Dataset.\n",
      "  warnings.warn('Using categorical_feature in Dataset.')\n"
     ]
    },
    {
     "name": "stdout",
     "output_type": "stream",
     "text": [
      "Car 8 Month 3 MAE: 183.2490584331161\n"
     ]
    },
    {
     "name": "stderr",
     "output_type": "stream",
     "text": [
      "/data/anjliu/venv_kaggle_nfl/lib/python3.6/site-packages/lightgbm/basic.py:1291: UserWarning: Using categorical_feature in Dataset.\n",
      "  warnings.warn('Using categorical_feature in Dataset.')\n"
     ]
    },
    {
     "name": "stdout",
     "output_type": "stream",
     "text": [
      "Car 8 Month 4 MAE: 186.08026972646067\n"
     ]
    },
    {
     "name": "stderr",
     "output_type": "stream",
     "text": [
      "/data/anjliu/venv_kaggle_nfl/lib/python3.6/site-packages/lightgbm/basic.py:1291: UserWarning: Using categorical_feature in Dataset.\n",
      "  warnings.warn('Using categorical_feature in Dataset.')\n"
     ]
    },
    {
     "name": "stdout",
     "output_type": "stream",
     "text": [
      "Car 8 Month 5 MAE: 183.38611939571052\n"
     ]
    },
    {
     "name": "stderr",
     "output_type": "stream",
     "text": [
      "/data/anjliu/venv_kaggle_nfl/lib/python3.6/site-packages/lightgbm/basic.py:1291: UserWarning: Using categorical_feature in Dataset.\n",
      "  warnings.warn('Using categorical_feature in Dataset.')\n"
     ]
    },
    {
     "name": "stdout",
     "output_type": "stream",
     "text": [
      "Car 8 Month 6 MAE: 177.5389207511196\n"
     ]
    },
    {
     "name": "stderr",
     "output_type": "stream",
     "text": [
      "/data/anjliu/venv_kaggle_nfl/lib/python3.6/site-packages/lightgbm/basic.py:1291: UserWarning: Using categorical_feature in Dataset.\n",
      "  warnings.warn('Using categorical_feature in Dataset.')\n"
     ]
    },
    {
     "name": "stdout",
     "output_type": "stream",
     "text": [
      "Car 8 Month 7 MAE: 177.45652361476067\n"
     ]
    },
    {
     "name": "stderr",
     "output_type": "stream",
     "text": [
      "/data/anjliu/venv_kaggle_nfl/lib/python3.6/site-packages/lightgbm/basic.py:1291: UserWarning: Using categorical_feature in Dataset.\n",
      "  warnings.warn('Using categorical_feature in Dataset.')\n"
     ]
    },
    {
     "name": "stdout",
     "output_type": "stream",
     "text": [
      "Car 8 Month 8 MAE: 183.30139991055498\n"
     ]
    },
    {
     "name": "stderr",
     "output_type": "stream",
     "text": [
      "/data/anjliu/venv_kaggle_nfl/lib/python3.6/site-packages/lightgbm/basic.py:1291: UserWarning: Using categorical_feature in Dataset.\n",
      "  warnings.warn('Using categorical_feature in Dataset.')\n"
     ]
    },
    {
     "name": "stdout",
     "output_type": "stream",
     "text": [
      "Car 8 Month 9 MAE: 176.4394509101293\n"
     ]
    },
    {
     "name": "stderr",
     "output_type": "stream",
     "text": [
      "/data/anjliu/venv_kaggle_nfl/lib/python3.6/site-packages/lightgbm/basic.py:1291: UserWarning: Using categorical_feature in Dataset.\n",
      "  warnings.warn('Using categorical_feature in Dataset.')\n"
     ]
    },
    {
     "name": "stdout",
     "output_type": "stream",
     "text": [
      "Car 8 Month 10 MAE: 179.79406037847215\n"
     ]
    },
    {
     "name": "stderr",
     "output_type": "stream",
     "text": [
      "/data/anjliu/venv_kaggle_nfl/lib/python3.6/site-packages/lightgbm/basic.py:1291: UserWarning: Using categorical_feature in Dataset.\n",
      "  warnings.warn('Using categorical_feature in Dataset.')\n"
     ]
    },
    {
     "name": "stdout",
     "output_type": "stream",
     "text": [
      "Car 8 Month 11 MAE: 180.73308861981909\n"
     ]
    },
    {
     "name": "stderr",
     "output_type": "stream",
     "text": [
      "/data/anjliu/venv_kaggle_nfl/lib/python3.6/site-packages/lightgbm/basic.py:1291: UserWarning: Using categorical_feature in Dataset.\n",
      "  warnings.warn('Using categorical_feature in Dataset.')\n"
     ]
    },
    {
     "name": "stdout",
     "output_type": "stream",
     "text": [
      "Car 8 Month 12 MAE: 166.86229003767926\n",
      "Total MAE 235.05026087520432\n"
     ]
    }
   ],
   "source": [
    "learning_method_params = {'num_ensemble': 1, 'test_size': 0.2, 'r_seed': 1}\n",
    "raw_result_lightGBM = build_model(X,\n",
    "                         Y_car_dict,\n",
    "                         num_car=8,\n",
    "                         num_month=12,\n",
    "                         learning_method=lgb_ensemble,\n",
    "                         **learning_method_params)\n",
    "\n",
    "df_result_lightGBM = process_result_to_dataframe(raw_result_lightGBM)\n",
    "print('Total MAE', mean_absolute_error(df_result_lightGBM.valid, df_result_lightGBM.pred))"
   ]
  },
  {
   "cell_type": "markdown",
   "metadata": {},
   "source": [
    "## Evaluate Random Forest Regressor Model"
   ]
  },
  {
   "cell_type": "code",
   "execution_count": 23,
   "metadata": {
    "ExecuteTime": {
     "end_time": "2020-03-30T04:45:11.869247Z",
     "start_time": "2020-03-30T04:07:24.103376Z"
    }
   },
   "outputs": [
    {
     "name": "stderr",
     "output_type": "stream",
     "text": [
      "/data/anjliu/venv_kaggle_nfl/lib/python3.6/site-packages/sklearn/ensemble/forest.py:245: FutureWarning: The default value of n_estimators will change from 10 in version 0.20 to 100 in 0.22.\n",
      "  \"10 in version 0.20 to 100 in 0.22.\", FutureWarning)\n"
     ]
    },
    {
     "name": "stdout",
     "output_type": "stream",
     "text": [
      "Car 1 Month 1 MAE: 217.27253380050504\n"
     ]
    },
    {
     "name": "stderr",
     "output_type": "stream",
     "text": [
      "/data/anjliu/venv_kaggle_nfl/lib/python3.6/site-packages/sklearn/ensemble/forest.py:245: FutureWarning: The default value of n_estimators will change from 10 in version 0.20 to 100 in 0.22.\n",
      "  \"10 in version 0.20 to 100 in 0.22.\", FutureWarning)\n"
     ]
    },
    {
     "name": "stdout",
     "output_type": "stream",
     "text": [
      "Car 1 Month 2 MAE: 224.67412076118327\n"
     ]
    },
    {
     "name": "stderr",
     "output_type": "stream",
     "text": [
      "/data/anjliu/venv_kaggle_nfl/lib/python3.6/site-packages/sklearn/ensemble/forest.py:245: FutureWarning: The default value of n_estimators will change from 10 in version 0.20 to 100 in 0.22.\n",
      "  \"10 in version 0.20 to 100 in 0.22.\", FutureWarning)\n"
     ]
    },
    {
     "name": "stdout",
     "output_type": "stream",
     "text": [
      "Car 1 Month 3 MAE: 231.59302575396825\n"
     ]
    },
    {
     "name": "stderr",
     "output_type": "stream",
     "text": [
      "/data/anjliu/venv_kaggle_nfl/lib/python3.6/site-packages/sklearn/ensemble/forest.py:245: FutureWarning: The default value of n_estimators will change from 10 in version 0.20 to 100 in 0.22.\n",
      "  \"10 in version 0.20 to 100 in 0.22.\", FutureWarning)\n"
     ]
    },
    {
     "name": "stdout",
     "output_type": "stream",
     "text": [
      "Car 1 Month 4 MAE: 235.09168181277056\n"
     ]
    },
    {
     "name": "stderr",
     "output_type": "stream",
     "text": [
      "/data/anjliu/venv_kaggle_nfl/lib/python3.6/site-packages/sklearn/ensemble/forest.py:245: FutureWarning: The default value of n_estimators will change from 10 in version 0.20 to 100 in 0.22.\n",
      "  \"10 in version 0.20 to 100 in 0.22.\", FutureWarning)\n"
     ]
    },
    {
     "name": "stdout",
     "output_type": "stream",
     "text": [
      "Car 1 Month 5 MAE: 226.2029851190476\n"
     ]
    },
    {
     "name": "stderr",
     "output_type": "stream",
     "text": [
      "/data/anjliu/venv_kaggle_nfl/lib/python3.6/site-packages/sklearn/ensemble/forest.py:245: FutureWarning: The default value of n_estimators will change from 10 in version 0.20 to 100 in 0.22.\n",
      "  \"10 in version 0.20 to 100 in 0.22.\", FutureWarning)\n"
     ]
    },
    {
     "name": "stdout",
     "output_type": "stream",
     "text": [
      "Car 1 Month 6 MAE: 222.40856836219336\n"
     ]
    },
    {
     "name": "stderr",
     "output_type": "stream",
     "text": [
      "/data/anjliu/venv_kaggle_nfl/lib/python3.6/site-packages/sklearn/ensemble/forest.py:245: FutureWarning: The default value of n_estimators will change from 10 in version 0.20 to 100 in 0.22.\n",
      "  \"10 in version 0.20 to 100 in 0.22.\", FutureWarning)\n"
     ]
    },
    {
     "name": "stdout",
     "output_type": "stream",
     "text": [
      "Car 1 Month 7 MAE: 220.35846974275722\n"
     ]
    },
    {
     "name": "stderr",
     "output_type": "stream",
     "text": [
      "/data/anjliu/venv_kaggle_nfl/lib/python3.6/site-packages/sklearn/ensemble/forest.py:245: FutureWarning: The default value of n_estimators will change from 10 in version 0.20 to 100 in 0.22.\n",
      "  \"10 in version 0.20 to 100 in 0.22.\", FutureWarning)\n"
     ]
    },
    {
     "name": "stdout",
     "output_type": "stream",
     "text": [
      "Car 1 Month 8 MAE: 236.17380709415585\n"
     ]
    },
    {
     "name": "stderr",
     "output_type": "stream",
     "text": [
      "/data/anjliu/venv_kaggle_nfl/lib/python3.6/site-packages/sklearn/ensemble/forest.py:245: FutureWarning: The default value of n_estimators will change from 10 in version 0.20 to 100 in 0.22.\n",
      "  \"10 in version 0.20 to 100 in 0.22.\", FutureWarning)\n"
     ]
    },
    {
     "name": "stdout",
     "output_type": "stream",
     "text": [
      "Car 1 Month 9 MAE: 219.68753912698412\n"
     ]
    },
    {
     "name": "stderr",
     "output_type": "stream",
     "text": [
      "/data/anjliu/venv_kaggle_nfl/lib/python3.6/site-packages/sklearn/ensemble/forest.py:245: FutureWarning: The default value of n_estimators will change from 10 in version 0.20 to 100 in 0.22.\n",
      "  \"10 in version 0.20 to 100 in 0.22.\", FutureWarning)\n"
     ]
    },
    {
     "name": "stdout",
     "output_type": "stream",
     "text": [
      "Car 1 Month 10 MAE: 223.83633305916305\n"
     ]
    },
    {
     "name": "stderr",
     "output_type": "stream",
     "text": [
      "/data/anjliu/venv_kaggle_nfl/lib/python3.6/site-packages/sklearn/ensemble/forest.py:245: FutureWarning: The default value of n_estimators will change from 10 in version 0.20 to 100 in 0.22.\n",
      "  \"10 in version 0.20 to 100 in 0.22.\", FutureWarning)\n"
     ]
    },
    {
     "name": "stdout",
     "output_type": "stream",
     "text": [
      "Car 1 Month 11 MAE: 228.19830982683982\n"
     ]
    },
    {
     "name": "stderr",
     "output_type": "stream",
     "text": [
      "/data/anjliu/venv_kaggle_nfl/lib/python3.6/site-packages/sklearn/ensemble/forest.py:245: FutureWarning: The default value of n_estimators will change from 10 in version 0.20 to 100 in 0.22.\n",
      "  \"10 in version 0.20 to 100 in 0.22.\", FutureWarning)\n"
     ]
    },
    {
     "name": "stdout",
     "output_type": "stream",
     "text": [
      "Car 1 Month 12 MAE: 205.58682450091578\n"
     ]
    },
    {
     "name": "stderr",
     "output_type": "stream",
     "text": [
      "/data/anjliu/venv_kaggle_nfl/lib/python3.6/site-packages/sklearn/ensemble/forest.py:245: FutureWarning: The default value of n_estimators will change from 10 in version 0.20 to 100 in 0.22.\n",
      "  \"10 in version 0.20 to 100 in 0.22.\", FutureWarning)\n"
     ]
    },
    {
     "name": "stdout",
     "output_type": "stream",
     "text": [
      "Car 2 Month 1 MAE: 283.2529353354978\n"
     ]
    },
    {
     "name": "stderr",
     "output_type": "stream",
     "text": [
      "/data/anjliu/venv_kaggle_nfl/lib/python3.6/site-packages/sklearn/ensemble/forest.py:245: FutureWarning: The default value of n_estimators will change from 10 in version 0.20 to 100 in 0.22.\n",
      "  \"10 in version 0.20 to 100 in 0.22.\", FutureWarning)\n"
     ]
    },
    {
     "name": "stdout",
     "output_type": "stream",
     "text": [
      "Car 2 Month 2 MAE: 299.6271265873016\n"
     ]
    },
    {
     "name": "stderr",
     "output_type": "stream",
     "text": [
      "/data/anjliu/venv_kaggle_nfl/lib/python3.6/site-packages/sklearn/ensemble/forest.py:245: FutureWarning: The default value of n_estimators will change from 10 in version 0.20 to 100 in 0.22.\n",
      "  \"10 in version 0.20 to 100 in 0.22.\", FutureWarning)\n"
     ]
    },
    {
     "name": "stdout",
     "output_type": "stream",
     "text": [
      "Car 2 Month 3 MAE: 302.69169868145747\n"
     ]
    },
    {
     "name": "stderr",
     "output_type": "stream",
     "text": [
      "/data/anjliu/venv_kaggle_nfl/lib/python3.6/site-packages/sklearn/ensemble/forest.py:245: FutureWarning: The default value of n_estimators will change from 10 in version 0.20 to 100 in 0.22.\n",
      "  \"10 in version 0.20 to 100 in 0.22.\", FutureWarning)\n"
     ]
    },
    {
     "name": "stdout",
     "output_type": "stream",
     "text": [
      "Car 2 Month 4 MAE: 302.57686541514045\n"
     ]
    },
    {
     "name": "stderr",
     "output_type": "stream",
     "text": [
      "/data/anjliu/venv_kaggle_nfl/lib/python3.6/site-packages/sklearn/ensemble/forest.py:245: FutureWarning: The default value of n_estimators will change from 10 in version 0.20 to 100 in 0.22.\n",
      "  \"10 in version 0.20 to 100 in 0.22.\", FutureWarning)\n"
     ]
    },
    {
     "name": "stdout",
     "output_type": "stream",
     "text": [
      "Car 2 Month 5 MAE: 298.2748112445887\n"
     ]
    },
    {
     "name": "stderr",
     "output_type": "stream",
     "text": [
      "/data/anjliu/venv_kaggle_nfl/lib/python3.6/site-packages/sklearn/ensemble/forest.py:245: FutureWarning: The default value of n_estimators will change from 10 in version 0.20 to 100 in 0.22.\n",
      "  \"10 in version 0.20 to 100 in 0.22.\", FutureWarning)\n"
     ]
    },
    {
     "name": "stdout",
     "output_type": "stream",
     "text": [
      "Car 2 Month 6 MAE: 296.45383494047616\n"
     ]
    },
    {
     "name": "stderr",
     "output_type": "stream",
     "text": [
      "/data/anjliu/venv_kaggle_nfl/lib/python3.6/site-packages/sklearn/ensemble/forest.py:245: FutureWarning: The default value of n_estimators will change from 10 in version 0.20 to 100 in 0.22.\n",
      "  \"10 in version 0.20 to 100 in 0.22.\", FutureWarning)\n"
     ]
    },
    {
     "name": "stdout",
     "output_type": "stream",
     "text": [
      "Car 2 Month 7 MAE: 287.66461277777773\n"
     ]
    },
    {
     "name": "stderr",
     "output_type": "stream",
     "text": [
      "/data/anjliu/venv_kaggle_nfl/lib/python3.6/site-packages/sklearn/ensemble/forest.py:245: FutureWarning: The default value of n_estimators will change from 10 in version 0.20 to 100 in 0.22.\n",
      "  \"10 in version 0.20 to 100 in 0.22.\", FutureWarning)\n"
     ]
    },
    {
     "name": "stdout",
     "output_type": "stream",
     "text": [
      "Car 2 Month 8 MAE: 307.2076445328283\n"
     ]
    },
    {
     "name": "stderr",
     "output_type": "stream",
     "text": [
      "/data/anjliu/venv_kaggle_nfl/lib/python3.6/site-packages/sklearn/ensemble/forest.py:245: FutureWarning: The default value of n_estimators will change from 10 in version 0.20 to 100 in 0.22.\n",
      "  \"10 in version 0.20 to 100 in 0.22.\", FutureWarning)\n"
     ]
    },
    {
     "name": "stdout",
     "output_type": "stream",
     "text": [
      "Car 2 Month 9 MAE: 293.5822963293651\n"
     ]
    },
    {
     "name": "stderr",
     "output_type": "stream",
     "text": [
      "/data/anjliu/venv_kaggle_nfl/lib/python3.6/site-packages/sklearn/ensemble/forest.py:245: FutureWarning: The default value of n_estimators will change from 10 in version 0.20 to 100 in 0.22.\n",
      "  \"10 in version 0.20 to 100 in 0.22.\", FutureWarning)\n"
     ]
    },
    {
     "name": "stdout",
     "output_type": "stream",
     "text": [
      "Car 2 Month 10 MAE: 293.9569629671717\n"
     ]
    },
    {
     "name": "stderr",
     "output_type": "stream",
     "text": [
      "/data/anjliu/venv_kaggle_nfl/lib/python3.6/site-packages/sklearn/ensemble/forest.py:245: FutureWarning: The default value of n_estimators will change from 10 in version 0.20 to 100 in 0.22.\n",
      "  \"10 in version 0.20 to 100 in 0.22.\", FutureWarning)\n"
     ]
    },
    {
     "name": "stdout",
     "output_type": "stream",
     "text": [
      "Car 2 Month 11 MAE: 300.500670197719\n"
     ]
    },
    {
     "name": "stderr",
     "output_type": "stream",
     "text": [
      "/data/anjliu/venv_kaggle_nfl/lib/python3.6/site-packages/sklearn/ensemble/forest.py:245: FutureWarning: The default value of n_estimators will change from 10 in version 0.20 to 100 in 0.22.\n",
      "  \"10 in version 0.20 to 100 in 0.22.\", FutureWarning)\n"
     ]
    },
    {
     "name": "stdout",
     "output_type": "stream",
     "text": [
      "Car 2 Month 12 MAE: 281.01760973124095\n"
     ]
    },
    {
     "name": "stderr",
     "output_type": "stream",
     "text": [
      "/data/anjliu/venv_kaggle_nfl/lib/python3.6/site-packages/sklearn/ensemble/forest.py:245: FutureWarning: The default value of n_estimators will change from 10 in version 0.20 to 100 in 0.22.\n",
      "  \"10 in version 0.20 to 100 in 0.22.\", FutureWarning)\n"
     ]
    },
    {
     "name": "stdout",
     "output_type": "stream",
     "text": [
      "Car 3 Month 1 MAE: 297.39922481240984\n"
     ]
    },
    {
     "name": "stderr",
     "output_type": "stream",
     "text": [
      "/data/anjliu/venv_kaggle_nfl/lib/python3.6/site-packages/sklearn/ensemble/forest.py:245: FutureWarning: The default value of n_estimators will change from 10 in version 0.20 to 100 in 0.22.\n",
      "  \"10 in version 0.20 to 100 in 0.22.\", FutureWarning)\n"
     ]
    },
    {
     "name": "stdout",
     "output_type": "stream",
     "text": [
      "Car 3 Month 2 MAE: 313.40498442279943\n"
     ]
    },
    {
     "name": "stderr",
     "output_type": "stream",
     "text": [
      "/data/anjliu/venv_kaggle_nfl/lib/python3.6/site-packages/sklearn/ensemble/forest.py:245: FutureWarning: The default value of n_estimators will change from 10 in version 0.20 to 100 in 0.22.\n",
      "  \"10 in version 0.20 to 100 in 0.22.\", FutureWarning)\n"
     ]
    },
    {
     "name": "stdout",
     "output_type": "stream",
     "text": [
      "Car 3 Month 3 MAE: 312.43779704906206\n"
     ]
    },
    {
     "name": "stderr",
     "output_type": "stream",
     "text": [
      "/data/anjliu/venv_kaggle_nfl/lib/python3.6/site-packages/sklearn/ensemble/forest.py:245: FutureWarning: The default value of n_estimators will change from 10 in version 0.20 to 100 in 0.22.\n",
      "  \"10 in version 0.20 to 100 in 0.22.\", FutureWarning)\n"
     ]
    },
    {
     "name": "stdout",
     "output_type": "stream",
     "text": [
      "Car 3 Month 4 MAE: 322.806013255772\n"
     ]
    },
    {
     "name": "stderr",
     "output_type": "stream",
     "text": [
      "/data/anjliu/venv_kaggle_nfl/lib/python3.6/site-packages/sklearn/ensemble/forest.py:245: FutureWarning: The default value of n_estimators will change from 10 in version 0.20 to 100 in 0.22.\n",
      "  \"10 in version 0.20 to 100 in 0.22.\", FutureWarning)\n"
     ]
    },
    {
     "name": "stdout",
     "output_type": "stream",
     "text": [
      "Car 3 Month 5 MAE: 317.6819748214285\n"
     ]
    },
    {
     "name": "stderr",
     "output_type": "stream",
     "text": [
      "/data/anjliu/venv_kaggle_nfl/lib/python3.6/site-packages/sklearn/ensemble/forest.py:245: FutureWarning: The default value of n_estimators will change from 10 in version 0.20 to 100 in 0.22.\n",
      "  \"10 in version 0.20 to 100 in 0.22.\", FutureWarning)\n"
     ]
    },
    {
     "name": "stdout",
     "output_type": "stream",
     "text": [
      "Car 3 Month 6 MAE: 310.0179795436508\n"
     ]
    },
    {
     "name": "stderr",
     "output_type": "stream",
     "text": [
      "/data/anjliu/venv_kaggle_nfl/lib/python3.6/site-packages/sklearn/ensemble/forest.py:245: FutureWarning: The default value of n_estimators will change from 10 in version 0.20 to 100 in 0.22.\n",
      "  \"10 in version 0.20 to 100 in 0.22.\", FutureWarning)\n"
     ]
    },
    {
     "name": "stdout",
     "output_type": "stream",
     "text": [
      "Car 3 Month 7 MAE: 299.65315811507935\n"
     ]
    },
    {
     "name": "stderr",
     "output_type": "stream",
     "text": [
      "/data/anjliu/venv_kaggle_nfl/lib/python3.6/site-packages/sklearn/ensemble/forest.py:245: FutureWarning: The default value of n_estimators will change from 10 in version 0.20 to 100 in 0.22.\n",
      "  \"10 in version 0.20 to 100 in 0.22.\", FutureWarning)\n"
     ]
    },
    {
     "name": "stdout",
     "output_type": "stream",
     "text": [
      "Car 3 Month 8 MAE: 319.9452524594156\n"
     ]
    },
    {
     "name": "stderr",
     "output_type": "stream",
     "text": [
      "/data/anjliu/venv_kaggle_nfl/lib/python3.6/site-packages/sklearn/ensemble/forest.py:245: FutureWarning: The default value of n_estimators will change from 10 in version 0.20 to 100 in 0.22.\n",
      "  \"10 in version 0.20 to 100 in 0.22.\", FutureWarning)\n"
     ]
    },
    {
     "name": "stdout",
     "output_type": "stream",
     "text": [
      "Car 3 Month 9 MAE: 303.0709320833333\n"
     ]
    },
    {
     "name": "stderr",
     "output_type": "stream",
     "text": [
      "/data/anjliu/venv_kaggle_nfl/lib/python3.6/site-packages/sklearn/ensemble/forest.py:245: FutureWarning: The default value of n_estimators will change from 10 in version 0.20 to 100 in 0.22.\n",
      "  \"10 in version 0.20 to 100 in 0.22.\", FutureWarning)\n"
     ]
    },
    {
     "name": "stdout",
     "output_type": "stream",
     "text": [
      "Car 3 Month 10 MAE: 313.182224004329\n"
     ]
    },
    {
     "name": "stderr",
     "output_type": "stream",
     "text": [
      "/data/anjliu/venv_kaggle_nfl/lib/python3.6/site-packages/sklearn/ensemble/forest.py:245: FutureWarning: The default value of n_estimators will change from 10 in version 0.20 to 100 in 0.22.\n",
      "  \"10 in version 0.20 to 100 in 0.22.\", FutureWarning)\n"
     ]
    },
    {
     "name": "stdout",
     "output_type": "stream",
     "text": [
      "Car 3 Month 11 MAE: 316.32467337301586\n"
     ]
    },
    {
     "name": "stderr",
     "output_type": "stream",
     "text": [
      "/data/anjliu/venv_kaggle_nfl/lib/python3.6/site-packages/sklearn/ensemble/forest.py:245: FutureWarning: The default value of n_estimators will change from 10 in version 0.20 to 100 in 0.22.\n",
      "  \"10 in version 0.20 to 100 in 0.22.\", FutureWarning)\n"
     ]
    },
    {
     "name": "stdout",
     "output_type": "stream",
     "text": [
      "Car 3 Month 12 MAE: 295.19686771284273\n"
     ]
    },
    {
     "name": "stderr",
     "output_type": "stream",
     "text": [
      "/data/anjliu/venv_kaggle_nfl/lib/python3.6/site-packages/sklearn/ensemble/forest.py:245: FutureWarning: The default value of n_estimators will change from 10 in version 0.20 to 100 in 0.22.\n",
      "  \"10 in version 0.20 to 100 in 0.22.\", FutureWarning)\n"
     ]
    },
    {
     "name": "stdout",
     "output_type": "stream",
     "text": [
      "Car 4 Month 1 MAE: 298.8589373069986\n"
     ]
    },
    {
     "name": "stderr",
     "output_type": "stream",
     "text": [
      "/data/anjliu/venv_kaggle_nfl/lib/python3.6/site-packages/sklearn/ensemble/forest.py:245: FutureWarning: The default value of n_estimators will change from 10 in version 0.20 to 100 in 0.22.\n",
      "  \"10 in version 0.20 to 100 in 0.22.\", FutureWarning)\n"
     ]
    },
    {
     "name": "stdout",
     "output_type": "stream",
     "text": [
      "Car 4 Month 2 MAE: 313.7364258134921\n"
     ]
    },
    {
     "name": "stderr",
     "output_type": "stream",
     "text": [
      "/data/anjliu/venv_kaggle_nfl/lib/python3.6/site-packages/sklearn/ensemble/forest.py:245: FutureWarning: The default value of n_estimators will change from 10 in version 0.20 to 100 in 0.22.\n",
      "  \"10 in version 0.20 to 100 in 0.22.\", FutureWarning)\n"
     ]
    },
    {
     "name": "stdout",
     "output_type": "stream",
     "text": [
      "Car 4 Month 3 MAE: 314.6449936706349\n"
     ]
    },
    {
     "name": "stderr",
     "output_type": "stream",
     "text": [
      "/data/anjliu/venv_kaggle_nfl/lib/python3.6/site-packages/sklearn/ensemble/forest.py:245: FutureWarning: The default value of n_estimators will change from 10 in version 0.20 to 100 in 0.22.\n",
      "  \"10 in version 0.20 to 100 in 0.22.\", FutureWarning)\n"
     ]
    },
    {
     "name": "stdout",
     "output_type": "stream",
     "text": [
      "Car 4 Month 4 MAE: 317.5149970619658\n"
     ]
    },
    {
     "name": "stderr",
     "output_type": "stream",
     "text": [
      "/data/anjliu/venv_kaggle_nfl/lib/python3.6/site-packages/sklearn/ensemble/forest.py:245: FutureWarning: The default value of n_estimators will change from 10 in version 0.20 to 100 in 0.22.\n",
      "  \"10 in version 0.20 to 100 in 0.22.\", FutureWarning)\n"
     ]
    },
    {
     "name": "stdout",
     "output_type": "stream",
     "text": [
      "Car 4 Month 5 MAE: 310.07982718253965\n"
     ]
    },
    {
     "name": "stderr",
     "output_type": "stream",
     "text": [
      "/data/anjliu/venv_kaggle_nfl/lib/python3.6/site-packages/sklearn/ensemble/forest.py:245: FutureWarning: The default value of n_estimators will change from 10 in version 0.20 to 100 in 0.22.\n",
      "  \"10 in version 0.20 to 100 in 0.22.\", FutureWarning)\n"
     ]
    },
    {
     "name": "stdout",
     "output_type": "stream",
     "text": [
      "Car 4 Month 6 MAE: 309.2073041071428\n"
     ]
    },
    {
     "name": "stderr",
     "output_type": "stream",
     "text": [
      "/data/anjliu/venv_kaggle_nfl/lib/python3.6/site-packages/sklearn/ensemble/forest.py:245: FutureWarning: The default value of n_estimators will change from 10 in version 0.20 to 100 in 0.22.\n",
      "  \"10 in version 0.20 to 100 in 0.22.\", FutureWarning)\n"
     ]
    },
    {
     "name": "stdout",
     "output_type": "stream",
     "text": [
      "Car 4 Month 7 MAE: 301.5919498679099\n"
     ]
    },
    {
     "name": "stderr",
     "output_type": "stream",
     "text": [
      "/data/anjliu/venv_kaggle_nfl/lib/python3.6/site-packages/sklearn/ensemble/forest.py:245: FutureWarning: The default value of n_estimators will change from 10 in version 0.20 to 100 in 0.22.\n",
      "  \"10 in version 0.20 to 100 in 0.22.\", FutureWarning)\n"
     ]
    },
    {
     "name": "stdout",
     "output_type": "stream",
     "text": [
      "Car 4 Month 8 MAE: 319.8394951100288\n"
     ]
    },
    {
     "name": "stderr",
     "output_type": "stream",
     "text": [
      "/data/anjliu/venv_kaggle_nfl/lib/python3.6/site-packages/sklearn/ensemble/forest.py:245: FutureWarning: The default value of n_estimators will change from 10 in version 0.20 to 100 in 0.22.\n",
      "  \"10 in version 0.20 to 100 in 0.22.\", FutureWarning)\n"
     ]
    },
    {
     "name": "stdout",
     "output_type": "stream",
     "text": [
      "Car 4 Month 9 MAE: 300.87926410173156\n"
     ]
    },
    {
     "name": "stderr",
     "output_type": "stream",
     "text": [
      "/data/anjliu/venv_kaggle_nfl/lib/python3.6/site-packages/sklearn/ensemble/forest.py:245: FutureWarning: The default value of n_estimators will change from 10 in version 0.20 to 100 in 0.22.\n",
      "  \"10 in version 0.20 to 100 in 0.22.\", FutureWarning)\n"
     ]
    },
    {
     "name": "stdout",
     "output_type": "stream",
     "text": [
      "Car 4 Month 10 MAE: 309.00749811688314\n"
     ]
    },
    {
     "name": "stderr",
     "output_type": "stream",
     "text": [
      "/data/anjliu/venv_kaggle_nfl/lib/python3.6/site-packages/sklearn/ensemble/forest.py:245: FutureWarning: The default value of n_estimators will change from 10 in version 0.20 to 100 in 0.22.\n",
      "  \"10 in version 0.20 to 100 in 0.22.\", FutureWarning)\n"
     ]
    },
    {
     "name": "stdout",
     "output_type": "stream",
     "text": [
      "Car 4 Month 11 MAE: 319.3646162680375\n"
     ]
    },
    {
     "name": "stderr",
     "output_type": "stream",
     "text": [
      "/data/anjliu/venv_kaggle_nfl/lib/python3.6/site-packages/sklearn/ensemble/forest.py:245: FutureWarning: The default value of n_estimators will change from 10 in version 0.20 to 100 in 0.22.\n",
      "  \"10 in version 0.20 to 100 in 0.22.\", FutureWarning)\n"
     ]
    },
    {
     "name": "stdout",
     "output_type": "stream",
     "text": [
      "Car 4 Month 12 MAE: 296.1205386273449\n"
     ]
    },
    {
     "name": "stderr",
     "output_type": "stream",
     "text": [
      "/data/anjliu/venv_kaggle_nfl/lib/python3.6/site-packages/sklearn/ensemble/forest.py:245: FutureWarning: The default value of n_estimators will change from 10 in version 0.20 to 100 in 0.22.\n",
      "  \"10 in version 0.20 to 100 in 0.22.\", FutureWarning)\n"
     ]
    },
    {
     "name": "stdout",
     "output_type": "stream",
     "text": [
      "Car 5 Month 1 MAE: 294.8535547059884\n"
     ]
    },
    {
     "name": "stderr",
     "output_type": "stream",
     "text": [
      "/data/anjliu/venv_kaggle_nfl/lib/python3.6/site-packages/sklearn/ensemble/forest.py:245: FutureWarning: The default value of n_estimators will change from 10 in version 0.20 to 100 in 0.22.\n",
      "  \"10 in version 0.20 to 100 in 0.22.\", FutureWarning)\n"
     ]
    },
    {
     "name": "stdout",
     "output_type": "stream",
     "text": [
      "Car 5 Month 2 MAE: 312.8987808712122\n"
     ]
    },
    {
     "name": "stderr",
     "output_type": "stream",
     "text": [
      "/data/anjliu/venv_kaggle_nfl/lib/python3.6/site-packages/sklearn/ensemble/forest.py:245: FutureWarning: The default value of n_estimators will change from 10 in version 0.20 to 100 in 0.22.\n",
      "  \"10 in version 0.20 to 100 in 0.22.\", FutureWarning)\n"
     ]
    },
    {
     "name": "stdout",
     "output_type": "stream",
     "text": [
      "Car 5 Month 3 MAE: 313.81276398809524\n"
     ]
    },
    {
     "name": "stderr",
     "output_type": "stream",
     "text": [
      "/data/anjliu/venv_kaggle_nfl/lib/python3.6/site-packages/sklearn/ensemble/forest.py:245: FutureWarning: The default value of n_estimators will change from 10 in version 0.20 to 100 in 0.22.\n",
      "  \"10 in version 0.20 to 100 in 0.22.\", FutureWarning)\n"
     ]
    },
    {
     "name": "stdout",
     "output_type": "stream",
     "text": [
      "Car 5 Month 4 MAE: 661.2577234343436\n"
     ]
    },
    {
     "name": "stderr",
     "output_type": "stream",
     "text": [
      "/data/anjliu/venv_kaggle_nfl/lib/python3.6/site-packages/sklearn/ensemble/forest.py:245: FutureWarning: The default value of n_estimators will change from 10 in version 0.20 to 100 in 0.22.\n",
      "  \"10 in version 0.20 to 100 in 0.22.\", FutureWarning)\n"
     ]
    },
    {
     "name": "stdout",
     "output_type": "stream",
     "text": [
      "Car 5 Month 5 MAE: 312.029011933622\n"
     ]
    },
    {
     "name": "stderr",
     "output_type": "stream",
     "text": [
      "/data/anjliu/venv_kaggle_nfl/lib/python3.6/site-packages/sklearn/ensemble/forest.py:245: FutureWarning: The default value of n_estimators will change from 10 in version 0.20 to 100 in 0.22.\n",
      "  \"10 in version 0.20 to 100 in 0.22.\", FutureWarning)\n"
     ]
    },
    {
     "name": "stdout",
     "output_type": "stream",
     "text": [
      "Car 5 Month 6 MAE: 308.3864183333334\n"
     ]
    },
    {
     "name": "stderr",
     "output_type": "stream",
     "text": [
      "/data/anjliu/venv_kaggle_nfl/lib/python3.6/site-packages/sklearn/ensemble/forest.py:245: FutureWarning: The default value of n_estimators will change from 10 in version 0.20 to 100 in 0.22.\n",
      "  \"10 in version 0.20 to 100 in 0.22.\", FutureWarning)\n"
     ]
    },
    {
     "name": "stdout",
     "output_type": "stream",
     "text": [
      "Car 5 Month 7 MAE: 301.5901136904762\n"
     ]
    },
    {
     "name": "stderr",
     "output_type": "stream",
     "text": [
      "/data/anjliu/venv_kaggle_nfl/lib/python3.6/site-packages/sklearn/ensemble/forest.py:245: FutureWarning: The default value of n_estimators will change from 10 in version 0.20 to 100 in 0.22.\n",
      "  \"10 in version 0.20 to 100 in 0.22.\", FutureWarning)\n"
     ]
    },
    {
     "name": "stdout",
     "output_type": "stream",
     "text": [
      "Car 5 Month 8 MAE: 312.7907160227273\n"
     ]
    },
    {
     "name": "stderr",
     "output_type": "stream",
     "text": [
      "/data/anjliu/venv_kaggle_nfl/lib/python3.6/site-packages/sklearn/ensemble/forest.py:245: FutureWarning: The default value of n_estimators will change from 10 in version 0.20 to 100 in 0.22.\n",
      "  \"10 in version 0.20 to 100 in 0.22.\", FutureWarning)\n"
     ]
    },
    {
     "name": "stdout",
     "output_type": "stream",
     "text": [
      "Car 5 Month 9 MAE: 302.339484781746\n"
     ]
    },
    {
     "name": "stderr",
     "output_type": "stream",
     "text": [
      "/data/anjliu/venv_kaggle_nfl/lib/python3.6/site-packages/sklearn/ensemble/forest.py:245: FutureWarning: The default value of n_estimators will change from 10 in version 0.20 to 100 in 0.22.\n",
      "  \"10 in version 0.20 to 100 in 0.22.\", FutureWarning)\n"
     ]
    },
    {
     "name": "stdout",
     "output_type": "stream",
     "text": [
      "Car 5 Month 10 MAE: 309.68217405483404\n"
     ]
    },
    {
     "name": "stderr",
     "output_type": "stream",
     "text": [
      "/data/anjliu/venv_kaggle_nfl/lib/python3.6/site-packages/sklearn/ensemble/forest.py:245: FutureWarning: The default value of n_estimators will change from 10 in version 0.20 to 100 in 0.22.\n",
      "  \"10 in version 0.20 to 100 in 0.22.\", FutureWarning)\n"
     ]
    },
    {
     "name": "stdout",
     "output_type": "stream",
     "text": [
      "Car 5 Month 11 MAE: 318.92068890331893\n"
     ]
    },
    {
     "name": "stderr",
     "output_type": "stream",
     "text": [
      "/data/anjliu/venv_kaggle_nfl/lib/python3.6/site-packages/sklearn/ensemble/forest.py:245: FutureWarning: The default value of n_estimators will change from 10 in version 0.20 to 100 in 0.22.\n",
      "  \"10 in version 0.20 to 100 in 0.22.\", FutureWarning)\n"
     ]
    },
    {
     "name": "stdout",
     "output_type": "stream",
     "text": [
      "Car 5 Month 12 MAE: 297.5007514539627\n"
     ]
    },
    {
     "name": "stderr",
     "output_type": "stream",
     "text": [
      "/data/anjliu/venv_kaggle_nfl/lib/python3.6/site-packages/sklearn/ensemble/forest.py:245: FutureWarning: The default value of n_estimators will change from 10 in version 0.20 to 100 in 0.22.\n",
      "  \"10 in version 0.20 to 100 in 0.22.\", FutureWarning)\n"
     ]
    },
    {
     "name": "stdout",
     "output_type": "stream",
     "text": [
      "Car 6 Month 1 MAE: 293.1121760551948\n"
     ]
    },
    {
     "name": "stderr",
     "output_type": "stream",
     "text": [
      "/data/anjliu/venv_kaggle_nfl/lib/python3.6/site-packages/sklearn/ensemble/forest.py:245: FutureWarning: The default value of n_estimators will change from 10 in version 0.20 to 100 in 0.22.\n",
      "  \"10 in version 0.20 to 100 in 0.22.\", FutureWarning)\n"
     ]
    },
    {
     "name": "stdout",
     "output_type": "stream",
     "text": [
      "Car 6 Month 2 MAE: 313.014833495116\n"
     ]
    },
    {
     "name": "stderr",
     "output_type": "stream",
     "text": [
      "/data/anjliu/venv_kaggle_nfl/lib/python3.6/site-packages/sklearn/ensemble/forest.py:245: FutureWarning: The default value of n_estimators will change from 10 in version 0.20 to 100 in 0.22.\n",
      "  \"10 in version 0.20 to 100 in 0.22.\", FutureWarning)\n"
     ]
    },
    {
     "name": "stdout",
     "output_type": "stream",
     "text": [
      "Car 6 Month 3 MAE: 315.3191939484127\n"
     ]
    },
    {
     "name": "stderr",
     "output_type": "stream",
     "text": [
      "/data/anjliu/venv_kaggle_nfl/lib/python3.6/site-packages/sklearn/ensemble/forest.py:245: FutureWarning: The default value of n_estimators will change from 10 in version 0.20 to 100 in 0.22.\n",
      "  \"10 in version 0.20 to 100 in 0.22.\", FutureWarning)\n"
     ]
    },
    {
     "name": "stdout",
     "output_type": "stream",
     "text": [
      "Car 6 Month 4 MAE: 316.6126780645743\n"
     ]
    },
    {
     "name": "stderr",
     "output_type": "stream",
     "text": [
      "/data/anjliu/venv_kaggle_nfl/lib/python3.6/site-packages/sklearn/ensemble/forest.py:245: FutureWarning: The default value of n_estimators will change from 10 in version 0.20 to 100 in 0.22.\n",
      "  \"10 in version 0.20 to 100 in 0.22.\", FutureWarning)\n"
     ]
    },
    {
     "name": "stdout",
     "output_type": "stream",
     "text": [
      "Car 6 Month 5 MAE: 313.9137539285714\n"
     ]
    },
    {
     "name": "stderr",
     "output_type": "stream",
     "text": [
      "/data/anjliu/venv_kaggle_nfl/lib/python3.6/site-packages/sklearn/ensemble/forest.py:245: FutureWarning: The default value of n_estimators will change from 10 in version 0.20 to 100 in 0.22.\n",
      "  \"10 in version 0.20 to 100 in 0.22.\", FutureWarning)\n"
     ]
    },
    {
     "name": "stdout",
     "output_type": "stream",
     "text": [
      "Car 6 Month 6 MAE: 308.86303142857145\n"
     ]
    },
    {
     "name": "stderr",
     "output_type": "stream",
     "text": [
      "/data/anjliu/venv_kaggle_nfl/lib/python3.6/site-packages/sklearn/ensemble/forest.py:245: FutureWarning: The default value of n_estimators will change from 10 in version 0.20 to 100 in 0.22.\n",
      "  \"10 in version 0.20 to 100 in 0.22.\", FutureWarning)\n"
     ]
    },
    {
     "name": "stdout",
     "output_type": "stream",
     "text": [
      "Car 6 Month 7 MAE: 304.7205455357143\n"
     ]
    },
    {
     "name": "stderr",
     "output_type": "stream",
     "text": [
      "/data/anjliu/venv_kaggle_nfl/lib/python3.6/site-packages/sklearn/ensemble/forest.py:245: FutureWarning: The default value of n_estimators will change from 10 in version 0.20 to 100 in 0.22.\n",
      "  \"10 in version 0.20 to 100 in 0.22.\", FutureWarning)\n"
     ]
    },
    {
     "name": "stdout",
     "output_type": "stream",
     "text": [
      "Car 6 Month 8 MAE: 315.8966329743867\n"
     ]
    },
    {
     "name": "stderr",
     "output_type": "stream",
     "text": [
      "/data/anjliu/venv_kaggle_nfl/lib/python3.6/site-packages/sklearn/ensemble/forest.py:245: FutureWarning: The default value of n_estimators will change from 10 in version 0.20 to 100 in 0.22.\n",
      "  \"10 in version 0.20 to 100 in 0.22.\", FutureWarning)\n"
     ]
    },
    {
     "name": "stdout",
     "output_type": "stream",
     "text": [
      "Car 6 Month 9 MAE: 305.7465026167582\n"
     ]
    },
    {
     "name": "stderr",
     "output_type": "stream",
     "text": [
      "/data/anjliu/venv_kaggle_nfl/lib/python3.6/site-packages/sklearn/ensemble/forest.py:245: FutureWarning: The default value of n_estimators will change from 10 in version 0.20 to 100 in 0.22.\n",
      "  \"10 in version 0.20 to 100 in 0.22.\", FutureWarning)\n"
     ]
    },
    {
     "name": "stdout",
     "output_type": "stream",
     "text": [
      "Car 6 Month 10 MAE: 314.43328194083693\n"
     ]
    },
    {
     "name": "stderr",
     "output_type": "stream",
     "text": [
      "/data/anjliu/venv_kaggle_nfl/lib/python3.6/site-packages/sklearn/ensemble/forest.py:245: FutureWarning: The default value of n_estimators will change from 10 in version 0.20 to 100 in 0.22.\n",
      "  \"10 in version 0.20 to 100 in 0.22.\", FutureWarning)\n"
     ]
    },
    {
     "name": "stdout",
     "output_type": "stream",
     "text": [
      "Car 6 Month 11 MAE: 317.75317129689756\n"
     ]
    },
    {
     "name": "stderr",
     "output_type": "stream",
     "text": [
      "/data/anjliu/venv_kaggle_nfl/lib/python3.6/site-packages/sklearn/ensemble/forest.py:245: FutureWarning: The default value of n_estimators will change from 10 in version 0.20 to 100 in 0.22.\n",
      "  \"10 in version 0.20 to 100 in 0.22.\", FutureWarning)\n"
     ]
    },
    {
     "name": "stdout",
     "output_type": "stream",
     "text": [
      "Car 6 Month 12 MAE: 297.3723585317461\n"
     ]
    },
    {
     "name": "stderr",
     "output_type": "stream",
     "text": [
      "/data/anjliu/venv_kaggle_nfl/lib/python3.6/site-packages/sklearn/ensemble/forest.py:245: FutureWarning: The default value of n_estimators will change from 10 in version 0.20 to 100 in 0.22.\n",
      "  \"10 in version 0.20 to 100 in 0.22.\", FutureWarning)\n"
     ]
    },
    {
     "name": "stdout",
     "output_type": "stream",
     "text": [
      "Car 7 Month 1 MAE: 281.8302591432179\n"
     ]
    },
    {
     "name": "stderr",
     "output_type": "stream",
     "text": [
      "/data/anjliu/venv_kaggle_nfl/lib/python3.6/site-packages/sklearn/ensemble/forest.py:245: FutureWarning: The default value of n_estimators will change from 10 in version 0.20 to 100 in 0.22.\n",
      "  \"10 in version 0.20 to 100 in 0.22.\", FutureWarning)\n"
     ]
    },
    {
     "name": "stdout",
     "output_type": "stream",
     "text": [
      "Car 7 Month 2 MAE: 304.7050661192974\n"
     ]
    },
    {
     "name": "stderr",
     "output_type": "stream",
     "text": [
      "/data/anjliu/venv_kaggle_nfl/lib/python3.6/site-packages/sklearn/ensemble/forest.py:245: FutureWarning: The default value of n_estimators will change from 10 in version 0.20 to 100 in 0.22.\n",
      "  \"10 in version 0.20 to 100 in 0.22.\", FutureWarning)\n"
     ]
    },
    {
     "name": "stdout",
     "output_type": "stream",
     "text": [
      "Car 7 Month 3 MAE: 305.50559189393937\n"
     ]
    },
    {
     "name": "stderr",
     "output_type": "stream",
     "text": [
      "/data/anjliu/venv_kaggle_nfl/lib/python3.6/site-packages/sklearn/ensemble/forest.py:245: FutureWarning: The default value of n_estimators will change from 10 in version 0.20 to 100 in 0.22.\n",
      "  \"10 in version 0.20 to 100 in 0.22.\", FutureWarning)\n"
     ]
    },
    {
     "name": "stdout",
     "output_type": "stream",
     "text": [
      "Car 7 Month 4 MAE: 304.46097145354645\n"
     ]
    },
    {
     "name": "stderr",
     "output_type": "stream",
     "text": [
      "/data/anjliu/venv_kaggle_nfl/lib/python3.6/site-packages/sklearn/ensemble/forest.py:245: FutureWarning: The default value of n_estimators will change from 10 in version 0.20 to 100 in 0.22.\n",
      "  \"10 in version 0.20 to 100 in 0.22.\", FutureWarning)\n"
     ]
    },
    {
     "name": "stdout",
     "output_type": "stream",
     "text": [
      "Car 7 Month 5 MAE: 304.2770117612045\n"
     ]
    },
    {
     "name": "stderr",
     "output_type": "stream",
     "text": [
      "/data/anjliu/venv_kaggle_nfl/lib/python3.6/site-packages/sklearn/ensemble/forest.py:245: FutureWarning: The default value of n_estimators will change from 10 in version 0.20 to 100 in 0.22.\n",
      "  \"10 in version 0.20 to 100 in 0.22.\", FutureWarning)\n"
     ]
    },
    {
     "name": "stdout",
     "output_type": "stream",
     "text": [
      "Car 7 Month 6 MAE: 291.600755813492\n"
     ]
    },
    {
     "name": "stderr",
     "output_type": "stream",
     "text": [
      "/data/anjliu/venv_kaggle_nfl/lib/python3.6/site-packages/sklearn/ensemble/forest.py:245: FutureWarning: The default value of n_estimators will change from 10 in version 0.20 to 100 in 0.22.\n",
      "  \"10 in version 0.20 to 100 in 0.22.\", FutureWarning)\n"
     ]
    },
    {
     "name": "stdout",
     "output_type": "stream",
     "text": [
      "Car 7 Month 7 MAE: 290.5807141468254\n"
     ]
    },
    {
     "name": "stderr",
     "output_type": "stream",
     "text": [
      "/data/anjliu/venv_kaggle_nfl/lib/python3.6/site-packages/sklearn/ensemble/forest.py:245: FutureWarning: The default value of n_estimators will change from 10 in version 0.20 to 100 in 0.22.\n",
      "  \"10 in version 0.20 to 100 in 0.22.\", FutureWarning)\n"
     ]
    },
    {
     "name": "stdout",
     "output_type": "stream",
     "text": [
      "Car 7 Month 8 MAE: 302.5022112087912\n"
     ]
    },
    {
     "name": "stderr",
     "output_type": "stream",
     "text": [
      "/data/anjliu/venv_kaggle_nfl/lib/python3.6/site-packages/sklearn/ensemble/forest.py:245: FutureWarning: The default value of n_estimators will change from 10 in version 0.20 to 100 in 0.22.\n",
      "  \"10 in version 0.20 to 100 in 0.22.\", FutureWarning)\n"
     ]
    },
    {
     "name": "stdout",
     "output_type": "stream",
     "text": [
      "Car 7 Month 9 MAE: 289.14685470238095\n"
     ]
    },
    {
     "name": "stderr",
     "output_type": "stream",
     "text": [
      "/data/anjliu/venv_kaggle_nfl/lib/python3.6/site-packages/sklearn/ensemble/forest.py:245: FutureWarning: The default value of n_estimators will change from 10 in version 0.20 to 100 in 0.22.\n",
      "  \"10 in version 0.20 to 100 in 0.22.\", FutureWarning)\n"
     ]
    },
    {
     "name": "stdout",
     "output_type": "stream",
     "text": [
      "Car 7 Month 10 MAE: 295.9191491702742\n"
     ]
    },
    {
     "name": "stderr",
     "output_type": "stream",
     "text": [
      "/data/anjliu/venv_kaggle_nfl/lib/python3.6/site-packages/sklearn/ensemble/forest.py:245: FutureWarning: The default value of n_estimators will change from 10 in version 0.20 to 100 in 0.22.\n",
      "  \"10 in version 0.20 to 100 in 0.22.\", FutureWarning)\n"
     ]
    },
    {
     "name": "stdout",
     "output_type": "stream",
     "text": [
      "Car 7 Month 11 MAE: 301.8140381410256\n"
     ]
    },
    {
     "name": "stderr",
     "output_type": "stream",
     "text": [
      "/data/anjliu/venv_kaggle_nfl/lib/python3.6/site-packages/sklearn/ensemble/forest.py:245: FutureWarning: The default value of n_estimators will change from 10 in version 0.20 to 100 in 0.22.\n",
      "  \"10 in version 0.20 to 100 in 0.22.\", FutureWarning)\n"
     ]
    },
    {
     "name": "stdout",
     "output_type": "stream",
     "text": [
      "Car 7 Month 12 MAE: 277.4772202960928\n"
     ]
    },
    {
     "name": "stderr",
     "output_type": "stream",
     "text": [
      "/data/anjliu/venv_kaggle_nfl/lib/python3.6/site-packages/sklearn/ensemble/forest.py:245: FutureWarning: The default value of n_estimators will change from 10 in version 0.20 to 100 in 0.22.\n",
      "  \"10 in version 0.20 to 100 in 0.22.\", FutureWarning)\n"
     ]
    },
    {
     "name": "stdout",
     "output_type": "stream",
     "text": [
      "Car 8 Month 1 MAE: 212.43629093253966\n"
     ]
    },
    {
     "name": "stderr",
     "output_type": "stream",
     "text": [
      "/data/anjliu/venv_kaggle_nfl/lib/python3.6/site-packages/sklearn/ensemble/forest.py:245: FutureWarning: The default value of n_estimators will change from 10 in version 0.20 to 100 in 0.22.\n",
      "  \"10 in version 0.20 to 100 in 0.22.\", FutureWarning)\n"
     ]
    },
    {
     "name": "stdout",
     "output_type": "stream",
     "text": [
      "Car 8 Month 2 MAE: 220.6149608531746\n"
     ]
    },
    {
     "name": "stderr",
     "output_type": "stream",
     "text": [
      "/data/anjliu/venv_kaggle_nfl/lib/python3.6/site-packages/sklearn/ensemble/forest.py:245: FutureWarning: The default value of n_estimators will change from 10 in version 0.20 to 100 in 0.22.\n",
      "  \"10 in version 0.20 to 100 in 0.22.\", FutureWarning)\n"
     ]
    },
    {
     "name": "stdout",
     "output_type": "stream",
     "text": [
      "Car 8 Month 3 MAE: 225.2486495328283\n"
     ]
    },
    {
     "name": "stderr",
     "output_type": "stream",
     "text": [
      "/data/anjliu/venv_kaggle_nfl/lib/python3.6/site-packages/sklearn/ensemble/forest.py:245: FutureWarning: The default value of n_estimators will change from 10 in version 0.20 to 100 in 0.22.\n",
      "  \"10 in version 0.20 to 100 in 0.22.\", FutureWarning)\n"
     ]
    },
    {
     "name": "stdout",
     "output_type": "stream",
     "text": [
      "Car 8 Month 4 MAE: 226.00539869047617\n"
     ]
    },
    {
     "name": "stderr",
     "output_type": "stream",
     "text": [
      "/data/anjliu/venv_kaggle_nfl/lib/python3.6/site-packages/sklearn/ensemble/forest.py:245: FutureWarning: The default value of n_estimators will change from 10 in version 0.20 to 100 in 0.22.\n",
      "  \"10 in version 0.20 to 100 in 0.22.\", FutureWarning)\n"
     ]
    },
    {
     "name": "stdout",
     "output_type": "stream",
     "text": [
      "Car 8 Month 5 MAE: 227.46333473845598\n"
     ]
    },
    {
     "name": "stderr",
     "output_type": "stream",
     "text": [
      "/data/anjliu/venv_kaggle_nfl/lib/python3.6/site-packages/sklearn/ensemble/forest.py:245: FutureWarning: The default value of n_estimators will change from 10 in version 0.20 to 100 in 0.22.\n",
      "  \"10 in version 0.20 to 100 in 0.22.\", FutureWarning)\n"
     ]
    },
    {
     "name": "stdout",
     "output_type": "stream",
     "text": [
      "Car 8 Month 6 MAE: 217.55429067460318\n"
     ]
    },
    {
     "name": "stderr",
     "output_type": "stream",
     "text": [
      "/data/anjliu/venv_kaggle_nfl/lib/python3.6/site-packages/sklearn/ensemble/forest.py:245: FutureWarning: The default value of n_estimators will change from 10 in version 0.20 to 100 in 0.22.\n",
      "  \"10 in version 0.20 to 100 in 0.22.\", FutureWarning)\n"
     ]
    },
    {
     "name": "stdout",
     "output_type": "stream",
     "text": [
      "Car 8 Month 7 MAE: 219.3181153571429\n"
     ]
    },
    {
     "name": "stderr",
     "output_type": "stream",
     "text": [
      "/data/anjliu/venv_kaggle_nfl/lib/python3.6/site-packages/sklearn/ensemble/forest.py:245: FutureWarning: The default value of n_estimators will change from 10 in version 0.20 to 100 in 0.22.\n",
      "  \"10 in version 0.20 to 100 in 0.22.\", FutureWarning)\n"
     ]
    },
    {
     "name": "stdout",
     "output_type": "stream",
     "text": [
      "Car 8 Month 8 MAE: 228.6992392063492\n"
     ]
    },
    {
     "name": "stderr",
     "output_type": "stream",
     "text": [
      "/data/anjliu/venv_kaggle_nfl/lib/python3.6/site-packages/sklearn/ensemble/forest.py:245: FutureWarning: The default value of n_estimators will change from 10 in version 0.20 to 100 in 0.22.\n",
      "  \"10 in version 0.20 to 100 in 0.22.\", FutureWarning)\n"
     ]
    },
    {
     "name": "stdout",
     "output_type": "stream",
     "text": [
      "Car 8 Month 9 MAE: 219.30530504884004\n"
     ]
    },
    {
     "name": "stderr",
     "output_type": "stream",
     "text": [
      "/data/anjliu/venv_kaggle_nfl/lib/python3.6/site-packages/sklearn/ensemble/forest.py:245: FutureWarning: The default value of n_estimators will change from 10 in version 0.20 to 100 in 0.22.\n",
      "  \"10 in version 0.20 to 100 in 0.22.\", FutureWarning)\n"
     ]
    },
    {
     "name": "stdout",
     "output_type": "stream",
     "text": [
      "Car 8 Month 10 MAE: 224.79614710678212\n"
     ]
    },
    {
     "name": "stderr",
     "output_type": "stream",
     "text": [
      "/data/anjliu/venv_kaggle_nfl/lib/python3.6/site-packages/sklearn/ensemble/forest.py:245: FutureWarning: The default value of n_estimators will change from 10 in version 0.20 to 100 in 0.22.\n",
      "  \"10 in version 0.20 to 100 in 0.22.\", FutureWarning)\n"
     ]
    },
    {
     "name": "stdout",
     "output_type": "stream",
     "text": [
      "Car 8 Month 11 MAE: 225.50387210678213\n"
     ]
    },
    {
     "name": "stderr",
     "output_type": "stream",
     "text": [
      "/data/anjliu/venv_kaggle_nfl/lib/python3.6/site-packages/sklearn/ensemble/forest.py:245: FutureWarning: The default value of n_estimators will change from 10 in version 0.20 to 100 in 0.22.\n",
      "  \"10 in version 0.20 to 100 in 0.22.\", FutureWarning)\n"
     ]
    },
    {
     "name": "stdout",
     "output_type": "stream",
     "text": [
      "Car 8 Month 12 MAE: 203.7304720238095\n",
      "Total MAE 287.8455672781376\n"
     ]
    }
   ],
   "source": [
    "learning_method_params = {'n_estimator': 50, 'max_depth': 10, 'random_state': 2}\n",
    "raw_result_RF = build_model(X,\n",
    "                         Y_car_dict,\n",
    "                         num_car=8,\n",
    "                         num_month=12,\n",
    "                         learning_method=build_RFR,\n",
    "                         **learning_method_params)\n",
    "\n",
    "df_result_RF = process_result_to_dataframe(raw_result_RF)\n",
    "print('Total MAE', mean_absolute_error(df_result_RF.valid, df_result_RF.pred))"
   ]
  },
  {
   "cell_type": "markdown",
   "metadata": {},
   "source": [
    "## Evaluate Deep Neural Network"
   ]
  },
  {
   "cell_type": "code",
   "execution_count": 66,
   "metadata": {
    "ExecuteTime": {
     "end_time": "2020-03-30T09:54:20.093116Z",
     "start_time": "2020-03-30T08:07:16.151931Z"
    }
   },
   "outputs": [
    {
     "name": "stderr",
     "output_type": "stream",
     "text": [
      "/data/anjliu/venv_kaggle_nfl/lib/python3.6/site-packages/sklearn/neural_network/multilayer_perceptron.py:566: ConvergenceWarning: Stochastic Optimizer: Maximum iterations (200) reached and the optimization hasn't converged yet.\n",
      "  % self.max_iter, ConvergenceWarning)\n"
     ]
    },
    {
     "name": "stdout",
     "output_type": "stream",
     "text": [
      "Car 1 Month 1 MAE: 264.45819717359916\n"
     ]
    },
    {
     "name": "stderr",
     "output_type": "stream",
     "text": [
      "/data/anjliu/venv_kaggle_nfl/lib/python3.6/site-packages/sklearn/neural_network/multilayer_perceptron.py:566: ConvergenceWarning: Stochastic Optimizer: Maximum iterations (200) reached and the optimization hasn't converged yet.\n",
      "  % self.max_iter, ConvergenceWarning)\n"
     ]
    },
    {
     "name": "stdout",
     "output_type": "stream",
     "text": [
      "Car 1 Month 2 MAE: 286.3234471106813\n",
      "Car 1 Month 3 MAE: 293.69649609615107\n"
     ]
    },
    {
     "name": "stderr",
     "output_type": "stream",
     "text": [
      "/data/anjliu/venv_kaggle_nfl/lib/python3.6/site-packages/sklearn/neural_network/multilayer_perceptron.py:566: ConvergenceWarning: Stochastic Optimizer: Maximum iterations (200) reached and the optimization hasn't converged yet.\n",
      "  % self.max_iter, ConvergenceWarning)\n"
     ]
    },
    {
     "name": "stdout",
     "output_type": "stream",
     "text": [
      "Car 1 Month 4 MAE: 292.65155267373535\n"
     ]
    },
    {
     "name": "stderr",
     "output_type": "stream",
     "text": [
      "/data/anjliu/venv_kaggle_nfl/lib/python3.6/site-packages/sklearn/neural_network/multilayer_perceptron.py:566: ConvergenceWarning: Stochastic Optimizer: Maximum iterations (200) reached and the optimization hasn't converged yet.\n",
      "  % self.max_iter, ConvergenceWarning)\n"
     ]
    },
    {
     "name": "stdout",
     "output_type": "stream",
     "text": [
      "Car 1 Month 5 MAE: 296.54182392863316\n"
     ]
    },
    {
     "name": "stderr",
     "output_type": "stream",
     "text": [
      "/data/anjliu/venv_kaggle_nfl/lib/python3.6/site-packages/sklearn/neural_network/multilayer_perceptron.py:566: ConvergenceWarning: Stochastic Optimizer: Maximum iterations (200) reached and the optimization hasn't converged yet.\n",
      "  % self.max_iter, ConvergenceWarning)\n"
     ]
    },
    {
     "name": "stdout",
     "output_type": "stream",
     "text": [
      "Car 1 Month 6 MAE: 280.809543794745\n",
      "Car 1 Month 7 MAE: 282.7157073682343\n"
     ]
    },
    {
     "name": "stderr",
     "output_type": "stream",
     "text": [
      "/data/anjliu/venv_kaggle_nfl/lib/python3.6/site-packages/sklearn/neural_network/multilayer_perceptron.py:566: ConvergenceWarning: Stochastic Optimizer: Maximum iterations (200) reached and the optimization hasn't converged yet.\n",
      "  % self.max_iter, ConvergenceWarning)\n"
     ]
    },
    {
     "name": "stdout",
     "output_type": "stream",
     "text": [
      "Car 1 Month 8 MAE: 299.40241230712195\n"
     ]
    },
    {
     "name": "stderr",
     "output_type": "stream",
     "text": [
      "/data/anjliu/venv_kaggle_nfl/lib/python3.6/site-packages/sklearn/neural_network/multilayer_perceptron.py:566: ConvergenceWarning: Stochastic Optimizer: Maximum iterations (200) reached and the optimization hasn't converged yet.\n",
      "  % self.max_iter, ConvergenceWarning)\n"
     ]
    },
    {
     "name": "stdout",
     "output_type": "stream",
     "text": [
      "Car 1 Month 9 MAE: 284.09834490210574\n"
     ]
    },
    {
     "name": "stderr",
     "output_type": "stream",
     "text": [
      "/data/anjliu/venv_kaggle_nfl/lib/python3.6/site-packages/sklearn/neural_network/multilayer_perceptron.py:566: ConvergenceWarning: Stochastic Optimizer: Maximum iterations (200) reached and the optimization hasn't converged yet.\n",
      "  % self.max_iter, ConvergenceWarning)\n"
     ]
    },
    {
     "name": "stdout",
     "output_type": "stream",
     "text": [
      "Car 1 Month 10 MAE: 283.0591872662452\n"
     ]
    },
    {
     "name": "stderr",
     "output_type": "stream",
     "text": [
      "/data/anjliu/venv_kaggle_nfl/lib/python3.6/site-packages/sklearn/neural_network/multilayer_perceptron.py:566: ConvergenceWarning: Stochastic Optimizer: Maximum iterations (200) reached and the optimization hasn't converged yet.\n",
      "  % self.max_iter, ConvergenceWarning)\n"
     ]
    },
    {
     "name": "stdout",
     "output_type": "stream",
     "text": [
      "Car 1 Month 11 MAE: 293.72690584389477\n"
     ]
    },
    {
     "name": "stderr",
     "output_type": "stream",
     "text": [
      "/data/anjliu/venv_kaggle_nfl/lib/python3.6/site-packages/sklearn/neural_network/multilayer_perceptron.py:566: ConvergenceWarning: Stochastic Optimizer: Maximum iterations (200) reached and the optimization hasn't converged yet.\n",
      "  % self.max_iter, ConvergenceWarning)\n"
     ]
    },
    {
     "name": "stdout",
     "output_type": "stream",
     "text": [
      "Car 1 Month 12 MAE: 257.6540760906951\n"
     ]
    },
    {
     "name": "stderr",
     "output_type": "stream",
     "text": [
      "/data/anjliu/venv_kaggle_nfl/lib/python3.6/site-packages/sklearn/neural_network/multilayer_perceptron.py:566: ConvergenceWarning: Stochastic Optimizer: Maximum iterations (200) reached and the optimization hasn't converged yet.\n",
      "  % self.max_iter, ConvergenceWarning)\n"
     ]
    },
    {
     "name": "stdout",
     "output_type": "stream",
     "text": [
      "Car 2 Month 1 MAE: 345.43406542118976\n"
     ]
    },
    {
     "name": "stderr",
     "output_type": "stream",
     "text": [
      "/data/anjliu/venv_kaggle_nfl/lib/python3.6/site-packages/sklearn/neural_network/multilayer_perceptron.py:566: ConvergenceWarning: Stochastic Optimizer: Maximum iterations (200) reached and the optimization hasn't converged yet.\n",
      "  % self.max_iter, ConvergenceWarning)\n"
     ]
    },
    {
     "name": "stdout",
     "output_type": "stream",
     "text": [
      "Car 2 Month 2 MAE: 371.6749689566779\n"
     ]
    },
    {
     "name": "stderr",
     "output_type": "stream",
     "text": [
      "/data/anjliu/venv_kaggle_nfl/lib/python3.6/site-packages/sklearn/neural_network/multilayer_perceptron.py:566: ConvergenceWarning: Stochastic Optimizer: Maximum iterations (200) reached and the optimization hasn't converged yet.\n",
      "  % self.max_iter, ConvergenceWarning)\n"
     ]
    },
    {
     "name": "stdout",
     "output_type": "stream",
     "text": [
      "Car 2 Month 3 MAE: 373.86707850822546\n"
     ]
    },
    {
     "name": "stderr",
     "output_type": "stream",
     "text": [
      "/data/anjliu/venv_kaggle_nfl/lib/python3.6/site-packages/sklearn/neural_network/multilayer_perceptron.py:566: ConvergenceWarning: Stochastic Optimizer: Maximum iterations (200) reached and the optimization hasn't converged yet.\n",
      "  % self.max_iter, ConvergenceWarning)\n"
     ]
    },
    {
     "name": "stdout",
     "output_type": "stream",
     "text": [
      "Car 2 Month 4 MAE: 377.70957085911834\n"
     ]
    },
    {
     "name": "stderr",
     "output_type": "stream",
     "text": [
      "/data/anjliu/venv_kaggle_nfl/lib/python3.6/site-packages/sklearn/neural_network/multilayer_perceptron.py:566: ConvergenceWarning: Stochastic Optimizer: Maximum iterations (200) reached and the optimization hasn't converged yet.\n",
      "  % self.max_iter, ConvergenceWarning)\n"
     ]
    },
    {
     "name": "stdout",
     "output_type": "stream",
     "text": [
      "Car 2 Month 5 MAE: 385.21538170481546\n"
     ]
    },
    {
     "name": "stderr",
     "output_type": "stream",
     "text": [
      "/data/anjliu/venv_kaggle_nfl/lib/python3.6/site-packages/sklearn/neural_network/multilayer_perceptron.py:566: ConvergenceWarning: Stochastic Optimizer: Maximum iterations (200) reached and the optimization hasn't converged yet.\n",
      "  % self.max_iter, ConvergenceWarning)\n"
     ]
    },
    {
     "name": "stdout",
     "output_type": "stream",
     "text": [
      "Car 2 Month 6 MAE: 364.3900288537039\n"
     ]
    },
    {
     "name": "stderr",
     "output_type": "stream",
     "text": [
      "/data/anjliu/venv_kaggle_nfl/lib/python3.6/site-packages/sklearn/neural_network/multilayer_perceptron.py:566: ConvergenceWarning: Stochastic Optimizer: Maximum iterations (200) reached and the optimization hasn't converged yet.\n",
      "  % self.max_iter, ConvergenceWarning)\n"
     ]
    },
    {
     "name": "stdout",
     "output_type": "stream",
     "text": [
      "Car 2 Month 7 MAE: 368.47751481368084\n"
     ]
    },
    {
     "name": "stderr",
     "output_type": "stream",
     "text": [
      "/data/anjliu/venv_kaggle_nfl/lib/python3.6/site-packages/sklearn/neural_network/multilayer_perceptron.py:566: ConvergenceWarning: Stochastic Optimizer: Maximum iterations (200) reached and the optimization hasn't converged yet.\n",
      "  % self.max_iter, ConvergenceWarning)\n"
     ]
    },
    {
     "name": "stdout",
     "output_type": "stream",
     "text": [
      "Car 2 Month 8 MAE: 392.2557637831751\n"
     ]
    },
    {
     "name": "stderr",
     "output_type": "stream",
     "text": [
      "/data/anjliu/venv_kaggle_nfl/lib/python3.6/site-packages/sklearn/neural_network/multilayer_perceptron.py:566: ConvergenceWarning: Stochastic Optimizer: Maximum iterations (200) reached and the optimization hasn't converged yet.\n",
      "  % self.max_iter, ConvergenceWarning)\n"
     ]
    },
    {
     "name": "stdout",
     "output_type": "stream",
     "text": [
      "Car 2 Month 9 MAE: 375.7878418389803\n"
     ]
    },
    {
     "name": "stderr",
     "output_type": "stream",
     "text": [
      "/data/anjliu/venv_kaggle_nfl/lib/python3.6/site-packages/sklearn/neural_network/multilayer_perceptron.py:566: ConvergenceWarning: Stochastic Optimizer: Maximum iterations (200) reached and the optimization hasn't converged yet.\n",
      "  % self.max_iter, ConvergenceWarning)\n"
     ]
    },
    {
     "name": "stdout",
     "output_type": "stream",
     "text": [
      "Car 2 Month 10 MAE: 369.461371692233\n",
      "Car 2 Month 11 MAE: 392.1992054737285\n"
     ]
    },
    {
     "name": "stderr",
     "output_type": "stream",
     "text": [
      "/data/anjliu/venv_kaggle_nfl/lib/python3.6/site-packages/sklearn/neural_network/multilayer_perceptron.py:566: ConvergenceWarning: Stochastic Optimizer: Maximum iterations (200) reached and the optimization hasn't converged yet.\n",
      "  % self.max_iter, ConvergenceWarning)\n"
     ]
    },
    {
     "name": "stdout",
     "output_type": "stream",
     "text": [
      "Car 2 Month 12 MAE: 338.6637888641383\n"
     ]
    },
    {
     "name": "stderr",
     "output_type": "stream",
     "text": [
      "/data/anjliu/venv_kaggle_nfl/lib/python3.6/site-packages/sklearn/neural_network/multilayer_perceptron.py:566: ConvergenceWarning: Stochastic Optimizer: Maximum iterations (200) reached and the optimization hasn't converged yet.\n",
      "  % self.max_iter, ConvergenceWarning)\n"
     ]
    },
    {
     "name": "stdout",
     "output_type": "stream",
     "text": [
      "Car 3 Month 1 MAE: 361.18801180106203\n"
     ]
    },
    {
     "name": "stderr",
     "output_type": "stream",
     "text": [
      "/data/anjliu/venv_kaggle_nfl/lib/python3.6/site-packages/sklearn/neural_network/multilayer_perceptron.py:566: ConvergenceWarning: Stochastic Optimizer: Maximum iterations (200) reached and the optimization hasn't converged yet.\n",
      "  % self.max_iter, ConvergenceWarning)\n"
     ]
    },
    {
     "name": "stdout",
     "output_type": "stream",
     "text": [
      "Car 3 Month 2 MAE: 389.25540121099294\n"
     ]
    },
    {
     "name": "stderr",
     "output_type": "stream",
     "text": [
      "/data/anjliu/venv_kaggle_nfl/lib/python3.6/site-packages/sklearn/neural_network/multilayer_perceptron.py:566: ConvergenceWarning: Stochastic Optimizer: Maximum iterations (200) reached and the optimization hasn't converged yet.\n",
      "  % self.max_iter, ConvergenceWarning)\n"
     ]
    },
    {
     "name": "stdout",
     "output_type": "stream",
     "text": [
      "Car 3 Month 3 MAE: 385.9718181950078\n"
     ]
    },
    {
     "name": "stderr",
     "output_type": "stream",
     "text": [
      "/data/anjliu/venv_kaggle_nfl/lib/python3.6/site-packages/sklearn/neural_network/multilayer_perceptron.py:566: ConvergenceWarning: Stochastic Optimizer: Maximum iterations (200) reached and the optimization hasn't converged yet.\n",
      "  % self.max_iter, ConvergenceWarning)\n"
     ]
    },
    {
     "name": "stdout",
     "output_type": "stream",
     "text": [
      "Car 3 Month 4 MAE: 411.8695891335491\n"
     ]
    },
    {
     "name": "stderr",
     "output_type": "stream",
     "text": [
      "/data/anjliu/venv_kaggle_nfl/lib/python3.6/site-packages/sklearn/neural_network/multilayer_perceptron.py:566: ConvergenceWarning: Stochastic Optimizer: Maximum iterations (200) reached and the optimization hasn't converged yet.\n",
      "  % self.max_iter, ConvergenceWarning)\n"
     ]
    },
    {
     "name": "stdout",
     "output_type": "stream",
     "text": [
      "Car 3 Month 5 MAE: 397.46734008287325\n",
      "Car 3 Month 6 MAE: 377.73702355498074\n"
     ]
    },
    {
     "name": "stderr",
     "output_type": "stream",
     "text": [
      "/data/anjliu/venv_kaggle_nfl/lib/python3.6/site-packages/sklearn/neural_network/multilayer_perceptron.py:566: ConvergenceWarning: Stochastic Optimizer: Maximum iterations (200) reached and the optimization hasn't converged yet.\n",
      "  % self.max_iter, ConvergenceWarning)\n"
     ]
    },
    {
     "name": "stdout",
     "output_type": "stream",
     "text": [
      "Car 3 Month 7 MAE: 387.2698211448528\n"
     ]
    },
    {
     "name": "stderr",
     "output_type": "stream",
     "text": [
      "/data/anjliu/venv_kaggle_nfl/lib/python3.6/site-packages/sklearn/neural_network/multilayer_perceptron.py:566: ConvergenceWarning: Stochastic Optimizer: Maximum iterations (200) reached and the optimization hasn't converged yet.\n",
      "  % self.max_iter, ConvergenceWarning)\n"
     ]
    },
    {
     "name": "stdout",
     "output_type": "stream",
     "text": [
      "Car 3 Month 8 MAE: 411.46343132270886\n"
     ]
    },
    {
     "name": "stderr",
     "output_type": "stream",
     "text": [
      "/data/anjliu/venv_kaggle_nfl/lib/python3.6/site-packages/sklearn/neural_network/multilayer_perceptron.py:566: ConvergenceWarning: Stochastic Optimizer: Maximum iterations (200) reached and the optimization hasn't converged yet.\n",
      "  % self.max_iter, ConvergenceWarning)\n"
     ]
    },
    {
     "name": "stdout",
     "output_type": "stream",
     "text": [
      "Car 3 Month 9 MAE: 391.7112263903978\n"
     ]
    },
    {
     "name": "stderr",
     "output_type": "stream",
     "text": [
      "/data/anjliu/venv_kaggle_nfl/lib/python3.6/site-packages/sklearn/neural_network/multilayer_perceptron.py:566: ConvergenceWarning: Stochastic Optimizer: Maximum iterations (200) reached and the optimization hasn't converged yet.\n",
      "  % self.max_iter, ConvergenceWarning)\n"
     ]
    },
    {
     "name": "stdout",
     "output_type": "stream",
     "text": [
      "Car 3 Month 10 MAE: 390.9182984206548\n"
     ]
    },
    {
     "name": "stderr",
     "output_type": "stream",
     "text": [
      "/data/anjliu/venv_kaggle_nfl/lib/python3.6/site-packages/sklearn/neural_network/multilayer_perceptron.py:566: ConvergenceWarning: Stochastic Optimizer: Maximum iterations (200) reached and the optimization hasn't converged yet.\n",
      "  % self.max_iter, ConvergenceWarning)\n"
     ]
    },
    {
     "name": "stdout",
     "output_type": "stream",
     "text": [
      "Car 3 Month 11 MAE: 400.6908757014662\n",
      "Car 3 Month 12 MAE: 360.91677466032655\n"
     ]
    },
    {
     "name": "stderr",
     "output_type": "stream",
     "text": [
      "/data/anjliu/venv_kaggle_nfl/lib/python3.6/site-packages/sklearn/neural_network/multilayer_perceptron.py:566: ConvergenceWarning: Stochastic Optimizer: Maximum iterations (200) reached and the optimization hasn't converged yet.\n",
      "  % self.max_iter, ConvergenceWarning)\n"
     ]
    },
    {
     "name": "stdout",
     "output_type": "stream",
     "text": [
      "Car 4 Month 1 MAE: 379.91438159415674\n",
      "Car 4 Month 2 MAE: 398.26354473288205\n"
     ]
    },
    {
     "name": "stderr",
     "output_type": "stream",
     "text": [
      "/data/anjliu/venv_kaggle_nfl/lib/python3.6/site-packages/sklearn/neural_network/multilayer_perceptron.py:566: ConvergenceWarning: Stochastic Optimizer: Maximum iterations (200) reached and the optimization hasn't converged yet.\n",
      "  % self.max_iter, ConvergenceWarning)\n"
     ]
    },
    {
     "name": "stdout",
     "output_type": "stream",
     "text": [
      "Car 4 Month 3 MAE: 394.79479833858807\n"
     ]
    },
    {
     "name": "stderr",
     "output_type": "stream",
     "text": [
      "/data/anjliu/venv_kaggle_nfl/lib/python3.6/site-packages/sklearn/neural_network/multilayer_perceptron.py:566: ConvergenceWarning: Stochastic Optimizer: Maximum iterations (200) reached and the optimization hasn't converged yet.\n",
      "  % self.max_iter, ConvergenceWarning)\n"
     ]
    },
    {
     "name": "stdout",
     "output_type": "stream",
     "text": [
      "Car 4 Month 4 MAE: 526.9483587018528\n"
     ]
    },
    {
     "name": "stderr",
     "output_type": "stream",
     "text": [
      "/data/anjliu/venv_kaggle_nfl/lib/python3.6/site-packages/sklearn/neural_network/multilayer_perceptron.py:566: ConvergenceWarning: Stochastic Optimizer: Maximum iterations (200) reached and the optimization hasn't converged yet.\n",
      "  % self.max_iter, ConvergenceWarning)\n"
     ]
    },
    {
     "name": "stdout",
     "output_type": "stream",
     "text": [
      "Car 4 Month 5 MAE: 396.4707210106435\n"
     ]
    },
    {
     "name": "stderr",
     "output_type": "stream",
     "text": [
      "/data/anjliu/venv_kaggle_nfl/lib/python3.6/site-packages/sklearn/neural_network/multilayer_perceptron.py:566: ConvergenceWarning: Stochastic Optimizer: Maximum iterations (200) reached and the optimization hasn't converged yet.\n",
      "  % self.max_iter, ConvergenceWarning)\n"
     ]
    },
    {
     "name": "stdout",
     "output_type": "stream",
     "text": [
      "Car 4 Month 6 MAE: 383.9986123658929\n"
     ]
    },
    {
     "name": "stderr",
     "output_type": "stream",
     "text": [
      "/data/anjliu/venv_kaggle_nfl/lib/python3.6/site-packages/sklearn/neural_network/multilayer_perceptron.py:566: ConvergenceWarning: Stochastic Optimizer: Maximum iterations (200) reached and the optimization hasn't converged yet.\n",
      "  % self.max_iter, ConvergenceWarning)\n"
     ]
    },
    {
     "name": "stdout",
     "output_type": "stream",
     "text": [
      "Car 4 Month 7 MAE: 390.43763908812605\n"
     ]
    },
    {
     "name": "stderr",
     "output_type": "stream",
     "text": [
      "/data/anjliu/venv_kaggle_nfl/lib/python3.6/site-packages/sklearn/neural_network/multilayer_perceptron.py:566: ConvergenceWarning: Stochastic Optimizer: Maximum iterations (200) reached and the optimization hasn't converged yet.\n",
      "  % self.max_iter, ConvergenceWarning)\n"
     ]
    },
    {
     "name": "stdout",
     "output_type": "stream",
     "text": [
      "Car 4 Month 8 MAE: 419.1614220890853\n"
     ]
    },
    {
     "name": "stderr",
     "output_type": "stream",
     "text": [
      "/data/anjliu/venv_kaggle_nfl/lib/python3.6/site-packages/sklearn/neural_network/multilayer_perceptron.py:566: ConvergenceWarning: Stochastic Optimizer: Maximum iterations (200) reached and the optimization hasn't converged yet.\n",
      "  % self.max_iter, ConvergenceWarning)\n"
     ]
    },
    {
     "name": "stdout",
     "output_type": "stream",
     "text": [
      "Car 4 Month 9 MAE: 390.96397451506357\n"
     ]
    },
    {
     "name": "stderr",
     "output_type": "stream",
     "text": [
      "/data/anjliu/venv_kaggle_nfl/lib/python3.6/site-packages/sklearn/neural_network/multilayer_perceptron.py:566: ConvergenceWarning: Stochastic Optimizer: Maximum iterations (200) reached and the optimization hasn't converged yet.\n",
      "  % self.max_iter, ConvergenceWarning)\n"
     ]
    },
    {
     "name": "stdout",
     "output_type": "stream",
     "text": [
      "Car 4 Month 10 MAE: 392.06522880141506\n"
     ]
    },
    {
     "name": "stderr",
     "output_type": "stream",
     "text": [
      "/data/anjliu/venv_kaggle_nfl/lib/python3.6/site-packages/sklearn/neural_network/multilayer_perceptron.py:566: ConvergenceWarning: Stochastic Optimizer: Maximum iterations (200) reached and the optimization hasn't converged yet.\n",
      "  % self.max_iter, ConvergenceWarning)\n"
     ]
    },
    {
     "name": "stdout",
     "output_type": "stream",
     "text": [
      "Car 4 Month 11 MAE: 407.8901863569475\n"
     ]
    },
    {
     "name": "stderr",
     "output_type": "stream",
     "text": [
      "/data/anjliu/venv_kaggle_nfl/lib/python3.6/site-packages/sklearn/neural_network/multilayer_perceptron.py:566: ConvergenceWarning: Stochastic Optimizer: Maximum iterations (200) reached and the optimization hasn't converged yet.\n",
      "  % self.max_iter, ConvergenceWarning)\n"
     ]
    },
    {
     "name": "stdout",
     "output_type": "stream",
     "text": [
      "Car 4 Month 12 MAE: 367.03253121607906\n"
     ]
    },
    {
     "name": "stderr",
     "output_type": "stream",
     "text": [
      "/data/anjliu/venv_kaggle_nfl/lib/python3.6/site-packages/sklearn/neural_network/multilayer_perceptron.py:566: ConvergenceWarning: Stochastic Optimizer: Maximum iterations (200) reached and the optimization hasn't converged yet.\n",
      "  % self.max_iter, ConvergenceWarning)\n"
     ]
    },
    {
     "name": "stdout",
     "output_type": "stream",
     "text": [
      "Car 5 Month 1 MAE: 372.8841200574697\n"
     ]
    },
    {
     "name": "stderr",
     "output_type": "stream",
     "text": [
      "/data/anjliu/venv_kaggle_nfl/lib/python3.6/site-packages/sklearn/neural_network/multilayer_perceptron.py:566: ConvergenceWarning: Stochastic Optimizer: Maximum iterations (200) reached and the optimization hasn't converged yet.\n",
      "  % self.max_iter, ConvergenceWarning)\n"
     ]
    },
    {
     "name": "stdout",
     "output_type": "stream",
     "text": [
      "Car 5 Month 2 MAE: 396.65031183220367\n"
     ]
    },
    {
     "name": "stderr",
     "output_type": "stream",
     "text": [
      "/data/anjliu/venv_kaggle_nfl/lib/python3.6/site-packages/sklearn/neural_network/multilayer_perceptron.py:566: ConvergenceWarning: Stochastic Optimizer: Maximum iterations (200) reached and the optimization hasn't converged yet.\n",
      "  % self.max_iter, ConvergenceWarning)\n"
     ]
    },
    {
     "name": "stdout",
     "output_type": "stream",
     "text": [
      "Car 5 Month 3 MAE: 393.79861528741884\n"
     ]
    },
    {
     "name": "stderr",
     "output_type": "stream",
     "text": [
      "/data/anjliu/venv_kaggle_nfl/lib/python3.6/site-packages/sklearn/neural_network/multilayer_perceptron.py:566: ConvergenceWarning: Stochastic Optimizer: Maximum iterations (200) reached and the optimization hasn't converged yet.\n",
      "  % self.max_iter, ConvergenceWarning)\n"
     ]
    },
    {
     "name": "stdout",
     "output_type": "stream",
     "text": [
      "Car 5 Month 4 MAE: 590.9905845198718\n"
     ]
    },
    {
     "name": "stderr",
     "output_type": "stream",
     "text": [
      "/data/anjliu/venv_kaggle_nfl/lib/python3.6/site-packages/sklearn/neural_network/multilayer_perceptron.py:566: ConvergenceWarning: Stochastic Optimizer: Maximum iterations (200) reached and the optimization hasn't converged yet.\n",
      "  % self.max_iter, ConvergenceWarning)\n"
     ]
    },
    {
     "name": "stdout",
     "output_type": "stream",
     "text": [
      "Car 5 Month 5 MAE: 399.06521654775383\n"
     ]
    },
    {
     "name": "stderr",
     "output_type": "stream",
     "text": [
      "/data/anjliu/venv_kaggle_nfl/lib/python3.6/site-packages/sklearn/neural_network/multilayer_perceptron.py:566: ConvergenceWarning: Stochastic Optimizer: Maximum iterations (200) reached and the optimization hasn't converged yet.\n",
      "  % self.max_iter, ConvergenceWarning)\n"
     ]
    },
    {
     "name": "stdout",
     "output_type": "stream",
     "text": [
      "Car 5 Month 6 MAE: 389.7765889745717\n"
     ]
    },
    {
     "name": "stderr",
     "output_type": "stream",
     "text": [
      "/data/anjliu/venv_kaggle_nfl/lib/python3.6/site-packages/sklearn/neural_network/multilayer_perceptron.py:566: ConvergenceWarning: Stochastic Optimizer: Maximum iterations (200) reached and the optimization hasn't converged yet.\n",
      "  % self.max_iter, ConvergenceWarning)\n"
     ]
    },
    {
     "name": "stdout",
     "output_type": "stream",
     "text": [
      "Car 5 Month 7 MAE: 395.08117477818325\n"
     ]
    },
    {
     "name": "stderr",
     "output_type": "stream",
     "text": [
      "/data/anjliu/venv_kaggle_nfl/lib/python3.6/site-packages/sklearn/neural_network/multilayer_perceptron.py:566: ConvergenceWarning: Stochastic Optimizer: Maximum iterations (200) reached and the optimization hasn't converged yet.\n",
      "  % self.max_iter, ConvergenceWarning)\n"
     ]
    },
    {
     "name": "stdout",
     "output_type": "stream",
     "text": [
      "Car 5 Month 8 MAE: 406.3938345124227\n"
     ]
    },
    {
     "name": "stderr",
     "output_type": "stream",
     "text": [
      "/data/anjliu/venv_kaggle_nfl/lib/python3.6/site-packages/sklearn/neural_network/multilayer_perceptron.py:566: ConvergenceWarning: Stochastic Optimizer: Maximum iterations (200) reached and the optimization hasn't converged yet.\n",
      "  % self.max_iter, ConvergenceWarning)\n"
     ]
    },
    {
     "name": "stdout",
     "output_type": "stream",
     "text": [
      "Car 5 Month 9 MAE: 389.02309525040005\n"
     ]
    },
    {
     "name": "stderr",
     "output_type": "stream",
     "text": [
      "/data/anjliu/venv_kaggle_nfl/lib/python3.6/site-packages/sklearn/neural_network/multilayer_perceptron.py:566: ConvergenceWarning: Stochastic Optimizer: Maximum iterations (200) reached and the optimization hasn't converged yet.\n",
      "  % self.max_iter, ConvergenceWarning)\n"
     ]
    },
    {
     "name": "stdout",
     "output_type": "stream",
     "text": [
      "Car 5 Month 10 MAE: 392.9338108893832\n"
     ]
    },
    {
     "name": "stderr",
     "output_type": "stream",
     "text": [
      "/data/anjliu/venv_kaggle_nfl/lib/python3.6/site-packages/sklearn/neural_network/multilayer_perceptron.py:566: ConvergenceWarning: Stochastic Optimizer: Maximum iterations (200) reached and the optimization hasn't converged yet.\n",
      "  % self.max_iter, ConvergenceWarning)\n"
     ]
    },
    {
     "name": "stdout",
     "output_type": "stream",
     "text": [
      "Car 5 Month 11 MAE: 406.41553537247216\n"
     ]
    },
    {
     "name": "stderr",
     "output_type": "stream",
     "text": [
      "/data/anjliu/venv_kaggle_nfl/lib/python3.6/site-packages/sklearn/neural_network/multilayer_perceptron.py:566: ConvergenceWarning: Stochastic Optimizer: Maximum iterations (200) reached and the optimization hasn't converged yet.\n",
      "  % self.max_iter, ConvergenceWarning)\n"
     ]
    },
    {
     "name": "stdout",
     "output_type": "stream",
     "text": [
      "Car 5 Month 12 MAE: 374.8191293866342\n"
     ]
    },
    {
     "name": "stderr",
     "output_type": "stream",
     "text": [
      "/data/anjliu/venv_kaggle_nfl/lib/python3.6/site-packages/sklearn/neural_network/multilayer_perceptron.py:566: ConvergenceWarning: Stochastic Optimizer: Maximum iterations (200) reached and the optimization hasn't converged yet.\n",
      "  % self.max_iter, ConvergenceWarning)\n"
     ]
    },
    {
     "name": "stdout",
     "output_type": "stream",
     "text": [
      "Car 6 Month 1 MAE: 361.03925001170916\n"
     ]
    },
    {
     "name": "stderr",
     "output_type": "stream",
     "text": [
      "/data/anjliu/venv_kaggle_nfl/lib/python3.6/site-packages/sklearn/neural_network/multilayer_perceptron.py:566: ConvergenceWarning: Stochastic Optimizer: Maximum iterations (200) reached and the optimization hasn't converged yet.\n",
      "  % self.max_iter, ConvergenceWarning)\n"
     ]
    },
    {
     "name": "stdout",
     "output_type": "stream",
     "text": [
      "Car 6 Month 2 MAE: 397.6693995785766\n",
      "Car 6 Month 3 MAE: 399.88850699811906\n",
      "Car 6 Month 4 MAE: 419.8167669907055\n"
     ]
    },
    {
     "name": "stderr",
     "output_type": "stream",
     "text": [
      "/data/anjliu/venv_kaggle_nfl/lib/python3.6/site-packages/sklearn/neural_network/multilayer_perceptron.py:566: ConvergenceWarning: Stochastic Optimizer: Maximum iterations (200) reached and the optimization hasn't converged yet.\n",
      "  % self.max_iter, ConvergenceWarning)\n"
     ]
    },
    {
     "name": "stdout",
     "output_type": "stream",
     "text": [
      "Car 6 Month 5 MAE: 398.46690434173667\n"
     ]
    },
    {
     "name": "stderr",
     "output_type": "stream",
     "text": [
      "/data/anjliu/venv_kaggle_nfl/lib/python3.6/site-packages/sklearn/neural_network/multilayer_perceptron.py:566: ConvergenceWarning: Stochastic Optimizer: Maximum iterations (200) reached and the optimization hasn't converged yet.\n",
      "  % self.max_iter, ConvergenceWarning)\n"
     ]
    },
    {
     "name": "stdout",
     "output_type": "stream",
     "text": [
      "Car 6 Month 6 MAE: 378.39563876947386\n"
     ]
    },
    {
     "name": "stderr",
     "output_type": "stream",
     "text": [
      "/data/anjliu/venv_kaggle_nfl/lib/python3.6/site-packages/sklearn/neural_network/multilayer_perceptron.py:566: ConvergenceWarning: Stochastic Optimizer: Maximum iterations (200) reached and the optimization hasn't converged yet.\n",
      "  % self.max_iter, ConvergenceWarning)\n"
     ]
    },
    {
     "name": "stdout",
     "output_type": "stream",
     "text": [
      "Car 6 Month 7 MAE: 393.39756938613687\n"
     ]
    },
    {
     "name": "stderr",
     "output_type": "stream",
     "text": [
      "/data/anjliu/venv_kaggle_nfl/lib/python3.6/site-packages/sklearn/neural_network/multilayer_perceptron.py:566: ConvergenceWarning: Stochastic Optimizer: Maximum iterations (200) reached and the optimization hasn't converged yet.\n",
      "  % self.max_iter, ConvergenceWarning)\n"
     ]
    },
    {
     "name": "stdout",
     "output_type": "stream",
     "text": [
      "Car 6 Month 8 MAE: 407.4152833367735\n"
     ]
    },
    {
     "name": "stderr",
     "output_type": "stream",
     "text": [
      "/data/anjliu/venv_kaggle_nfl/lib/python3.6/site-packages/sklearn/neural_network/multilayer_perceptron.py:566: ConvergenceWarning: Stochastic Optimizer: Maximum iterations (200) reached and the optimization hasn't converged yet.\n",
      "  % self.max_iter, ConvergenceWarning)\n"
     ]
    },
    {
     "name": "stdout",
     "output_type": "stream",
     "text": [
      "Car 6 Month 9 MAE: 388.1710430642321\n"
     ]
    },
    {
     "name": "stderr",
     "output_type": "stream",
     "text": [
      "/data/anjliu/venv_kaggle_nfl/lib/python3.6/site-packages/sklearn/neural_network/multilayer_perceptron.py:566: ConvergenceWarning: Stochastic Optimizer: Maximum iterations (200) reached and the optimization hasn't converged yet.\n",
      "  % self.max_iter, ConvergenceWarning)\n"
     ]
    },
    {
     "name": "stdout",
     "output_type": "stream",
     "text": [
      "Car 6 Month 10 MAE: 388.9044276403869\n"
     ]
    },
    {
     "name": "stderr",
     "output_type": "stream",
     "text": [
      "/data/anjliu/venv_kaggle_nfl/lib/python3.6/site-packages/sklearn/neural_network/multilayer_perceptron.py:566: ConvergenceWarning: Stochastic Optimizer: Maximum iterations (200) reached and the optimization hasn't converged yet.\n",
      "  % self.max_iter, ConvergenceWarning)\n"
     ]
    },
    {
     "name": "stdout",
     "output_type": "stream",
     "text": [
      "Car 6 Month 11 MAE: 396.6480659152235\n"
     ]
    },
    {
     "name": "stderr",
     "output_type": "stream",
     "text": [
      "/data/anjliu/venv_kaggle_nfl/lib/python3.6/site-packages/sklearn/neural_network/multilayer_perceptron.py:566: ConvergenceWarning: Stochastic Optimizer: Maximum iterations (200) reached and the optimization hasn't converged yet.\n",
      "  % self.max_iter, ConvergenceWarning)\n"
     ]
    },
    {
     "name": "stdout",
     "output_type": "stream",
     "text": [
      "Car 6 Month 12 MAE: 363.5559307423693\n"
     ]
    },
    {
     "name": "stderr",
     "output_type": "stream",
     "text": [
      "/data/anjliu/venv_kaggle_nfl/lib/python3.6/site-packages/sklearn/neural_network/multilayer_perceptron.py:566: ConvergenceWarning: Stochastic Optimizer: Maximum iterations (200) reached and the optimization hasn't converged yet.\n",
      "  % self.max_iter, ConvergenceWarning)\n"
     ]
    },
    {
     "name": "stdout",
     "output_type": "stream",
     "text": [
      "Car 7 Month 1 MAE: 334.99782197228006\n",
      "Car 7 Month 2 MAE: 372.9588413914902\n"
     ]
    },
    {
     "name": "stderr",
     "output_type": "stream",
     "text": [
      "/data/anjliu/venv_kaggle_nfl/lib/python3.6/site-packages/sklearn/neural_network/multilayer_perceptron.py:566: ConvergenceWarning: Stochastic Optimizer: Maximum iterations (200) reached and the optimization hasn't converged yet.\n",
      "  % self.max_iter, ConvergenceWarning)\n"
     ]
    },
    {
     "name": "stdout",
     "output_type": "stream",
     "text": [
      "Car 7 Month 3 MAE: 381.95091005794774\n"
     ]
    },
    {
     "name": "stderr",
     "output_type": "stream",
     "text": [
      "/data/anjliu/venv_kaggle_nfl/lib/python3.6/site-packages/sklearn/neural_network/multilayer_perceptron.py:566: ConvergenceWarning: Stochastic Optimizer: Maximum iterations (200) reached and the optimization hasn't converged yet.\n",
      "  % self.max_iter, ConvergenceWarning)\n"
     ]
    },
    {
     "name": "stdout",
     "output_type": "stream",
     "text": [
      "Car 7 Month 4 MAE: 402.9639104872418\n",
      "Car 7 Month 5 MAE: 383.28489816007846\n"
     ]
    },
    {
     "name": "stderr",
     "output_type": "stream",
     "text": [
      "/data/anjliu/venv_kaggle_nfl/lib/python3.6/site-packages/sklearn/neural_network/multilayer_perceptron.py:566: ConvergenceWarning: Stochastic Optimizer: Maximum iterations (200) reached and the optimization hasn't converged yet.\n",
      "  % self.max_iter, ConvergenceWarning)\n"
     ]
    },
    {
     "name": "stdout",
     "output_type": "stream",
     "text": [
      "Car 7 Month 6 MAE: 364.4334479245297\n"
     ]
    },
    {
     "name": "stderr",
     "output_type": "stream",
     "text": [
      "/data/anjliu/venv_kaggle_nfl/lib/python3.6/site-packages/sklearn/neural_network/multilayer_perceptron.py:566: ConvergenceWarning: Stochastic Optimizer: Maximum iterations (200) reached and the optimization hasn't converged yet.\n",
      "  % self.max_iter, ConvergenceWarning)\n"
     ]
    },
    {
     "name": "stdout",
     "output_type": "stream",
     "text": [
      "Car 7 Month 7 MAE: 372.0399071643637\n"
     ]
    },
    {
     "name": "stderr",
     "output_type": "stream",
     "text": [
      "/data/anjliu/venv_kaggle_nfl/lib/python3.6/site-packages/sklearn/neural_network/multilayer_perceptron.py:566: ConvergenceWarning: Stochastic Optimizer: Maximum iterations (200) reached and the optimization hasn't converged yet.\n",
      "  % self.max_iter, ConvergenceWarning)\n"
     ]
    },
    {
     "name": "stdout",
     "output_type": "stream",
     "text": [
      "Car 7 Month 8 MAE: 385.0649365006405\n",
      "Car 7 Month 9 MAE: 377.27826470610074\n",
      "Car 7 Month 10 MAE: 374.79684622083124\n",
      "Car 7 Month 11 MAE: 381.8343115019225\n"
     ]
    },
    {
     "name": "stderr",
     "output_type": "stream",
     "text": [
      "/data/anjliu/venv_kaggle_nfl/lib/python3.6/site-packages/sklearn/neural_network/multilayer_perceptron.py:566: ConvergenceWarning: Stochastic Optimizer: Maximum iterations (200) reached and the optimization hasn't converged yet.\n",
      "  % self.max_iter, ConvergenceWarning)\n"
     ]
    },
    {
     "name": "stdout",
     "output_type": "stream",
     "text": [
      "Car 7 Month 12 MAE: 341.8160797714022\n"
     ]
    },
    {
     "name": "stderr",
     "output_type": "stream",
     "text": [
      "/data/anjliu/venv_kaggle_nfl/lib/python3.6/site-packages/sklearn/neural_network/multilayer_perceptron.py:566: ConvergenceWarning: Stochastic Optimizer: Maximum iterations (200) reached and the optimization hasn't converged yet.\n",
      "  % self.max_iter, ConvergenceWarning)\n"
     ]
    },
    {
     "name": "stdout",
     "output_type": "stream",
     "text": [
      "Car 8 Month 1 MAE: 256.0456692684831\n"
     ]
    },
    {
     "name": "stderr",
     "output_type": "stream",
     "text": [
      "/data/anjliu/venv_kaggle_nfl/lib/python3.6/site-packages/sklearn/neural_network/multilayer_perceptron.py:566: ConvergenceWarning: Stochastic Optimizer: Maximum iterations (200) reached and the optimization hasn't converged yet.\n",
      "  % self.max_iter, ConvergenceWarning)\n"
     ]
    },
    {
     "name": "stdout",
     "output_type": "stream",
     "text": [
      "Car 8 Month 2 MAE: 276.36726582961063\n"
     ]
    },
    {
     "name": "stderr",
     "output_type": "stream",
     "text": [
      "/data/anjliu/venv_kaggle_nfl/lib/python3.6/site-packages/sklearn/neural_network/multilayer_perceptron.py:566: ConvergenceWarning: Stochastic Optimizer: Maximum iterations (200) reached and the optimization hasn't converged yet.\n",
      "  % self.max_iter, ConvergenceWarning)\n"
     ]
    },
    {
     "name": "stdout",
     "output_type": "stream",
     "text": [
      "Car 8 Month 3 MAE: 278.8855924227831\n"
     ]
    },
    {
     "name": "stderr",
     "output_type": "stream",
     "text": [
      "/data/anjliu/venv_kaggle_nfl/lib/python3.6/site-packages/sklearn/neural_network/multilayer_perceptron.py:566: ConvergenceWarning: Stochastic Optimizer: Maximum iterations (200) reached and the optimization hasn't converged yet.\n",
      "  % self.max_iter, ConvergenceWarning)\n"
     ]
    },
    {
     "name": "stdout",
     "output_type": "stream",
     "text": [
      "Car 8 Month 4 MAE: 294.2217599126948\n"
     ]
    },
    {
     "name": "stderr",
     "output_type": "stream",
     "text": [
      "/data/anjliu/venv_kaggle_nfl/lib/python3.6/site-packages/sklearn/neural_network/multilayer_perceptron.py:566: ConvergenceWarning: Stochastic Optimizer: Maximum iterations (200) reached and the optimization hasn't converged yet.\n",
      "  % self.max_iter, ConvergenceWarning)\n"
     ]
    },
    {
     "name": "stdout",
     "output_type": "stream",
     "text": [
      "Car 8 Month 5 MAE: 291.9735776788573\n"
     ]
    },
    {
     "name": "stderr",
     "output_type": "stream",
     "text": [
      "/data/anjliu/venv_kaggle_nfl/lib/python3.6/site-packages/sklearn/neural_network/multilayer_perceptron.py:566: ConvergenceWarning: Stochastic Optimizer: Maximum iterations (200) reached and the optimization hasn't converged yet.\n",
      "  % self.max_iter, ConvergenceWarning)\n"
     ]
    },
    {
     "name": "stdout",
     "output_type": "stream",
     "text": [
      "Car 8 Month 6 MAE: 275.08583088899076\n"
     ]
    },
    {
     "name": "stderr",
     "output_type": "stream",
     "text": [
      "/data/anjliu/venv_kaggle_nfl/lib/python3.6/site-packages/sklearn/neural_network/multilayer_perceptron.py:566: ConvergenceWarning: Stochastic Optimizer: Maximum iterations (200) reached and the optimization hasn't converged yet.\n",
      "  % self.max_iter, ConvergenceWarning)\n"
     ]
    },
    {
     "name": "stdout",
     "output_type": "stream",
     "text": [
      "Car 8 Month 7 MAE: 284.3520718395018\n"
     ]
    },
    {
     "name": "stderr",
     "output_type": "stream",
     "text": [
      "/data/anjliu/venv_kaggle_nfl/lib/python3.6/site-packages/sklearn/neural_network/multilayer_perceptron.py:566: ConvergenceWarning: Stochastic Optimizer: Maximum iterations (200) reached and the optimization hasn't converged yet.\n",
      "  % self.max_iter, ConvergenceWarning)\n"
     ]
    },
    {
     "name": "stdout",
     "output_type": "stream",
     "text": [
      "Car 8 Month 8 MAE: 292.9390180222293\n"
     ]
    },
    {
     "name": "stderr",
     "output_type": "stream",
     "text": [
      "/data/anjliu/venv_kaggle_nfl/lib/python3.6/site-packages/sklearn/neural_network/multilayer_perceptron.py:566: ConvergenceWarning: Stochastic Optimizer: Maximum iterations (200) reached and the optimization hasn't converged yet.\n",
      "  % self.max_iter, ConvergenceWarning)\n"
     ]
    },
    {
     "name": "stdout",
     "output_type": "stream",
     "text": [
      "Car 8 Month 9 MAE: 283.9364195368907\n",
      "Car 8 Month 10 MAE: 287.11891982322055\n",
      "Car 8 Month 11 MAE: 289.78809310647136\n"
     ]
    },
    {
     "name": "stderr",
     "output_type": "stream",
     "text": [
      "/data/anjliu/venv_kaggle_nfl/lib/python3.6/site-packages/sklearn/neural_network/multilayer_perceptron.py:566: ConvergenceWarning: Stochastic Optimizer: Maximum iterations (200) reached and the optimization hasn't converged yet.\n",
      "  % self.max_iter, ConvergenceWarning)\n"
     ]
    },
    {
     "name": "stdout",
     "output_type": "stream",
     "text": [
      "Car 8 Month 12 MAE: 249.8102312337493\n",
      "Total MAE 362.7064657850174\n"
     ]
    }
   ],
   "source": [
    "raw_result_DNN = build_model(X,\n",
    "                             Y_car_dict,\n",
    "                             num_car=8,\n",
    "                             num_month=12,\n",
    "                             learning_method=build_DNN)\n",
    "\n",
    "df_result_DNN = process_result_to_dataframe(raw_result_DNN)\n",
    "print('Total MAE', mean_absolute_error(df_result_DNN.valid,\n",
    "                                       df_result_DNN.pred))"
   ]
  },
  {
   "cell_type": "markdown",
   "metadata": {},
   "source": [
    "# Results Anaylsis"
   ]
  },
  {
   "cell_type": "code",
   "execution_count": 53,
   "metadata": {
    "ExecuteTime": {
     "end_time": "2020-03-30T05:23:19.533208Z",
     "start_time": "2020-03-30T05:23:19.515384Z"
    }
   },
   "outputs": [],
   "source": [
    "def plot_residual_by_platform(df,\n",
    "                              top_k,\n",
    "                              p_le,\n",
    "                              extra_title_info=\"\",\n",
    "                              show_plot=False):\n",
    "    unique_platform_list = df['platform'].unique()\n",
    "    residual_list = []\n",
    "    for p_id in unique_platform_list:\n",
    "        df_platform = df.loc[df['platform'] == p_id]\n",
    "        platform_mae = mean_absolute_error(df_platform['valid'].values,\n",
    "                                           df_platform['pred'].values)\n",
    "        residual_list.append(platform_mae)\n",
    "    residual_list = np.array(residual_list)\n",
    "    if top_k == -1:\n",
    "        top_idx = residual_list.argsort()[::-1]\n",
    "    else:\n",
    "        top_idx = residual_list.argsort()[-top_k:][::-1]\n",
    "    p_code = p_le.inverse_transform(unique_platform_list[top_idx].astype(int))\n",
    "    if show_plot:\n",
    "        x = np.arange(top_k)\n",
    "        plt.bar(x, residual_list[top_idx], tick_label=p_code)\n",
    "        plt.xticks(rotation=45)\n",
    "        plt.title('Residual by Platform with Top ' + str(top_k) + ', ' +\n",
    "                  extra_title_info)\n",
    "        plt.xlabel('platform')\n",
    "        plt.ylabel('MAE')\n",
    "        plt.show()\n",
    "    return unique_platform_list[top_idx], residual_list[top_idx]\n",
    "\n",
    "\n",
    "def plot_residual_by_car(df, extra_title_info=\"\", show_plot=False):\n",
    "    unique_list = df['car_id'].unique()\n",
    "    residual_list = []\n",
    "    for u_id in unique_list:\n",
    "        df_selected = df.loc[df['car_id'] == u_id]\n",
    "        the_mae = mean_absolute_error(df_selected['valid'].values,\n",
    "                                      df_selected['pred'].values)\n",
    "        residual_list.append(the_mae)\n",
    "    residual_list = np.array(residual_list)\n",
    "\n",
    "    if show_plot:\n",
    "        plt.bar(unique_list, residual_list)\n",
    "        plt.title('Residual by CarID, ' + extra_title_info)\n",
    "        plt.xlabel('CarID')\n",
    "        plt.ylabel('MAE')\n",
    "        plt.show()\n",
    "    return residual_list\n",
    "\n",
    "\n",
    "def plot_residual_by_month(df, extra_title_info=\"\", show_plot=False):\n",
    "    month_list = np.arange(1, 13)\n",
    "    residual_list = []\n",
    "    for Mi in month_list:\n",
    "        df_selected = df.loc[df['month'] == Mi]\n",
    "        the_mae = mean_absolute_error(df_selected['valid'].values,\n",
    "                                      df_selected['pred'].values)\n",
    "        residual_list.append(the_mae)\n",
    "    residual_list = np.array(residual_list)\n",
    "\n",
    "    if show_plot:\n",
    "        plt.bar(month_list, residual_list)\n",
    "        plt.title('Residual by Month, ' + extra_title_info)\n",
    "        plt.xlabel('Month')\n",
    "        plt.ylabel('MAE')\n",
    "        plt.show()\n",
    "    return residual_list\n",
    "\n",
    "\n",
    "def plot_group_bar_result(residual_list, residual_label, xticks_list,\n",
    "                          title_info, x_label, y_label):\n",
    "    barWidth = 1 / (len(residual_list) + 1)\n",
    "    bar_x = np.arange(len(residual_list[0]))\n",
    "    for residual_id, residual in enumerate(residual_list):\n",
    "        plt.bar(bar_x,\n",
    "                residual,\n",
    "                width=barWidth,\n",
    "                edgecolor='white',\n",
    "                label=residual_label[residual_id])\n",
    "        bar_x = [x + barWidth for x in bar_x]\n",
    "\n",
    "    # Add xticks on the middle of the group bars\n",
    "    plt.xlabel(x_label)\n",
    "    plt.ylabel(y_label)\n",
    "    plt.xticks([r + barWidth for r in range(len(residual_list[0]))],\n",
    "               xticks_list)\n",
    "    plt.title(title_info)\n",
    "    # Create legend & Show graphic\n",
    "    plt.legend()\n",
    "    plt.show()\n",
    "\n",
    "\n",
    "def plot_best_worst_platform(plt_order1, plt_order2, top_k, residual_label):\n",
    "    plt_order_improve = plt_order1 - plt_order2\n",
    "    r_improve_hig_idx = np.argsort(plt_order_improve)\n",
    "    r_improve_low_idx = np.argsort(plt_order_improve)[::-1]\n",
    "    hig = r_improve_hig_idx[:top_k]\n",
    "    low = r_improve_low_idx[:top_k]\n",
    "\n",
    "    residual_list = [plt_order1[hig], plt_order2[hig]]\n",
    "    xticks_list = platform_labelencoder.inverse_transform(hig)\n",
    "    title_info = 'The Top ' + str(top_k) + ' Improvement, ' + residual_label[\n",
    "        0] + ' vs. ' + residual_label[1]\n",
    "    x_label = 'Platform'\n",
    "    y_label = 'MAE'\n",
    "    plot_group_bar_result(residual_list, residual_label, xticks_list,\n",
    "                          title_info, x_label, y_label)\n",
    "\n",
    "    residual_list = [plt_order1[low], plt_order2[low]]\n",
    "    xticks_list = platform_labelencoder.inverse_transform(low)\n",
    "    title_info = 'The Last ' + str(top_k) + ' Improvement, ' + residual_label[\n",
    "        0] + ' vs. ' + residual_label[1]\n",
    "    x_label = 'Platform'\n",
    "    y_label = 'MAE'\n",
    "    plot_group_bar_result(residual_list, residual_label, xticks_list,\n",
    "                          title_info, x_label, y_label)"
   ]
  },
  {
   "cell_type": "markdown",
   "metadata": {},
   "source": [
    "## Plot Residual by Platform"
   ]
  },
  {
   "cell_type": "code",
   "execution_count": 67,
   "metadata": {
    "ExecuteTime": {
     "end_time": "2020-03-30T10:12:48.951942Z",
     "start_time": "2020-03-30T10:12:41.183884Z"
    }
   },
   "outputs": [
    {
     "data": {
      "image/png": "[encoded data removed]",
      "text/plain": [
       "<Figure size 432x288 with 1 Axes>"
      ]
     },
     "metadata": {
      "needs_background": "light"
     },
     "output_type": "display_data"
    },
    {
     "data": {
      "image/png": "[encoded data removed]",
      "text/plain": [
       "<Figure size 432x288 with 1 Axes>"
      ]
     },
     "metadata": {
      "needs_background": "light"
     },
     "output_type": "display_data"
    },
    {
     "data": {
      "image/png": "[encoded data removed]",
      "text/plain": [
       "<Figure size 432x288 with 1 Axes>"
      ]
     },
     "metadata": {
      "needs_background": "light"
     },
     "output_type": "display_data"
    },
    {
     "data": {
      "image/png": "[encoded data removed]",
      "text/plain": [
       "<Figure size 432x288 with 1 Axes>"
      ]
     },
     "metadata": {
      "needs_background": "light"
     },
     "output_type": "display_data"
    },
    {
     "data": {
      "image/png": "[encoded data removed]",
      "text/plain": [
       "<Figure size 432x288 with 1 Axes>"
      ]
     },
     "metadata": {
      "needs_background": "light"
     },
     "output_type": "display_data"
    },
    {
     "data": {
      "image/png": "[encoded data removed]",
      "text/plain": [
       "<Figure size 432x288 with 1 Axes>"
      ]
     },
     "metadata": {
      "needs_background": "light"
     },
     "output_type": "display_data"
    }
   ],
   "source": [
    "top_k = 10\n",
    "show_plot = True\n",
    "\n",
    "p_id_bl, r_platform_BL = plot_residual_by_platform(df_result_baseline, top_k,\n",
    "                                                   platform_labelencoder,\n",
    "                                                   'BaseLine', show_plot)\n",
    "\n",
    "p_id_lr, r_platform_LR = plot_residual_by_platform(df_result_LR, top_k,\n",
    "                                                   platform_labelencoder,\n",
    "                                                   'LinearRegression',\n",
    "                                                   show_plot)\n",
    "\n",
    "p_id_lg, r_platform_LG = plot_residual_by_platform(df_result_lightGBM, top_k,\n",
    "                                                   platform_labelencoder,\n",
    "                                                   'LightGBM',\n",
    "                                                   show_plot)\n",
    "\n",
    "p_id_rf, r_platform_RF = plot_residual_by_platform(df_result_RF, top_k,\n",
    "                                                   platform_labelencoder,\n",
    "                                                   'RandomForest',\n",
    "                                                   show_plot)\n",
    "\n",
    "p_id_NN, r_platform_NN = plot_residual_by_platform(df_result_DNN, top_k,\n",
    "                                                   platform_labelencoder,\n",
    "                                                   'NeuralNetwork',\n",
    "                                                   show_plot)\n",
    "\n",
    "\n",
    "residual_list = [r_platform_BL, r_platform_LR, r_platform_LG, r_platform_RF,r_platform_NN]\n",
    "residual_label = ['BaseLine', 'LinearRegression', 'LightGBM', 'RandomForest','NeuralNetwork']\n",
    "xticks_list = np.arange(1, top_k + 1)\n",
    "title_info = 'Top ' + str(\n",
    "    top_k) + ' Platform Residuals Plot\\n' + 'the x value is the rank'\n",
    "x_label = 'Rank'\n",
    "y_label = 'MAE'\n",
    "\n",
    "plot_group_bar_result(residual_list, residual_label, xticks_list, title_info,\n",
    "                      x_label, y_label)"
   ]
  },
  {
   "cell_type": "markdown",
   "metadata": {},
   "source": [
    "## Plot Residual by Car"
   ]
  },
  {
   "cell_type": "code",
   "execution_count": 68,
   "metadata": {
    "ExecuteTime": {
     "end_time": "2020-03-30T10:14:20.795727Z",
     "start_time": "2020-03-30T10:14:19.353860Z"
    }
   },
   "outputs": [
    {
     "data": {
      "image/png": "[encoded data removed]",
      "text/plain": [
       "<Figure size 432x288 with 1 Axes>"
      ]
     },
     "metadata": {
      "needs_background": "light"
     },
     "output_type": "display_data"
    },
    {
     "data": {
      "image/png": "[encoded data removed]",
      "text/plain": [
       "<Figure size 432x288 with 1 Axes>"
      ]
     },
     "metadata": {
      "needs_background": "light"
     },
     "output_type": "display_data"
    },
    {
     "data": {
      "image/png": "[encoded data removed]",
      "text/plain": [
       "<Figure size 432x288 with 1 Axes>"
      ]
     },
     "metadata": {
      "needs_background": "light"
     },
     "output_type": "display_data"
    },
    {
     "data": {
      "image/png": "[encoded data removed]",
      "text/plain": [
       "<Figure size 432x288 with 1 Axes>"
      ]
     },
     "metadata": {
      "needs_background": "light"
     },
     "output_type": "display_data"
    },
    {
     "data": {
      "image/png": "[encoded data removed]",
      "text/plain": [
       "<Figure size 432x288 with 1 Axes>"
      ]
     },
     "metadata": {
      "needs_background": "light"
     },
     "output_type": "display_data"
    },
    {
     "data": {
      "image/png": "[encoded data removed]",
      "text/plain": [
       "<Figure size 432x288 with 1 Axes>"
      ]
     },
     "metadata": {
      "needs_background": "light"
     },
     "output_type": "display_data"
    }
   ],
   "source": [
    "show_plot = True\n",
    "r_car_BL = plot_residual_by_car(df_result_baseline, 'Baseline', show_plot)\n",
    "r_car_LR = plot_residual_by_car(df_result_LR, 'LinearRegression', show_plot)\n",
    "r_car_LG = plot_residual_by_car(df_result_lightGBM, 'LightGBM', show_plot)\n",
    "r_car_RF = plot_residual_by_car(df_result_RF, 'RandomForest', show_plot)\n",
    "r_car_NN = plot_residual_by_car(df_result_DNN, 'NeuralNetwork', show_plot)\n",
    "\n",
    "residual_list = [r_car_BL, r_car_LR, r_car_LG, r_car_RF,r_car_NN]\n",
    "residual_label = ['BaseLine', 'LinearRegression', 'LightGBM', 'RandomForest', 'NeuralNetwork']\n",
    "xticks_list = ['Car1', 'Car2', 'Car3', 'Car4', 'Car5', 'Car6', 'Car7', 'Car8']\n",
    "title_info = 'Residuals by Car'\n",
    "x_label = 'Car Number'\n",
    "y_label = 'MAE'\n",
    "\n",
    "plot_group_bar_result(residual_list, residual_label, xticks_list, title_info,\n",
    "                      x_label, y_label)"
   ]
  },
  {
   "cell_type": "markdown",
   "metadata": {},
   "source": [
    "## Plot Residual by Month"
   ]
  },
  {
   "cell_type": "code",
   "execution_count": 70,
   "metadata": {
    "ExecuteTime": {
     "end_time": "2020-03-30T10:15:18.001967Z",
     "start_time": "2020-03-30T10:15:16.613164Z"
    }
   },
   "outputs": [
    {
     "data": {
      "image/png": "[encoded data removed]",
      "text/plain": [
       "<Figure size 432x288 with 1 Axes>"
      ]
     },
     "metadata": {
      "needs_background": "light"
     },
     "output_type": "display_data"
    },
    {
     "data": {
      "image/png": "[encoded data removed]",
      "text/plain": [
       "<Figure size 432x288 with 1 Axes>"
      ]
     },
     "metadata": {
      "needs_background": "light"
     },
     "output_type": "display_data"
    },
    {
     "data": {
      "image/png": "[encoded data removed]",
      "text/plain": [
       "<Figure size 432x288 with 1 Axes>"
      ]
     },
     "metadata": {
      "needs_background": "light"
     },
     "output_type": "display_data"
    },
    {
     "data": {
      "image/png": "[encoded data removed]",
      "text/plain": [
       "<Figure size 432x288 with 1 Axes>"
      ]
     },
     "metadata": {
      "needs_background": "light"
     },
     "output_type": "display_data"
    },
    {
     "data": {
      "image/png": "[encoded data removed]",
      "text/plain": [
       "<Figure size 432x288 with 1 Axes>"
      ]
     },
     "metadata": {
      "needs_background": "light"
     },
     "output_type": "display_data"
    },
    {
     "data": {
      "image/png": "[encoded data removed]",
      "text/plain": [
       "<Figure size 432x288 with 1 Axes>"
      ]
     },
     "metadata": {
      "needs_background": "light"
     },
     "output_type": "display_data"
    }
   ],
   "source": [
    "show_plot = True\n",
    "r_month_BL = plot_residual_by_month(df_result_baseline, 'Baseline', show_plot)\n",
    "r_month_LR = plot_residual_by_month(df_result_LR, 'LinearRegression',\n",
    "                                    show_plot)\n",
    "r_month_LG = plot_residual_by_month(df_result_lightGBM, 'LightGBM', show_plot)\n",
    "r_month_RF = plot_residual_by_month(df_result_RF, 'RandomForest', show_plot)\n",
    "r_month_NN = plot_residual_by_month(df_result_DNN, 'NeuralNetwork', show_plot)\n",
    "\n",
    "residual_list = [r_month_BL, r_month_LR, r_month_LG, r_month_RF,r_month_NN]\n",
    "residual_label = ['Baseline', 'LinearRegression', 'LightGBM', 'RandomForest', 'NeuralNetwork']\n",
    "xticks_list = [\n",
    "    'Jan', 'Feb', 'Mar', 'Apr', 'May', 'Jun', 'Jul', 'Aug', 'Sep', 'Oct',\n",
    "    'Nov', 'Dec'\n",
    "]\n",
    "title_info = 'Residual by Month'\n",
    "x_label = 'Month'\n",
    "y_label = 'MAE'\n",
    "\n",
    "plot_group_bar_result(residual_list, residual_label, xticks_list, title_info,\n",
    "                      x_label, y_label)"
   ]
  },
  {
   "cell_type": "markdown",
   "metadata": {},
   "source": [
    "<span style=\"font-size:3em;\">Conclusion</span>\n",
    "\n",
    "* **LightGBM and Random Forest**  \n",
    "It seems April has the worst prediction results.  \n",
    "This indicates that the passenger loading pattern of April is different from other months.\n",
    "\n",
    "* **Baseline**   \n",
    "Jan and Dec has the best baseline prediction.  \n",
    "This indicates Jan and Dec has lower passenger load diversity,   \n",
    "the number of passenger getting on and off in Jan and Dec are lower than other months.'\n"
   ]
  },
  {
   "cell_type": "markdown",
   "metadata": {},
   "source": [
    "## Find Highest & Lowest Improvement Platforms"
   ]
  },
  {
   "cell_type": "code",
   "execution_count": 72,
   "metadata": {
    "ExecuteTime": {
     "end_time": "2020-03-30T10:17:30.364959Z",
     "start_time": "2020-03-30T10:17:24.004993Z"
    }
   },
   "outputs": [],
   "source": [
    "top_k = -1\n",
    "show_plot = False\n",
    "p_idfull_BL, r_platformfull_BL = plot_residual_by_platform(\n",
    "    df_result_baseline, top_k, platform_labelencoder)\n",
    "p_idfull_LR, r_platformfull_LR = plot_residual_by_platform(\n",
    "    df_result_LR, top_k, platform_labelencoder)\n",
    "p_idfull_LG, r_platformfull_LG = plot_residual_by_platform(df_result_lightGBM, top_k, platform_labelencoder)\n",
    "p_idfull_RF, r_platformfull_RF = plot_residual_by_platform(df_result_RF, top_k, platform_labelencoder)\n",
    "p_idfull_NN, r_platformfull_NN = plot_residual_by_platform(df_result_DNN, top_k, platform_labelencoder)\n",
    "\n",
    "plt_idx_BL = np.argsort(p_idfull_BL)\n",
    "plt_idx_LR = np.argsort(p_idfull_LR)\n",
    "plt_idx_LG = np.argsort(p_idfull_LG)\n",
    "plt_idx_RF = np.argsort(p_idfull_RF)\n",
    "plt_idx_NN = np.argsort(p_idfull_NN)\n",
    "plt_id = np.sort(plt_idx_BL)\n",
    "\n",
    "plt_order_r_bl = r_platformfull_BL[plt_idx_BL]\n",
    "plt_order_r_lr = r_platformfull_LR[plt_idx_LR]\n",
    "plt_order_r_lg = r_platformfull_BL[plt_idx_LG]\n",
    "plt_order_r_rf = r_platformfull_LR[plt_idx_RF]\n",
    "plt_order_r_nn = r_platformfull_NN[plt_idx_NN]"
   ]
  },
  {
   "cell_type": "code",
   "execution_count": 73,
   "metadata": {
    "ExecuteTime": {
     "end_time": "2020-03-30T10:17:31.855584Z",
     "start_time": "2020-03-30T10:17:30.367073Z"
    }
   },
   "outputs": [
    {
     "data": {
      "image/png": "[encoded data removed]",
      "text/plain": [
       "<Figure size 432x288 with 1 Axes>"
      ]
     },
     "metadata": {
      "needs_background": "light"
     },
     "output_type": "display_data"
    },
    {
     "data": {
      "image/png": "[encoded data removed]",
      "text/plain": [
       "<Figure size 432x288 with 1 Axes>"
      ]
     },
     "metadata": {
      "needs_background": "light"
     },
     "output_type": "display_data"
    },
    {
     "data": {
      "image/png": "[encoded data removed]",
      "text/plain": [
       "<Figure size 432x288 with 1 Axes>"
      ]
     },
     "metadata": {
      "needs_background": "light"
     },
     "output_type": "display_data"
    },
    {
     "data": {
      "image/png": "[encoded data removed]",
      "text/plain": [
       "<Figure size 432x288 with 1 Axes>"
      ]
     },
     "metadata": {
      "needs_background": "light"
     },
     "output_type": "display_data"
    },
    {
     "data": {
      "image/png": "[encoded data removed]",
      "text/plain": [
       "<Figure size 432x288 with 1 Axes>"
      ]
     },
     "metadata": {
      "needs_background": "light"
     },
     "output_type": "display_data"
    },
    {
     "data": {
      "image/png": "[encoded data removed]",
      "text/plain": [
       "<Figure size 432x288 with 1 Axes>"
      ]
     },
     "metadata": {
      "needs_background": "light"
     },
     "output_type": "display_data"
    },
    {
     "data": {
      "image/png": "[encoded data removed]",
      "text/plain": [
       "<Figure size 432x288 with 1 Axes>"
      ]
     },
     "metadata": {
      "needs_background": "light"
     },
     "output_type": "display_data"
    },
    {
     "data": {
      "image/png": "[encoded data removed]",
      "text/plain": [
       "<Figure size 432x288 with 1 Axes>"
      ]
     },
     "metadata": {
      "needs_background": "light"
     },
     "output_type": "display_data"
    }
   ],
   "source": [
    "top_k = 10\n",
    "residual_label = ['LinearRegression', 'Baseline'] \n",
    "plot_best_worst_platform(plt_order_r_lr, plt_order_r_bl, top_k, residual_label)\n",
    "\n",
    "residual_label = ['LightGBM', 'Baseline'] \n",
    "plot_best_worst_platform(plt_order_r_lg, plt_order_r_bl, top_k, residual_label)\n",
    "\n",
    "residual_label = ['RandomForest', 'Baseline'] \n",
    "plot_best_worst_platform(plt_order_r_rf, plt_order_r_bl, top_k, residual_label)\n",
    "\n",
    "residual_label = ['NeuralNetwork', 'Baseline'] \n",
    "plot_best_worst_platform(plt_order_r_nn, plt_order_r_bl, top_k, residual_label)"
   ]
  },
  {
   "cell_type": "code",
   "execution_count": null,
   "metadata": {},
   "outputs": [],
   "source": []
  }
 ],
 "metadata": {
  "kernelspec": {
   "display_name": "Python 3",
   "language": "python",
   "name": "python3"
  },
  "language_info": {
   "codemirror_mode": {
    "name": "ipython",
    "version": 3
   },
   "file_extension": ".py",
   "mimetype": "text/x-python",
   "name": "python",
   "nbconvert_exporter": "python",
   "pygments_lexer": "ipython3",
   "version": "3.6.8"
  },
  "toc": {
   "base_numbering": 1,
   "nav_menu": {},
   "number_sections": true,
   "sideBar": true,
   "skip_h1_title": false,
   "title_cell": "Table of Contents",
   "title_sidebar": "Contents",
   "toc_cell": false,
   "toc_position": {
    "height": "calc(100% - 180px)",
    "left": "10px",
    "top": "150px",
    "width": "302.003px"
   },
   "toc_section_display": true,
   "toc_window_display": true
  }
 },
 "nbformat": 4,
 "nbformat_minor": 2
}
