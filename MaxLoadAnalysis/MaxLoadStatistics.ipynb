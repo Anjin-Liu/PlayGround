{
 "cells": [
  {
   "cell_type": "code",
   "execution_count": 1,
   "metadata": {
    "ExecuteTime": {
     "end_time": "2020-04-26T23:37:25.999834Z",
     "start_time": "2020-04-26T23:37:15.989167Z"
    }
   },
   "outputs": [],
   "source": [
    "import pandas as pd\n",
    "import numpy as np\n",
    "import matplotlib.pyplot as plt\n",
    "dart_file = '../Data/Dart/Dart_Nov.csv'"
   ]
  },
  {
   "cell_type": "code",
   "execution_count": 2,
   "metadata": {
    "ExecuteTime": {
     "end_time": "2020-04-26T23:37:40.057191Z",
     "start_time": "2020-04-26T23:37:26.001600Z"
    }
   },
   "outputs": [
    {
     "name": "stderr",
     "output_type": "stream",
     "text": [
      "/data/anjliu/venv_kaggle_nfl/lib/python3.6/site-packages/IPython/core/interactiveshell.py:3058: DtypeWarning: Columns (88,89) have mixed types. Specify dtype option on import or set low_memory=False.\n",
      "  interactivity=interactivity, compiler=compiler, result=result)\n"
     ]
    }
   ],
   "source": [
    "dart_df = pd.read_csv(dart_file)"
   ]
  },
  {
   "cell_type": "markdown",
   "metadata": {},
   "source": [
    "### Do Loop for whole data"
   ]
  },
  {
   "cell_type": "code",
   "execution_count": 3,
   "metadata": {
    "ExecuteTime": {
     "end_time": "2020-04-26T23:46:32.062845Z",
     "start_time": "2020-04-26T23:37:40.059701Z"
    }
   },
   "outputs": [
    {
     "name": "stderr",
     "output_type": "stream",
     "text": [
      "\r",
      "  0%|          | 0/30 [00:00<?, ?it/s]"
     ]
    },
    {
     "name": "stdout",
     "output_type": "stream",
     "text": [
      "On day 11/NOV/19, trip 151D has full weights of NaN\n",
      "On day 11/NOV/19, trip 151E has full weights of NaN\n",
      "On day 11/NOV/19, trip 155H has full weights of NaN\n",
      "On day 11/NOV/19, trip 151C has full weights of NaN\n",
      "On day 11/NOV/19, trip 149V has full weights of NaN\n",
      "On day 11/NOV/19, trip 151F has full weights of NaN\n",
      "On day 11/NOV/19, trip 87-Y has full weights of NaN\n"
     ]
    },
    {
     "name": "stderr",
     "output_type": "stream",
     "text": [
      "\r",
      "  3%|▎         | 1/30 [00:12<06:00, 12.43s/it]"
     ]
    },
    {
     "name": "stdout",
     "output_type": "stream",
     "text": [
      "On day 04/NOV/19, trip 60-K has full weights of NaN\n",
      "On day 04/NOV/19, trip 93-T has full weights of NaN\n",
      "On day 04/NOV/19, trip 60-G has full weights of NaN\n"
     ]
    },
    {
     "name": "stderr",
     "output_type": "stream",
     "text": [
      "\r",
      "  7%|▋         | 2/30 [00:25<05:49, 12.49s/it]"
     ]
    },
    {
     "name": "stdout",
     "output_type": "stream",
     "text": [
      "On day 13/NOV/19, trip 93-T has full weights of NaN\n",
      "On day 13/NOV/19, trip 90XV has full weights of NaN\n",
      "On day 13/NOV/19, trip 99-X has full weights of NaN\n",
      "On day 13/NOV/19, trip 149V has full weights of NaN\n",
      "On day 13/NOV/19, trip 91-Z has full weights of NaN\n"
     ]
    },
    {
     "name": "stderr",
     "output_type": "stream",
     "text": [
      "\r",
      " 10%|█         | 3/30 [00:37<05:40, 12.60s/it]"
     ]
    },
    {
     "name": "stdout",
     "output_type": "stream",
     "text": [
      "On day 27/NOV/19, trip 162S has full weights of NaN\n",
      "On day 27/NOV/19, trip 153K has full weights of NaN\n",
      "On day 27/NOV/19, trip 10XY has full weights of NaN\n",
      "On day 27/NOV/19, trip 127V has full weights of NaN\n",
      "On day 27/NOV/19, trip 129H has full weights of NaN\n",
      "On day 27/NOV/19, trip 542M has full weights of NaN\n",
      "On day 27/NOV/19, trip 159H has full weights of NaN\n",
      "On day 27/NOV/19, trip 129G has full weights of NaN\n",
      "On day 27/NOV/19, trip 151N has full weights of NaN\n",
      "On day 27/NOV/19, trip 125E has full weights of NaN\n",
      "On day 27/NOV/19, trip 884H has full weights of NaN\n",
      "On day 27/NOV/19, trip 127R has full weights of NaN\n",
      "On day 27/NOV/19, trip 109F has full weights of NaN\n",
      "On day 27/NOV/19, trip 166T has full weights of NaN\n",
      "On day 27/NOV/19, trip 127U has full weights of NaN\n",
      "On day 27/NOV/19, trip 560K has full weights of NaN\n"
     ]
    },
    {
     "name": "stderr",
     "output_type": "stream",
     "text": [
      "\r",
      " 13%|█▎        | 4/30 [00:51<05:31, 12.76s/it]"
     ]
    },
    {
     "name": "stdout",
     "output_type": "stream",
     "text": [
      "On day 30/NOV/19, trip 851X has full weights of NaN\n",
      "On day 30/NOV/19, trip 823U has full weights of NaN\n",
      "On day 30/NOV/19, trip 841X has full weights of NaN\n",
      "On day 30/NOV/19, trip 861S has full weights of NaN\n",
      "On day 30/NOV/19, trip 860U has full weights of NaN\n",
      "On day 30/NOV/19, trip 843P has full weights of NaN\n",
      "On day 30/NOV/19, trip L1FB has full weights of NaN\n",
      "On day 30/NOV/19, trip L1FA has full weights of NaN\n",
      "On day 30/NOV/19, trip 861R has full weights of NaN\n",
      "On day 30/NOV/19, trip 860Z has full weights of NaN\n",
      "On day 30/NOV/19, trip 860T has full weights of NaN\n",
      "On day 30/NOV/19, trip L1FD has full weights of NaN\n",
      "On day 30/NOV/19, trip 821Z has full weights of NaN\n",
      "On day 30/NOV/19, trip 861V has full weights of NaN\n",
      "On day 30/NOV/19, trip 860V has full weights of NaN\n",
      "On day 30/NOV/19, trip 860W has full weights of NaN\n",
      "On day 30/NOV/19, trip L1FC has full weights of NaN\n"
     ]
    },
    {
     "name": "stderr",
     "output_type": "stream",
     "text": [
      "\r",
      " 17%|█▋        | 5/30 [01:09<05:59, 14.39s/it]"
     ]
    },
    {
     "name": "stdout",
     "output_type": "stream",
     "text": [
      "On day 16/NOV/19, trip 95-J has full weights of NaN\n",
      "On day 16/NOV/19, trip 725F has full weights of NaN\n",
      "On day 16/NOV/19, trip 715B has full weights of NaN\n",
      "On day 16/NOV/19, trip L1BL has full weights of NaN\n",
      "On day 16/NOV/19, trip 707L has full weights of NaN\n",
      "On day 16/NOV/19, trip 715A has full weights of NaN\n",
      "On day 16/NOV/19, trip 88-J has full weights of NaN\n",
      "On day 16/NOV/19, trip 715C has full weights of NaN\n",
      "On day 16/NOV/19, trip 16-W has full weights of NaN\n",
      "On day 16/NOV/19, trip 92-V has full weights of NaN\n",
      "On day 16/NOV/19, trip L1DJ has full weights of NaN\n",
      "On day 16/NOV/19, trip 88-L has full weights of NaN\n",
      "On day 16/NOV/19, trip 715P has full weights of NaN\n",
      "On day 16/NOV/19, trip 718L has full weights of NaN\n",
      "On day 16/NOV/19, trip L1BA has full weights of NaN\n",
      "On day 16/NOV/19, trip 92-T has full weights of NaN\n",
      "On day 16/NOV/19, trip L1EX has full weights of NaN\n",
      "On day 16/NOV/19, trip 715D has full weights of NaN\n",
      "On day 16/NOV/19, trip L1BB has full weights of NaN\n"
     ]
    },
    {
     "name": "stderr",
     "output_type": "stream",
     "text": [
      "\r",
      " 20%|██        | 6/30 [01:23<05:41, 14.21s/it]"
     ]
    },
    {
     "name": "stdout",
     "output_type": "stream",
     "text": [
      "On day 22/NOV/19, trip 159T has full weights of NaN\n",
      "On day 22/NOV/19, trip 159U has full weights of NaN\n",
      "On day 22/NOV/19, trip 159J has full weights of NaN\n",
      "On day 22/NOV/19, trip 159K has full weights of NaN\n",
      "On day 22/NOV/19, trip 159F has full weights of NaN\n",
      "On day 22/NOV/19, trip 159X has full weights of NaN\n",
      "On day 22/NOV/19, trip 124U has full weights of NaN\n",
      "On day 22/NOV/19, trip 159W has full weights of NaN\n",
      "On day 22/NOV/19, trip 159Y has full weights of NaN\n",
      "On day 22/NOV/19, trip 124M has full weights of NaN\n",
      "On day 22/NOV/19, trip 159S has full weights of NaN\n",
      "On day 22/NOV/19, trip 83-U has full weights of NaN\n",
      "On day 22/NOV/19, trip 84XA has full weights of NaN\n",
      "On day 22/NOV/19, trip 159N has full weights of NaN\n",
      "On day 22/NOV/19, trip 83-V has full weights of NaN\n",
      "On day 22/NOV/19, trip 159V has full weights of NaN\n",
      "On day 22/NOV/19, trip 159R has full weights of NaN\n",
      "On day 22/NOV/19, trip 98XA has full weights of NaN\n",
      "On day 22/NOV/19, trip 165K has full weights of NaN\n",
      "On day 22/NOV/19, trip 159B has full weights of NaN\n",
      "On day 22/NOV/19, trip 159P has full weights of NaN\n",
      "On day 22/NOV/19, trip 159E has full weights of NaN\n"
     ]
    },
    {
     "name": "stderr",
     "output_type": "stream",
     "text": [
      "\r",
      " 23%|██▎       | 7/30 [01:39<05:41, 14.86s/it]"
     ]
    },
    {
     "name": "stdout",
     "output_type": "stream",
     "text": [
      "On day 09/NOV/19, trip 93-T has full weights of NaN\n",
      "On day 09/NOV/19, trip 92XX has full weights of NaN\n",
      "On day 09/NOV/19, trip 757A has full weights of NaN\n",
      "On day 09/NOV/19, trip 128N has full weights of NaN\n",
      "On day 09/NOV/19, trip 93-H has full weights of NaN\n",
      "On day 09/NOV/19, trip 99XA has full weights of NaN\n",
      "On day 09/NOV/19, trip 93-G has full weights of NaN\n",
      "On day 09/NOV/19, trip 93-K has full weights of NaN\n"
     ]
    },
    {
     "name": "stderr",
     "output_type": "stream",
     "text": [
      "\r",
      " 27%|██▋       | 8/30 [01:53<05:20, 14.58s/it]"
     ]
    },
    {
     "name": "stdout",
     "output_type": "stream",
     "text": [
      "On day 09/NOV/19, trip 93-J has full weights of NaN\n",
      "On day 28/NOV/19, trip 131G has full weights of NaN\n",
      "On day 28/NOV/19, trip 10XY has full weights of NaN\n",
      "On day 28/NOV/19, trip 131E has full weights of NaN\n",
      "On day 28/NOV/19, trip 165H has full weights of NaN\n",
      "On day 28/NOV/19, trip 139S has full weights of NaN\n",
      "On day 28/NOV/19, trip 124V has full weights of NaN\n",
      "On day 28/NOV/19, trip 87-Y has full weights of NaN\n",
      "On day 28/NOV/19, trip 139R has full weights of NaN\n",
      "On day 28/NOV/19, trip 61-U has full weights of NaN\n",
      "On day 28/NOV/19, trip 90XW has full weights of NaN\n",
      "On day 28/NOV/19, trip 124T has full weights of NaN\n"
     ]
    },
    {
     "name": "stderr",
     "output_type": "stream",
     "text": [
      "\r",
      " 30%|███       | 9/30 [02:09<05:14, 14.97s/it]"
     ]
    },
    {
     "name": "stdout",
     "output_type": "stream",
     "text": [
      "On day 01/NOV/19, trip 95XY has full weights of NaN\n",
      "On day 01/NOV/19, trip 99-R has full weights of NaN\n",
      "On day 01/NOV/19, trip 95-S has full weights of NaN\n",
      "On day 01/NOV/19, trip 98XA has full weights of NaN\n"
     ]
    },
    {
     "name": "stderr",
     "output_type": "stream",
     "text": [
      "\r",
      " 33%|███▎      | 10/30 [02:25<05:09, 15.48s/it]"
     ]
    },
    {
     "name": "stdout",
     "output_type": "stream",
     "text": [
      "On day 19/NOV/19, trip 151P has full weights of NaN\n",
      "On day 19/NOV/19, trip 151M has full weights of NaN\n",
      "On day 19/NOV/19, trip 151K has full weights of NaN\n",
      "On day 19/NOV/19, trip 151W has full weights of NaN\n",
      "On day 19/NOV/19, trip 166J has full weights of NaN\n",
      "On day 19/NOV/19, trip 9--R has full weights of NaN\n",
      "On day 19/NOV/19, trip 135D has full weights of NaN\n",
      "On day 19/NOV/19, trip 151L has full weights of NaN\n",
      "On day 19/NOV/19, trip 151V has full weights of NaN\n",
      "On day 19/NOV/19, trip 151D has full weights of NaN\n",
      "On day 19/NOV/19, trip 151E has full weights of NaN\n",
      "On day 19/NOV/19, trip 151N has full weights of NaN\n",
      "On day 19/NOV/19, trip 149W has full weights of NaN\n",
      "On day 19/NOV/19, trip 166U has full weights of NaN\n",
      "On day 19/NOV/19, trip 151J has full weights of NaN\n",
      "On day 19/NOV/19, trip 135A has full weights of NaN\n",
      "On day 19/NOV/19, trip 9--T has full weights of NaN\n",
      "On day 19/NOV/19, trip 151C has full weights of NaN\n",
      "On day 19/NOV/19, trip 144N has full weights of NaN\n",
      "On day 19/NOV/19, trip 166P has full weights of NaN\n",
      "On day 19/NOV/19, trip 135C has full weights of NaN\n",
      "On day 19/NOV/19, trip 166N has full weights of NaN\n",
      "On day 19/NOV/19, trip 151F has full weights of NaN\n",
      "On day 19/NOV/19, trip 144R has full weights of NaN\n",
      "On day 19/NOV/19, trip 151U has full weights of NaN\n",
      "On day 19/NOV/19, trip 151T has full weights of NaN\n",
      "On day 19/NOV/19, trip 151S has full weights of NaN\n",
      "On day 19/NOV/19, trip 97-R has full weights of NaN\n",
      "On day 19/NOV/19, trip 151R has full weights of NaN\n",
      "On day 19/NOV/19, trip 166T has full weights of NaN\n",
      "On day 19/NOV/19, trip 144P has full weights of NaN\n",
      "On day 19/NOV/19, trip 144W has full weights of NaN\n",
      "On day 19/NOV/19, trip 140M has full weights of NaN\n",
      "On day 19/NOV/19, trip 144S has full weights of NaN\n",
      "On day 19/NOV/19, trip 91-Z has full weights of NaN\n"
     ]
    },
    {
     "name": "stderr",
     "output_type": "stream",
     "text": [
      "\r",
      " 37%|███▋      | 11/30 [02:41<04:55, 15.53s/it]"
     ]
    },
    {
     "name": "stdout",
     "output_type": "stream",
     "text": [
      "On day 14/NOV/19, trip 540T has full weights of NaN\n",
      "On day 14/NOV/19, trip 169R has full weights of NaN\n",
      "On day 14/NOV/19, trip 169N has full weights of NaN\n",
      "On day 14/NOV/19, trip 169T has full weights of NaN\n",
      "On day 14/NOV/19, trip 97-X has full weights of NaN\n",
      "On day 14/NOV/19, trip 169L has full weights of NaN\n",
      "On day 14/NOV/19, trip 169D has full weights of NaN\n",
      "On day 14/NOV/19, trip 97-Y has full weights of NaN\n",
      "On day 14/NOV/19, trip 169M has full weights of NaN\n",
      "On day 14/NOV/19, trip 169V has full weights of NaN\n",
      "On day 14/NOV/19, trip 169X has full weights of NaN\n",
      "On day 14/NOV/19, trip 129G has full weights of NaN\n",
      "On day 14/NOV/19, trip 169U has full weights of NaN\n",
      "On day 14/NOV/19, trip 169W has full weights of NaN\n",
      "On day 14/NOV/19, trip 169F has full weights of NaN\n",
      "On day 14/NOV/19, trip 169J has full weights of NaN\n",
      "On day 14/NOV/19, trip 149V has full weights of NaN\n",
      "On day 14/NOV/19, trip 169S has full weights of NaN\n",
      "On day 14/NOV/19, trip 169G has full weights of NaN\n",
      "On day 14/NOV/19, trip 167U has full weights of NaN\n",
      "On day 14/NOV/19, trip 169E has full weights of NaN\n",
      "On day 14/NOV/19, trip 129E has full weights of NaN\n",
      "On day 14/NOV/19, trip 160S has full weights of NaN\n",
      "On day 14/NOV/19, trip 169P has full weights of NaN\n",
      "On day 14/NOV/19, trip 169K has full weights of NaN\n",
      "On day 14/NOV/19, trip 169H has full weights of NaN\n",
      "On day 14/NOV/19, trip 169C has full weights of NaN\n",
      "On day 14/NOV/19, trip 160R has full weights of NaN\n",
      "On day 14/NOV/19, trip 91-Z has full weights of NaN\n"
     ]
    },
    {
     "name": "stderr",
     "output_type": "stream",
     "text": [
      "\r",
      " 40%|████      | 12/30 [02:54<04:27, 14.87s/it]"
     ]
    },
    {
     "name": "stdout",
     "output_type": "stream",
     "text": [
      "On day 20/NOV/19, trip 93-T has full weights of NaN\n",
      "On day 20/NOV/19, trip 83-W has full weights of NaN\n",
      "On day 20/NOV/19, trip 153F has full weights of NaN\n",
      "On day 20/NOV/19, trip 91-Z has full weights of NaN\n"
     ]
    },
    {
     "name": "stderr",
     "output_type": "stream",
     "text": [
      "\r",
      " 43%|████▎     | 13/30 [03:14<04:36, 16.24s/it]"
     ]
    },
    {
     "name": "stdout",
     "output_type": "stream",
     "text": [
      "On day 12/NOV/19, trip 164B has full weights of NaN\n",
      "On day 12/NOV/19, trip 164G has full weights of NaN\n",
      "On day 12/NOV/19, trip 121W has full weights of NaN\n",
      "On day 12/NOV/19, trip 93-T has full weights of NaN\n",
      "On day 12/NOV/19, trip 164J has full weights of NaN\n",
      "On day 12/NOV/19, trip 164E has full weights of NaN\n",
      "On day 12/NOV/19, trip 164F has full weights of NaN\n",
      "On day 12/NOV/19, trip 564M has full weights of NaN\n",
      "On day 12/NOV/19, trip 149V has full weights of NaN\n",
      "On day 12/NOV/19, trip 164H has full weights of NaN\n",
      "On day 12/NOV/19, trip 164K has full weights of NaN\n",
      "On day 12/NOV/19, trip 121V has full weights of NaN\n",
      "On day 12/NOV/19, trip 87-Y has full weights of NaN\n",
      "On day 12/NOV/19, trip 164D has full weights of NaN\n",
      "On day 12/NOV/19, trip 164C has full weights of NaN\n",
      "On day 12/NOV/19, trip 121L has full weights of NaN\n",
      "On day 12/NOV/19, trip 564L has full weights of NaN\n"
     ]
    },
    {
     "name": "stderr",
     "output_type": "stream",
     "text": [
      "\r",
      " 47%|████▋     | 14/30 [03:31<04:22, 16.39s/it]"
     ]
    },
    {
     "name": "stdout",
     "output_type": "stream",
     "text": [
      "On day 08/NOV/19, trip 133P has full weights of NaN\n",
      "On day 08/NOV/19, trip 145F has full weights of NaN\n",
      "On day 08/NOV/19, trip 150J has full weights of NaN\n",
      "On day 08/NOV/19, trip 150M has full weights of NaN\n",
      "On day 08/NOV/19, trip 95XY has full weights of NaN\n",
      "On day 08/NOV/19, trip 167G has full weights of NaN\n",
      "On day 08/NOV/19, trip 150N has full weights of NaN\n",
      "On day 08/NOV/19, trip 150V has full weights of NaN\n",
      "On day 08/NOV/19, trip 95-Y has full weights of NaN\n",
      "On day 08/NOV/19, trip 150K has full weights of NaN\n",
      "On day 08/NOV/19, trip 130G has full weights of NaN\n",
      "On day 08/NOV/19, trip 150P has full weights of NaN\n",
      "On day 08/NOV/19, trip 140N has full weights of NaN\n",
      "On day 08/NOV/19, trip 150L has full weights of NaN\n",
      "On day 08/NOV/19, trip 68-W has full weights of NaN\n",
      "On day 08/NOV/19, trip 178Z has full weights of NaN\n",
      "On day 08/NOV/19, trip 167E has full weights of NaN\n",
      "On day 08/NOV/19, trip 87-V has full weights of NaN\n",
      "On day 08/NOV/19, trip 150H has full weights of NaN\n",
      "On day 08/NOV/19, trip 150S has full weights of NaN\n",
      "On day 08/NOV/19, trip 61-W has full weights of NaN\n",
      "On day 08/NOV/19, trip 90-L has full weights of NaN\n",
      "On day 08/NOV/19, trip 96-U has full weights of NaN\n",
      "On day 08/NOV/19, trip 130J has full weights of NaN\n",
      "On day 08/NOV/19, trip 150U has full weights of NaN\n",
      "On day 08/NOV/19, trip 140M has full weights of NaN\n",
      "On day 08/NOV/19, trip 150R has full weights of NaN\n",
      "On day 08/NOV/19, trip 150W has full weights of NaN\n",
      "On day 08/NOV/19, trip 150T has full weights of NaN\n",
      "On day 08/NOV/19, trip 150X has full weights of NaN\n",
      "On day 08/NOV/19, trip 98XA has full weights of NaN\n",
      "On day 08/NOV/19, trip 97XY has full weights of NaN\n"
     ]
    },
    {
     "name": "stderr",
     "output_type": "stream",
     "text": [
      "\r",
      " 50%|█████     | 15/30 [03:46<04:03, 16.22s/it]"
     ]
    },
    {
     "name": "stdout",
     "output_type": "stream",
     "text": [
      "On day 17/NOV/19, trip B1EZ has full weights of NaN\n",
      "On day 17/NOV/19, trip 714A has full weights of NaN\n"
     ]
    },
    {
     "name": "stderr",
     "output_type": "stream",
     "text": [
      "\r",
      " 53%|█████▎    | 16/30 [04:01<03:42, 15.87s/it]"
     ]
    },
    {
     "name": "stdout",
     "output_type": "stream",
     "text": [
      "On day 15/NOV/19, trip 95XY has full weights of NaN\n",
      "On day 15/NOV/19, trip 123K has full weights of NaN\n",
      "On day 15/NOV/19, trip 64-M has full weights of NaN\n",
      "On day 15/NOV/19, trip 64-J has full weights of NaN\n",
      "On day 15/NOV/19, trip 123M has full weights of NaN\n",
      "On day 15/NOV/19, trip 98-J has full weights of NaN\n",
      "On day 15/NOV/19, trip 98-K has full weights of NaN\n",
      "On day 15/NOV/19, trip 83-R has full weights of NaN\n",
      "On day 15/NOV/19, trip 123L has full weights of NaN\n",
      "On day 15/NOV/19, trip 98XA has full weights of NaN\n",
      "On day 15/NOV/19, trip 97XY has full weights of NaN\n"
     ]
    },
    {
     "name": "stderr",
     "output_type": "stream",
     "text": [
      "\r",
      " 57%|█████▋    | 17/30 [04:21<03:39, 16.88s/it]"
     ]
    },
    {
     "name": "stdout",
     "output_type": "stream",
     "text": [
      "On day 25/NOV/19, trip 93-T has full weights of NaN\n",
      "On day 25/NOV/19, trip 169X has full weights of NaN\n",
      "On day 25/NOV/19, trip 60-U has full weights of NaN\n",
      "On day 25/NOV/19, trip 169Y has full weights of NaN\n",
      "On day 25/NOV/19, trip 125F has full weights of NaN\n",
      "On day 25/NOV/19, trip 91-Z has full weights of NaN\n"
     ]
    },
    {
     "name": "stderr",
     "output_type": "stream",
     "text": [
      "\r",
      " 60%|██████    | 18/30 [04:41<03:34, 17.89s/it]"
     ]
    },
    {
     "name": "stdout",
     "output_type": "stream",
     "text": [
      "On day 10/NOV/19, trip 16-H has full weights of NaN\n",
      "On day 10/NOV/19, trip 16-S has full weights of NaN\n",
      "On day 10/NOV/19, trip 16-V has full weights of NaN\n",
      "On day 10/NOV/19, trip 16-G has full weights of NaN\n",
      "On day 10/NOV/19, trip 131R has full weights of NaN\n",
      "On day 10/NOV/19, trip 16-M has full weights of NaN\n",
      "On day 10/NOV/19, trip 16-R has full weights of NaN\n",
      "On day 10/NOV/19, trip 16-J has full weights of NaN\n",
      "On day 10/NOV/19, trip 16-L has full weights of NaN\n"
     ]
    },
    {
     "name": "stderr",
     "output_type": "stream",
     "text": [
      " 67%|██████▋   | 20/30 [05:14<02:55, 17.51s/it]"
     ]
    },
    {
     "name": "stdout",
     "output_type": "stream",
     "text": [
      "On day 06/NOV/19, trip L1FC has full weights of NaN\n",
      "On day 02/NOV/19, trip L2CT has full weights of NaN\n",
      "On day 02/NOV/19, trip 840U has full weights of NaN\n",
      "On day 02/NOV/19, trip 775M has full weights of NaN\n",
      "On day 02/NOV/19, trip L2DS has full weights of NaN\n",
      "On day 02/NOV/19, trip L2DX has full weights of NaN\n",
      "On day 02/NOV/19, trip L2DB has full weights of NaN\n",
      "On day 02/NOV/19, trip L2DN has full weights of NaN\n",
      "On day 02/NOV/19, trip 775K has full weights of NaN\n",
      "On day 02/NOV/19, trip L2BG has full weights of NaN\n",
      "On day 02/NOV/19, trip L2DF has full weights of NaN\n",
      "On day 02/NOV/19, trip L2BL has full weights of NaN\n",
      "On day 02/NOV/19, trip L2CD has full weights of NaN\n",
      "On day 02/NOV/19, trip L2BS has full weights of NaN\n",
      "On day 02/NOV/19, trip L2CJ has full weights of NaN\n",
      "On day 02/NOV/19, trip L2CW has full weights of NaN\n",
      "On day 02/NOV/19, trip L2EF has full weights of NaN\n",
      "On day 02/NOV/19, trip L2DY has full weights of NaN\n",
      "On day 02/NOV/19, trip 774J has full weights of NaN\n",
      "On day 02/NOV/19, trip L2EC has full weights of NaN\n",
      "On day 02/NOV/19, trip 840S has full weights of NaN\n",
      "On day 02/NOV/19, trip L2CN has full weights of NaN\n",
      "On day 02/NOV/19, trip L2EG has full weights of NaN\n",
      "On day 02/NOV/19, trip L2CM has full weights of NaN\n",
      "On day 02/NOV/19, trip L2DA has full weights of NaN\n",
      "On day 02/NOV/19, trip L2EB has full weights of NaN\n",
      "On day 02/NOV/19, trip L2DJ has full weights of NaN\n",
      "On day 02/NOV/19, trip L2CX has full weights of NaN\n",
      "On day 02/NOV/19, trip L2BR has full weights of NaN\n",
      "On day 02/NOV/19, trip 772L has full weights of NaN\n",
      "On day 02/NOV/19, trip L2BV has full weights of NaN\n",
      "On day 02/NOV/19, trip 843R has full weights of NaN\n",
      "On day 02/NOV/19, trip L2BM has full weights of NaN\n",
      "On day 02/NOV/19, trip L2BW has full weights of NaN\n",
      "On day 02/NOV/19, trip L2CS has full weights of NaN\n",
      "On day 02/NOV/19, trip L2DP has full weights of NaN\n",
      "On day 02/NOV/19, trip L2DE has full weights of NaN\n",
      "On day 02/NOV/19, trip 840V has full weights of NaN\n",
      "On day 02/NOV/19, trip 750L has full weights of NaN\n",
      "On day 02/NOV/19, trip L2BH has full weights of NaN\n",
      "On day 02/NOV/19, trip L2CE has full weights of NaN\n",
      "On day 02/NOV/19, trip 90XX has full weights of NaN\n",
      "On day 02/NOV/19, trip L2DU has full weights of NaN\n",
      "On day 02/NOV/19, trip L2CH has full weights of NaN\n",
      "On day 02/NOV/19, trip 840T has full weights of NaN\n",
      "On day 02/NOV/19, trip L2DK has full weights of NaN\n",
      "On day 02/NOV/19, trip L2DT has full weights of NaN\n"
     ]
    },
    {
     "name": "stderr",
     "output_type": "stream",
     "text": [
      "\r",
      " 70%|███████   | 21/30 [05:37<02:51, 19.11s/it]"
     ]
    },
    {
     "name": "stdout",
     "output_type": "stream",
     "text": [
      "On day 29/NOV/19, trip 98XA has full weights of NaN\n",
      "On day 29/NOV/19, trip 97XY has full weights of NaN\n"
     ]
    },
    {
     "name": "stderr",
     "output_type": "stream",
     "text": [
      "\r",
      " 73%|███████▎  | 22/30 [05:59<02:37, 19.74s/it]"
     ]
    },
    {
     "name": "stdout",
     "output_type": "stream",
     "text": [
      "On day 05/NOV/19, trip 121W has full weights of NaN\n",
      "On day 05/NOV/19, trip 128P has full weights of NaN\n",
      "On day 05/NOV/19, trip 162S has full weights of NaN\n",
      "On day 05/NOV/19, trip 93-T has full weights of NaN\n",
      "On day 05/NOV/19, trip 86-J has full weights of NaN\n",
      "On day 05/NOV/19, trip 141D has full weights of NaN\n",
      "On day 05/NOV/19, trip 163G has full weights of NaN\n",
      "On day 05/NOV/19, trip 81-G has full weights of NaN\n",
      "On day 05/NOV/19, trip 141C has full weights of NaN\n",
      "On day 05/NOV/19, trip 121S has full weights of NaN\n",
      "On day 05/NOV/19, trip 121V has full weights of NaN\n",
      "On day 05/NOV/19, trip 560H has full weights of NaN\n",
      "On day 05/NOV/19, trip 141B has full weights of NaN\n",
      "On day 05/NOV/19, trip 141A has full weights of NaN\n",
      "On day 05/NOV/19, trip 141E has full weights of NaN\n"
     ]
    },
    {
     "name": "stderr",
     "output_type": "stream",
     "text": [
      "\r",
      " 77%|███████▋  | 23/30 [06:18<02:18, 19.75s/it]"
     ]
    },
    {
     "name": "stdout",
     "output_type": "stream",
     "text": [
      "On day 18/NOV/19, trip 145C has full weights of NaN\n",
      "On day 18/NOV/19, trip 145F has full weights of NaN\n",
      "On day 18/NOV/19, trip 145N has full weights of NaN\n",
      "On day 18/NOV/19, trip 85-N has full weights of NaN\n",
      "On day 18/NOV/19, trip 145L has full weights of NaN\n",
      "On day 18/NOV/19, trip 145R has full weights of NaN\n",
      "On day 18/NOV/19, trip 145P has full weights of NaN\n",
      "On day 18/NOV/19, trip 98-W has full weights of NaN\n",
      "On day 18/NOV/19, trip 145E has full weights of NaN\n",
      "On day 18/NOV/19, trip 145K has full weights of NaN\n",
      "On day 18/NOV/19, trip 145H has full weights of NaN\n",
      "On day 18/NOV/19, trip 145B has full weights of NaN\n",
      "On day 18/NOV/19, trip 85-M has full weights of NaN\n",
      "On day 18/NOV/19, trip 145G has full weights of NaN\n",
      "On day 18/NOV/19, trip 96-U has full weights of NaN\n",
      "On day 18/NOV/19, trip 145D has full weights of NaN\n",
      "On day 18/NOV/19, trip 145J has full weights of NaN\n",
      "On day 18/NOV/19, trip 145M has full weights of NaN\n",
      "On day 18/NOV/19, trip 86-L has full weights of NaN\n"
     ]
    },
    {
     "name": "stderr",
     "output_type": "stream",
     "text": [
      "\r",
      " 80%|████████  | 24/30 [06:39<02:00, 20.03s/it]"
     ]
    },
    {
     "name": "stdout",
     "output_type": "stream",
     "text": [
      "On day 03/NOV/19, trip L1AA has full weights of NaN\n",
      "On day 03/NOV/19, trip L2EF has full weights of NaN\n",
      "On day 03/NOV/19, trip 818M has full weights of NaN\n",
      "On day 03/NOV/19, trip L1A- has full weights of NaN\n",
      "On day 03/NOV/19, trip L1AB has full weights of NaN\n",
      "On day 03/NOV/19, trip L2EG has full weights of NaN\n",
      "On day 03/NOV/19, trip 762D has full weights of NaN\n",
      "On day 03/NOV/19, trip 837X has full weights of NaN\n",
      "On day 03/NOV/19, trip 762E has full weights of NaN\n",
      "On day 03/NOV/19, trip 3--U has full weights of NaN\n",
      "On day 03/NOV/19, trip L1AC has full weights of NaN\n"
     ]
    },
    {
     "name": "stderr",
     "output_type": "stream",
     "text": [
      "\r",
      " 83%|████████▎ | 25/30 [07:04<01:47, 21.41s/it]"
     ]
    },
    {
     "name": "stdout",
     "output_type": "stream",
     "text": [
      "On day 21/NOV/19, trip 93-T has full weights of NaN\n",
      "On day 21/NOV/19, trip 136C has full weights of NaN\n",
      "On day 21/NOV/19, trip 160B has full weights of NaN\n",
      "On day 21/NOV/19, trip 64-H has full weights of NaN\n",
      "On day 21/NOV/19, trip 136E has full weights of NaN\n",
      "On day 21/NOV/19, trip 146U has full weights of NaN\n",
      "On day 21/NOV/19, trip 130J has full weights of NaN\n",
      "On day 21/NOV/19, trip 146V has full weights of NaN\n",
      "On day 21/NOV/19, trip 136M has full weights of NaN\n",
      "On day 21/NOV/19, trip 130L has full weights of NaN\n",
      "On day 21/NOV/19, trip 91-Z has full weights of NaN\n"
     ]
    },
    {
     "name": "stderr",
     "output_type": "stream",
     "text": [
      "\r",
      " 87%|████████▋ | 26/30 [07:24<01:24, 21.22s/it]"
     ]
    },
    {
     "name": "stdout",
     "output_type": "stream",
     "text": [
      "On day 26/NOV/19, trip 167J has full weights of NaN\n",
      "On day 26/NOV/19, trip 10XY has full weights of NaN\n",
      "On day 26/NOV/19, trip 127J has full weights of NaN\n",
      "On day 26/NOV/19, trip 61-U has full weights of NaN\n",
      "On day 26/NOV/19, trip 91-Z has full weights of NaN\n"
     ]
    },
    {
     "name": "stderr",
     "output_type": "stream",
     "text": [
      "\r",
      " 90%|█████████ | 27/30 [07:43<01:01, 20.48s/it]"
     ]
    },
    {
     "name": "stdout",
     "output_type": "stream",
     "text": [
      "On day 26/NOV/19, trip 167K has full weights of NaN\n",
      "On day 24/NOV/19, trip 729C has full weights of NaN\n",
      "On day 24/NOV/19, trip 734A has full weights of NaN\n",
      "On day 24/NOV/19, trip 734X has full weights of NaN\n",
      "On day 24/NOV/19, trip 776B has full weights of NaN\n"
     ]
    },
    {
     "name": "stderr",
     "output_type": "stream",
     "text": [
      "\r",
      " 93%|█████████▎| 28/30 [08:10<00:44, 22.31s/it]"
     ]
    },
    {
     "name": "stdout",
     "output_type": "stream",
     "text": [
      "On day 07/NOV/19, trip 93-T has full weights of NaN\n",
      "On day 07/NOV/19, trip 29-H has full weights of NaN\n",
      "On day 07/NOV/19, trip 83-B has full weights of NaN\n",
      "On day 07/NOV/19, trip 29-J has full weights of NaN\n"
     ]
    },
    {
     "name": "stderr",
     "output_type": "stream",
     "text": [
      "\r",
      " 97%|█████████▋| 29/30 [08:33<00:22, 22.57s/it]"
     ]
    },
    {
     "name": "stdout",
     "output_type": "stream",
     "text": [
      "On day 23/NOV/19, trip 733Y has full weights of NaN\n",
      "On day 23/NOV/19, trip 738J has full weights of NaN\n",
      "On day 23/NOV/19, trip 739F has full weights of NaN\n",
      "On day 23/NOV/19, trip 738Z has full weights of NaN\n",
      "On day 23/NOV/19, trip 738G has full weights of NaN\n",
      "On day 23/NOV/19, trip 817N has full weights of NaN\n",
      "On day 23/NOV/19, trip 739G has full weights of NaN\n",
      "On day 23/NOV/19, trip 817B has full weights of NaN\n",
      "On day 23/NOV/19, trip 739X has full weights of NaN\n",
      "On day 23/NOV/19, trip 733E has full weights of NaN\n",
      "On day 23/NOV/19, trip 734S has full weights of NaN\n",
      "On day 23/NOV/19, trip 734E has full weights of NaN\n",
      "On day 23/NOV/19, trip 733C has full weights of NaN\n",
      "On day 23/NOV/19, trip 733J has full weights of NaN\n",
      "On day 23/NOV/19, trip 734D has full weights of NaN\n",
      "On day 23/NOV/19, trip 739A has full weights of NaN\n",
      "On day 23/NOV/19, trip 738H has full weights of NaN\n",
      "On day 23/NOV/19, trip 734P has full weights of NaN\n",
      "On day 23/NOV/19, trip 734G has full weights of NaN\n",
      "On day 23/NOV/19, trip 817X has full weights of NaN\n",
      "On day 23/NOV/19, trip 738K has full weights of NaN\n",
      "On day 23/NOV/19, trip 734J has full weights of NaN\n",
      "On day 23/NOV/19, trip 734B has full weights of NaN\n",
      "On day 23/NOV/19, trip 818G has full weights of NaN\n",
      "On day 23/NOV/19, trip 738R has full weights of NaN\n",
      "On day 23/NOV/19, trip 738C has full weights of NaN\n",
      "On day 23/NOV/19, trip 734H has full weights of NaN\n",
      "On day 23/NOV/19, trip 733Z has full weights of NaN\n",
      "On day 23/NOV/19, trip 733T has full weights of NaN\n",
      "On day 23/NOV/19, trip 740C has full weights of NaN\n",
      "On day 23/NOV/19, trip B1EZ has full weights of NaN\n",
      "On day 23/NOV/19, trip 739H has full weights of NaN\n",
      "On day 23/NOV/19, trip 734Y has full weights of NaN\n",
      "On day 23/NOV/19, trip 739N has full weights of NaN\n",
      "On day 23/NOV/19, trip 738Y has full weights of NaN\n",
      "On day 23/NOV/19, trip 733W has full weights of NaN\n",
      "On day 23/NOV/19, trip 733F has full weights of NaN\n",
      "On day 23/NOV/19, trip 738S has full weights of NaN\n",
      "On day 23/NOV/19, trip 733U has full weights of NaN\n",
      "On day 23/NOV/19, trip 738X has full weights of NaN\n",
      "On day 23/NOV/19, trip 742- has full weights of NaN\n",
      "On day 23/NOV/19, trip 817H has full weights of NaN\n",
      "On day 23/NOV/19, trip 817T has full weights of NaN\n",
      "On day 23/NOV/19, trip 740B has full weights of NaN\n",
      "On day 23/NOV/19, trip 818E has full weights of NaN\n",
      "On day 23/NOV/19, trip 738U has full weights of NaN\n",
      "On day 23/NOV/19, trip 733X has full weights of NaN\n",
      "On day 23/NOV/19, trip 733H has full weights of NaN\n",
      "On day 23/NOV/19, trip 817L has full weights of NaN\n",
      "On day 23/NOV/19, trip 733B has full weights of NaN\n",
      "On day 23/NOV/19, trip 734T has full weights of NaN\n",
      "On day 23/NOV/19, trip 817R has full weights of NaN\n",
      "On day 23/NOV/19, trip 734C has full weights of NaN\n",
      "On day 23/NOV/19, trip 734U has full weights of NaN\n",
      "On day 23/NOV/19, trip 738P has full weights of NaN\n",
      "On day 23/NOV/19, trip 739V has full weights of NaN\n",
      "On day 23/NOV/19, trip 738W has full weights of NaN\n",
      "On day 23/NOV/19, trip 733A has full weights of NaN\n",
      "On day 23/NOV/19, trip 817M has full weights of NaN\n",
      "On day 23/NOV/19, trip 734K has full weights of NaN\n",
      "On day 23/NOV/19, trip 730A has full weights of NaN\n",
      "On day 23/NOV/19, trip 739P has full weights of NaN\n",
      "On day 23/NOV/19, trip 744B has full weights of NaN\n",
      "On day 23/NOV/19, trip 738T has full weights of NaN\n",
      "On day 23/NOV/19, trip 732B has full weights of NaN\n",
      "On day 23/NOV/19, trip 739C has full weights of NaN\n",
      "On day 23/NOV/19, trip 818B has full weights of NaN\n",
      "On day 23/NOV/19, trip 818L has full weights of NaN\n",
      "On day 23/NOV/19, trip 733D has full weights of NaN\n",
      "On day 23/NOV/19, trip 738D has full weights of NaN\n",
      "On day 23/NOV/19, trip 738N has full weights of NaN\n",
      "On day 23/NOV/19, trip 818J has full weights of NaN\n",
      "On day 23/NOV/19, trip 734L has full weights of NaN\n",
      "On day 23/NOV/19, trip 734A has full weights of NaN\n",
      "On day 23/NOV/19, trip 817D has full weights of NaN\n",
      "On day 23/NOV/19, trip 734F has full weights of NaN\n",
      "On day 23/NOV/19, trip 739M has full weights of NaN\n",
      "On day 23/NOV/19, trip 739K has full weights of NaN\n",
      "On day 23/NOV/19, trip 739L has full weights of NaN\n",
      "On day 23/NOV/19, trip 817F has full weights of NaN\n",
      "On day 23/NOV/19, trip 738B has full weights of NaN\n",
      "On day 23/NOV/19, trip 739Y has full weights of NaN\n",
      "On day 23/NOV/19, trip 733G has full weights of NaN\n",
      "On day 23/NOV/19, trip 738E has full weights of NaN\n",
      "On day 23/NOV/19, trip 734X has full weights of NaN\n",
      "On day 23/NOV/19, trip 734N has full weights of NaN\n",
      "On day 23/NOV/19, trip 738L has full weights of NaN\n",
      "On day 23/NOV/19, trip 818A has full weights of NaN\n",
      "On day 23/NOV/19, trip 817P has full weights of NaN\n",
      "On day 23/NOV/19, trip 739E has full weights of NaN\n",
      "On day 23/NOV/19, trip 817K has full weights of NaN\n",
      "On day 23/NOV/19, trip 738M has full weights of NaN\n",
      "On day 23/NOV/19, trip 817G has full weights of NaN\n",
      "On day 23/NOV/19, trip 739D has full weights of NaN\n",
      "On day 23/NOV/19, trip 817J has full weights of NaN\n",
      "On day 23/NOV/19, trip 818D has full weights of NaN\n",
      "On day 23/NOV/19, trip 817E has full weights of NaN\n",
      "On day 23/NOV/19, trip 817Y has full weights of NaN\n",
      "On day 23/NOV/19, trip 817Z has full weights of NaN\n",
      "On day 23/NOV/19, trip 739B has full weights of NaN\n",
      "On day 23/NOV/19, trip 818F has full weights of NaN\n",
      "On day 23/NOV/19, trip 817V has full weights of NaN\n",
      "On day 23/NOV/19, trip 738F has full weights of NaN\n",
      "On day 23/NOV/19, trip 817S has full weights of NaN\n",
      "On day 23/NOV/19, trip 733K has full weights of NaN\n",
      "On day 23/NOV/19, trip 817W has full weights of NaN\n",
      "On day 23/NOV/19, trip 733L has full weights of NaN\n",
      "On day 23/NOV/19, trip 739J has full weights of NaN\n",
      "On day 23/NOV/19, trip 739W has full weights of NaN\n",
      "On day 23/NOV/19, trip 818C has full weights of NaN\n",
      "On day 23/NOV/19, trip 733M has full weights of NaN\n",
      "On day 23/NOV/19, trip 818K has full weights of NaN\n",
      "On day 23/NOV/19, trip 734M has full weights of NaN\n",
      "On day 23/NOV/19, trip 734R has full weights of NaN\n",
      "On day 23/NOV/19, trip 738V has full weights of NaN\n",
      "On day 23/NOV/19, trip 734Z has full weights of NaN\n",
      "On day 23/NOV/19, trip 733V has full weights of NaN\n",
      "On day 23/NOV/19, trip 817U has full weights of NaN\n",
      "On day 23/NOV/19, trip 817C has full weights of NaN\n"
     ]
    },
    {
     "name": "stderr",
     "output_type": "stream",
     "text": [
      "100%|██████████| 30/30 [08:51<00:00, 17.72s/it]"
     ]
    },
    {
     "name": "stdout",
     "output_type": "stream",
     "text": [
      "On day 23/NOV/19, trip 744A has full weights of NaN\n",
      "On day 23/NOV/19, trip 818H has full weights of NaN\n"
     ]
    },
    {
     "name": "stderr",
     "output_type": "stream",
     "text": [
      "\n"
     ]
    }
   ],
   "source": [
    "WEIGHTS_COLS = [\n",
    "    'CAR1_PSNGLD_DEPART', 'CAR2_PSNGLD_DEPART', 'CAR3_PSNGLD_DEPART',\n",
    "    'CAR4_PSNGLD_DEPART', 'CAR5_PSNGLD_DEPART', 'CAR6_PSNGLD_DEPART',\n",
    "    'CAR7_PSNGLD_DEPART', 'CAR8_PSNGLD_DEPART'\n",
    "]\n",
    "\n",
    "SHOWN_COLS = [\n",
    "    'TRIP_NAME', 'DAY_OF_OPERATION_DATE', 'STATION_NAME',\n",
    "    'SEGMENT_DIRECTION_NAME', 'TRIP_ORGIN_STATION', 'TRIP_DESTINATION_STATION',\n",
    "    'DWELL_ARRIVAL_CALC_TIME', 'DWELL_DEPART_CALC_TIME',\n",
    "    'ACTUAL_ARRIVAL_PLATFORM'\n",
    "]\n",
    "\n",
    "result_df = pd.DataFrame(columns=[\n",
    "    'Trip_Name', 'Origin', 'Destination', 'Trip_Start_Time', 'Trip_End_Time',\n",
    "    'Max_Load_Weight', 'Max_Load_Car_ID', 'Max_Load_Station_Name',\n",
    "    'Max_Load_Platform', 'Direction'\n",
    "])\n",
    "\n",
    "from tqdm import tqdm\n",
    "all_days = set(dart_df.DAY_OF_OPERATION_DATE)\n",
    "#all_days\n",
    "\n",
    "for each_day in tqdm(all_days):\n",
    "    day_df = dart_df[dart_df.DAY_OF_OPERATION_DATE.isin([each_day])]\n",
    "    day_df = day_df.sort_values(\n",
    "        ['DAY_OF_OPERATION_DATE', 'TRIP_NAME', 'DWELL_ARRIVAL_CALC_TIME'])\n",
    "\n",
    "    cols_df = day_df[SHOWN_COLS + WEIGHTS_COLS]\n",
    "    day_trip_set = set(cols_df['TRIP_NAME'])\n",
    "\n",
    "    for t in day_trip_set:\n",
    "        Trip_Name = t\n",
    "        today_trip_df = cols_df[cols_df['TRIP_NAME'] == t]\n",
    "\n",
    "        if today_trip_df[WEIGHTS_COLS].isna().sum().sum() == today_trip_df[\n",
    "                WEIGHTS_COLS].shape[0] * today_trip_df[WEIGHTS_COLS].shape[1]:\n",
    "            print(\"On day {}, trip {} has full weights of NaN\".format(\n",
    "                each_day, t))\n",
    "            continue\n",
    "\n",
    "        Origin = today_trip_df['TRIP_ORGIN_STATION'].iloc[0]\n",
    "        Destination = today_trip_df['TRIP_DESTINATION_STATION'].iloc[0]\n",
    "        Trip_Start_Time = today_trip_df['DWELL_DEPART_CALC_TIME'].iloc[0]\n",
    "        Trip_End_Time = today_trip_df['DWELL_DEPART_CALC_TIME'].iloc[-1]\n",
    "        Direction = today_trip_df['SEGMENT_DIRECTION_NAME'].iloc[0]\n",
    "\n",
    "        idx_weight_max = today_trip_df[WEIGHTS_COLS].max(axis=1).idxmax(axis=0)\n",
    "        Max_Load_Station_Name = today_trip_df.loc[idx_weight_max][\n",
    "            'STATION_NAME']\n",
    "        Max_Load_Platform = today_trip_df.loc[idx_weight_max][\n",
    "            'ACTUAL_ARRIVAL_PLATFORM']\n",
    "        Max_Load_Car_ID = today_trip_df[WEIGHTS_COLS].idxmax(\n",
    "            axis=1).loc[idx_weight_max]\n",
    "        Max_Load_Weight = today_trip_df[WEIGHTS_COLS].max(axis=1).max()\n",
    "\n",
    "        rows = {\n",
    "            'Trip_Name': Trip_Name,\n",
    "            'Origin': Origin,\n",
    "            'Destination': Destination,\n",
    "            'Trip_Start_Time': Trip_Start_Time,\n",
    "            'Trip_End_Time': Trip_End_Time,\n",
    "            'Max_Load_Weight': Max_Load_Weight,\n",
    "            'Max_Load_Car_ID': Max_Load_Car_ID,\n",
    "            'Max_Load_Station_Name': Max_Load_Station_Name,\n",
    "            'Max_Load_Platform': Max_Load_Platform,\n",
    "            'Direction': Direction\n",
    "        }\n",
    "\n",
    "        result_df = result_df.append(rows, ignore_index=True)"
   ]
  },
  {
   "cell_type": "code",
   "execution_count": 4,
   "metadata": {
    "ExecuteTime": {
     "end_time": "2020-04-26T23:46:32.080232Z",
     "start_time": "2020-04-26T23:46:32.064633Z"
    }
   },
   "outputs": [],
   "source": [
    "level_df = result_df.copy()"
   ]
  },
  {
   "cell_type": "code",
   "execution_count": 5,
   "metadata": {
    "ExecuteTime": {
     "end_time": "2020-04-26T23:46:32.132126Z",
     "start_time": "2020-04-26T23:46:32.081477Z"
    }
   },
   "outputs": [],
   "source": [
    "def weights_to_level(car, weight):\n",
    "    kg_per_person = 75\n",
    "    level = None\n",
    "    if car == 'CAR1':\n",
    "        if weight <= 27 * kg_per_person:\n",
    "            level = 'Green_Safe'\n",
    "        elif (weight > 27 * kg_per_person) and (weight <= 35 * kg_per_person):\n",
    "            level = 'Yellow_Reaching'\n",
    "        elif weight >= 35 * kg_per_person:\n",
    "            level = 'Red_Max'\n",
    "    elif car == 'CAR2':\n",
    "        if weight <= 33 * kg_per_person:\n",
    "            level = 'Green_Safe'\n",
    "        elif (weight > 33 * kg_per_person) and (weight <= 43 * kg_per_person):\n",
    "            level = 'Yellow_Reaching'\n",
    "        elif weight >= 43 * kg_per_person:\n",
    "            level = 'Red_Max'\n",
    "    elif car == 'CAR3':\n",
    "        if weight <= 33 * kg_per_person:\n",
    "            level = 'Green_Safe'\n",
    "        elif (weight > 33 * kg_per_person) and (weight <= 43 * kg_per_person):\n",
    "            level = 'Yellow_Reaching'\n",
    "        elif weight >= 43 * kg_per_person:\n",
    "            level = 'Red_Max'\n",
    "\n",
    "    elif car == 'CAR4':\n",
    "        if weight <= 29 * kg_per_person:\n",
    "            level = 'Green_Safe'\n",
    "        elif (weight > 29 * kg_per_person) and (weight <= 38 * kg_per_person):\n",
    "            level = 'Yellow_Reaching'\n",
    "        elif weight >= 38 * kg_per_person:\n",
    "            level = 'Red_Max'\n",
    "\n",
    "    elif car == 'CAR5':\n",
    "        if weight <= 29 * kg_per_person:\n",
    "            level = 'Green_Safe'\n",
    "        elif (weight > 29 * kg_per_person) and (weight <= 38 * kg_per_person):\n",
    "            level = 'Yellow_Reaching'\n",
    "        elif weight >= 38 * kg_per_person:\n",
    "            level = 'Red_Max'\n",
    "\n",
    "    elif car == 'CAR6':\n",
    "        if weight <= 33 * kg_per_person:\n",
    "            level = 'Green_Safe'\n",
    "        elif (weight > 33 * kg_per_person) and (weight <= 43 * kg_per_person):\n",
    "            level = 'Yellow_Reaching'\n",
    "        elif weight >= 43 * kg_per_person:\n",
    "            level = 'Red_Max'\n",
    "    elif car == 'CAR7':\n",
    "        if weight <= 33 * kg_per_person:\n",
    "            level = 'Green_Safe'\n",
    "        elif (weight > 33 * kg_per_person) and (weight <= 43 * kg_per_person):\n",
    "            level = 'Yellow_Reaching'\n",
    "        elif weight >= 43 * kg_per_person:\n",
    "            level = 'Red_Max'\n",
    "\n",
    "    if car == 'CAR8':\n",
    "        if weight <= 27 * kg_per_person:\n",
    "            level = 'Green_Safe'\n",
    "        elif (weight > 27 * kg_per_person) and (weight <= 34 * kg_per_person):\n",
    "            level = 'Yellow_Reaching'\n",
    "        elif weight >= 34 * kg_per_person:\n",
    "            level = 'Red_Max'\n",
    "\n",
    "    #print(level, weight)\n",
    "    return level"
   ]
  },
  {
   "cell_type": "code",
   "execution_count": 7,
   "metadata": {
    "ExecuteTime": {
     "end_time": "2020-04-26T23:46:32.220982Z",
     "start_time": "2020-04-26T23:46:32.202923Z"
    }
   },
   "outputs": [],
   "source": [
    "level_df['Max_Load_Car_ID'] = level_df['Max_Load_Car_ID'].apply(\n",
    "    lambda x: x.split('_')[0])"
   ]
  },
  {
   "cell_type": "code",
   "execution_count": 8,
   "metadata": {
    "ExecuteTime": {
     "end_time": "2020-04-26T23:46:32.257486Z",
     "start_time": "2020-04-26T23:46:32.223713Z"
    }
   },
   "outputs": [],
   "source": [
    "level_df['Max_Load_Level'] = np.vectorize(weights_to_level)(\n",
    "    level_df['Max_Load_Car_ID'], level_df['Max_Load_Weight'])"
   ]
  },
  {
   "cell_type": "code",
   "execution_count": 10,
   "metadata": {
    "ExecuteTime": {
     "end_time": "2020-04-26T23:46:39.998906Z",
     "start_time": "2020-04-26T23:46:32.276915Z"
    }
   },
   "outputs": [],
   "source": [
    "level_df['Trip_Start_Time'] = pd.to_datetime(level_df['Trip_Start_Time'])\n",
    "level_df['Trip_End_Time'] = pd.to_datetime(level_df['Trip_End_Time'])\n",
    "\n",
    "level_df['Today_Start_Time'] = level_df['Trip_Start_Time'].dt.time\n",
    "level_df['Today_End_Time'] = level_df['Trip_End_Time'].dt.time"
   ]
  },
  {
   "cell_type": "code",
   "execution_count": 11,
   "metadata": {
    "ExecuteTime": {
     "end_time": "2020-04-26T23:46:40.006408Z",
     "start_time": "2020-04-26T23:46:40.000796Z"
    }
   },
   "outputs": [],
   "source": [
    "import datetime\n",
    "\n",
    "def time_period(start_time, end_time):\n",
    "    start_am_up = (start_time >= datetime.time(hour=7)) and (start_time <= datetime.time(hour=9))\n",
    "    end_am_up = (end_time >= datetime.time(hour=7)) and (end_time <= datetime.time(hour=9))\n",
    "    \n",
    "    start_pm_down = (start_time >= datetime.time(hour=16)) and (start_time <= datetime.time(hour=18, minute=30))\n",
    "    end_pm_down = (end_time >= datetime.time(hour=16)) and (end_time <= datetime.time(hour=18, minute=30))\n",
    "    \n",
    "    period = None\n",
    "    if start_am_up or end_am_up:\n",
    "        period = 'AM_UP'\n",
    "    elif start_pm_down or end_pm_down:\n",
    "        period = 'PM_DOWN'\n",
    "    else:\n",
    "        period = 'Others'\n",
    "        \n",
    "    return period"
   ]
  },
  {
   "cell_type": "code",
   "execution_count": 12,
   "metadata": {
    "ExecuteTime": {
     "end_time": "2020-04-26T23:46:40.099958Z",
     "start_time": "2020-04-26T23:46:40.007582Z"
    }
   },
   "outputs": [],
   "source": [
    "level_df['Time_Period'] = np.vectorize(time_period)(level_df['Today_Start_Time'], \n",
    "                                                            level_df['Today_End_Time'])"
   ]
  },
  {
   "cell_type": "code",
   "execution_count": 13,
   "metadata": {
    "ExecuteTime": {
     "end_time": "2020-04-26T23:46:40.116604Z",
     "start_time": "2020-04-26T23:46:40.101172Z"
    }
   },
   "outputs": [
    {
     "data": {
      "text/html": [
       "<div>\n",
       "<style scoped>\n",
       "    .dataframe tbody tr th:only-of-type {\n",
       "        vertical-align: middle;\n",
       "    }\n",
       "\n",
       "    .dataframe tbody tr th {\n",
       "        vertical-align: top;\n",
       "    }\n",
       "\n",
       "    .dataframe thead th {\n",
       "        text-align: right;\n",
       "    }\n",
       "</style>\n",
       "<table border=\"1\" class=\"dataframe\">\n",
       "  <thead>\n",
       "    <tr style=\"text-align: right;\">\n",
       "      <th></th>\n",
       "      <th>Trip_Name</th>\n",
       "      <th>Origin</th>\n",
       "      <th>Destination</th>\n",
       "      <th>Trip_Start_Time</th>\n",
       "      <th>Trip_End_Time</th>\n",
       "      <th>Max_Load_Weight</th>\n",
       "      <th>Max_Load_Car_ID</th>\n",
       "      <th>Max_Load_Station_Name</th>\n",
       "      <th>Max_Load_Platform</th>\n",
       "      <th>Direction</th>\n",
       "      <th>Max_Load_Level</th>\n",
       "      <th>Today_Start_Time</th>\n",
       "      <th>Today_End_Time</th>\n",
       "      <th>Time_Period</th>\n",
       "    </tr>\n",
       "  </thead>\n",
       "  <tbody>\n",
       "    <tr>\n",
       "      <th>0</th>\n",
       "      <td>87-P</td>\n",
       "      <td>Macarthur</td>\n",
       "      <td>Central</td>\n",
       "      <td>2019-11-11 16:58:51</td>\n",
       "      <td>2019-11-11 18:00:52</td>\n",
       "      <td>7700.0</td>\n",
       "      <td>CAR4</td>\n",
       "      <td>Green Square</td>\n",
       "      <td>GQU1</td>\n",
       "      <td>Up</td>\n",
       "      <td>Red_Max</td>\n",
       "      <td>16:58:51</td>\n",
       "      <td>18:00:52</td>\n",
       "      <td>PM_DOWN</td>\n",
       "    </tr>\n",
       "    <tr>\n",
       "      <th>1</th>\n",
       "      <td>96-E</td>\n",
       "      <td>Leppington</td>\n",
       "      <td>Central</td>\n",
       "      <td>2019-11-11 13:00:58</td>\n",
       "      <td>2019-11-11 12:57:26</td>\n",
       "      <td>4330.0</td>\n",
       "      <td>CAR7</td>\n",
       "      <td>Newtown</td>\n",
       "      <td>NTN1</td>\n",
       "      <td>Up</td>\n",
       "      <td>Red_Max</td>\n",
       "      <td>13:00:58</td>\n",
       "      <td>12:57:26</td>\n",
       "      <td>Others</td>\n",
       "    </tr>\n",
       "    <tr>\n",
       "      <th>2</th>\n",
       "      <td>137F</td>\n",
       "      <td>Central</td>\n",
       "      <td>Hornsby</td>\n",
       "      <td>2019-11-11 07:30:57</td>\n",
       "      <td>2019-11-11 08:26:58</td>\n",
       "      <td>7200.0</td>\n",
       "      <td>CAR2</td>\n",
       "      <td>Eastwood</td>\n",
       "      <td>EWD3</td>\n",
       "      <td>Down</td>\n",
       "      <td>Red_Max</td>\n",
       "      <td>07:30:57</td>\n",
       "      <td>08:26:58</td>\n",
       "      <td>AM_UP</td>\n",
       "    </tr>\n",
       "    <tr>\n",
       "      <th>3</th>\n",
       "      <td>133P</td>\n",
       "      <td>Central</td>\n",
       "      <td>Penrith</td>\n",
       "      <td>2019-11-11 18:43:16</td>\n",
       "      <td>2019-11-11 20:01:48</td>\n",
       "      <td>2280.0</td>\n",
       "      <td>CAR5</td>\n",
       "      <td>Blacktown</td>\n",
       "      <td>BTN6</td>\n",
       "      <td>Down</td>\n",
       "      <td>Yellow_Reaching</td>\n",
       "      <td>18:43:16</td>\n",
       "      <td>20:01:48</td>\n",
       "      <td>Others</td>\n",
       "    </tr>\n",
       "    <tr>\n",
       "      <th>4</th>\n",
       "      <td>87-M</td>\n",
       "      <td>Birrong</td>\n",
       "      <td>Central</td>\n",
       "      <td>2019-11-11 14:43:45</td>\n",
       "      <td>2019-11-11 15:27:30</td>\n",
       "      <td>3040.0</td>\n",
       "      <td>CAR5</td>\n",
       "      <td>Erskineville</td>\n",
       "      <td>ERS1</td>\n",
       "      <td>Up</td>\n",
       "      <td>Red_Max</td>\n",
       "      <td>14:43:45</td>\n",
       "      <td>15:27:30</td>\n",
       "      <td>Others</td>\n",
       "    </tr>\n",
       "  </tbody>\n",
       "</table>\n",
       "</div>"
      ],
      "text/plain": [
       "  Trip_Name      Origin Destination     Trip_Start_Time       Trip_End_Time  \\\n",
       "0      87-P   Macarthur     Central 2019-11-11 16:58:51 2019-11-11 18:00:52   \n",
       "1      96-E  Leppington     Central 2019-11-11 13:00:58 2019-11-11 12:57:26   \n",
       "2      137F     Central     Hornsby 2019-11-11 07:30:57 2019-11-11 08:26:58   \n",
       "3      133P     Central     Penrith 2019-11-11 18:43:16 2019-11-11 20:01:48   \n",
       "4      87-M     Birrong     Central 2019-11-11 14:43:45 2019-11-11 15:27:30   \n",
       "\n",
       "   Max_Load_Weight Max_Load_Car_ID Max_Load_Station_Name Max_Load_Platform  \\\n",
       "0           7700.0            CAR4          Green Square              GQU1   \n",
       "1           4330.0            CAR7               Newtown              NTN1   \n",
       "2           7200.0            CAR2              Eastwood              EWD3   \n",
       "3           2280.0            CAR5             Blacktown              BTN6   \n",
       "4           3040.0            CAR5          Erskineville              ERS1   \n",
       "\n",
       "  Direction   Max_Load_Level Today_Start_Time Today_End_Time Time_Period  \n",
       "0        Up          Red_Max         16:58:51       18:00:52     PM_DOWN  \n",
       "1        Up          Red_Max         13:00:58       12:57:26      Others  \n",
       "2      Down          Red_Max         07:30:57       08:26:58       AM_UP  \n",
       "3      Down  Yellow_Reaching         18:43:16       20:01:48      Others  \n",
       "4        Up          Red_Max         14:43:45       15:27:30      Others  "
      ]
     },
     "execution_count": 13,
     "metadata": {},
     "output_type": "execute_result"
    }
   ],
   "source": [
    "level_df.head()"
   ]
  },
  {
   "cell_type": "markdown",
   "metadata": {},
   "source": [
    "### save results"
   ]
  },
  {
   "cell_type": "code",
   "execution_count": 24,
   "metadata": {
    "ExecuteTime": {
     "end_time": "2020-04-23T02:51:41.533915Z",
     "start_time": "2020-04-23T02:51:41.039712Z"
    }
   },
   "outputs": [],
   "source": [
    "level_df.to_csv('Load_Level_Nov.csv', index=False)"
   ]
  },
  {
   "cell_type": "markdown",
   "metadata": {},
   "source": [
    "### load and plot"
   ]
  },
  {
   "cell_type": "code",
   "execution_count": 26,
   "metadata": {
    "ExecuteTime": {
     "end_time": "2020-04-23T02:53:18.843071Z",
     "start_time": "2020-04-23T02:53:18.552824Z"
    }
   },
   "outputs": [
    {
     "data": {
      "text/html": [
       "<div>\n",
       "<style scoped>\n",
       "    .dataframe tbody tr th:only-of-type {\n",
       "        vertical-align: middle;\n",
       "    }\n",
       "\n",
       "    .dataframe tbody tr th {\n",
       "        vertical-align: top;\n",
       "    }\n",
       "\n",
       "    .dataframe thead th {\n",
       "        text-align: right;\n",
       "    }\n",
       "</style>\n",
       "<table border=\"1\" class=\"dataframe\">\n",
       "  <thead>\n",
       "    <tr style=\"text-align: right;\">\n",
       "      <th>Max_Load_Level</th>\n",
       "      <th>Green_Safe</th>\n",
       "      <th>Red_Max</th>\n",
       "      <th>Yellow_Reaching</th>\n",
       "    </tr>\n",
       "    <tr>\n",
       "      <th>Time_Period</th>\n",
       "      <th></th>\n",
       "      <th></th>\n",
       "      <th></th>\n",
       "    </tr>\n",
       "  </thead>\n",
       "  <tbody>\n",
       "    <tr>\n",
       "      <th>AM_UP</th>\n",
       "      <td>632</td>\n",
       "      <td>4029</td>\n",
       "      <td>254</td>\n",
       "    </tr>\n",
       "    <tr>\n",
       "      <th>Others</th>\n",
       "      <td>6166</td>\n",
       "      <td>12443</td>\n",
       "      <td>2401</td>\n",
       "    </tr>\n",
       "    <tr>\n",
       "      <th>PM_DOWN</th>\n",
       "      <td>348</td>\n",
       "      <td>5563</td>\n",
       "      <td>181</td>\n",
       "    </tr>\n",
       "  </tbody>\n",
       "</table>\n",
       "</div>"
      ],
      "text/plain": [
       "Max_Load_Level  Green_Safe  Red_Max  Yellow_Reaching\n",
       "Time_Period                                         \n",
       "AM_UP                  632     4029              254\n",
       "Others                6166    12443             2401\n",
       "PM_DOWN                348     5563              181"
      ]
     },
     "execution_count": 26,
     "metadata": {},
     "output_type": "execute_result"
    }
   ],
   "source": [
    "import pandas as pd\n",
    "level_df = pd.read_csv('Load_Level_Nov.csv')\n",
    "\n",
    "ct = pd.crosstab(level_df['Time_Period'], \n",
    "            level_df['Max_Load_Level'])\n",
    "ct"
   ]
  },
  {
   "cell_type": "code",
   "execution_count": 28,
   "metadata": {
    "ExecuteTime": {
     "end_time": "2020-04-23T02:53:35.175090Z",
     "start_time": "2020-04-23T02:53:20.147018Z"
    }
   },
   "outputs": [
    {
     "data": {
      "text/plain": [
       "<matplotlib.axes._subplots.AxesSubplot at 0x2ba41f47c358>"
      ]
     },
     "execution_count": 28,
     "metadata": {},
     "output_type": "execute_result"
    },
    {
     "data": {
      "image/png": "[encoded data removed]",
      "text/plain": [
       "<Figure size 720x432 with 1 Axes>"
      ]
     },
     "metadata": {
      "needs_background": "light"
     },
     "output_type": "display_data"
    }
   ],
   "source": [
    "import seaborn as sns\n",
    "my_colors = ['g', 'r', 'y']\n",
    "ct.plot.bar(figsize=(10, 6), color=my_colors)"
   ]
  },
  {
   "cell_type": "code",
   "execution_count": null,
   "metadata": {},
   "outputs": [],
   "source": []
  }
 ],
 "metadata": {
  "kernelspec": {
   "display_name": "Python 3",
   "language": "python",
   "name": "python3"
  },
  "language_info": {
   "codemirror_mode": {
    "name": "ipython",
    "version": 3
   },
   "file_extension": ".py",
   "mimetype": "text/x-python",
   "name": "python",
   "nbconvert_exporter": "python",
   "pygments_lexer": "ipython3",
   "version": "3.6.8"
  },
  "toc": {
   "base_numbering": 1,
   "nav_menu": {},
   "number_sections": true,
   "sideBar": true,
   "skip_h1_title": false,
   "title_cell": "Table of Contents",
   "title_sidebar": "Contents",
   "toc_cell": false,
   "toc_position": {
    "height": "calc(100% - 180px)",
    "left": "10px",
    "top": "150px",
    "width": "261px"
   },
   "toc_section_display": true,
   "toc_window_display": true
  }
 },
 "nbformat": 4,
 "nbformat_minor": 2
}
